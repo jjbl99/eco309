{
 "cells": [
  {
   "cell_type": "markdown",
   "metadata": {},
   "source": [
    "# Markov Discrete Problems"
   ]
  },
  {
   "cell_type": "markdown",
   "metadata": {},
   "source": [
    "## Markov Chains"
   ]
  },
  {
   "cell_type": "markdown",
   "metadata": {},
   "source": [
    "A worker’s employment dynamics obey the stochastic matrix\n",
    "\n",
    "$$P = \\begin{bmatrix}\n",
    "1-\\alpha & \\alpha \\\\\n",
    "\\beta & 1-\\beta\n",
    "\\end{bmatrix}$$\n",
    "\n",
    "with $\\alpha\\in(0,1)$ and $\\beta\\in (0,1)$. First line corresponds to employment, second line to unemployment."
   ]
  },
  {
   "cell_type": "markdown",
   "metadata": {},
   "source": [
    "__Which is the stationary equilibrium?__"
   ]
  },
  {
   "cell_type": "markdown",
   "metadata": {},
   "source": [
    "We want a solution to $(P-I)\\mu' = 0$ but $P-I$ is not invertible `rank(P)=1` (since all the rows sum to 1).\n",
    "We need to add the condition $sum(\\mu)=1$. We can replace a column of P-I by ones, without losing any information."
   ]
  },
  {
   "cell_type": "markdown",
   "metadata": {},
   "source": [
    "$$P-I = \\begin{pmatrix} -\\alpha  & \\alpha \\\\ \\beta & 0-\\beta \\end{pmatrix}$$\n",
    "\n",
    "\n",
    "$$M = \\begin{pmatrix} 1 & \\alpha \\\\ 1 & 0-\\beta \\end{pmatrix}$$\n",
    "\n",
    "\n",
    "Stationary equilibrium $\\mu=(x, y)$ satisfies $\\mu'M=(1,0)$\n",
    "\n",
    "Some algebra to get: $x=\\frac{\\beta}{\\alpha+\\beta}$ and  $y=\\frac{\\alpha}{\\alpha+\\beta}$"
   ]
  },
  {
   "cell_type": "code",
   "execution_count": 1,
   "metadata": {},
   "outputs": [
    {
     "data": {
      "text/plain": [
       "0.1"
      ]
     },
     "execution_count": 1,
     "metadata": {},
     "output_type": "execute_result"
    }
   ],
   "source": [
    "α = β = 0.1"
   ]
  },
  {
   "cell_type": "code",
   "execution_count": null,
   "metadata": {},
   "outputs": [],
   "source": [
    "P = [1-α α ; β 1-β]"
   ]
  },
  {
   "cell_type": "code",
   "execution_count": null,
   "metadata": {},
   "outputs": [],
   "source": [
    "using LinearAlgebra # import I"
   ]
  },
  {
   "cell_type": "code",
   "execution_count": null,
   "metadata": {},
   "outputs": [],
   "source": [
    "M = P - I"
   ]
  },
  {
   "cell_type": "code",
   "execution_count": null,
   "metadata": {},
   "outputs": [],
   "source": [
    "M[:,1] .= 1.0"
   ]
  },
  {
   "cell_type": "code",
   "execution_count": null,
   "metadata": {},
   "outputs": [],
   "source": [
    "μ_0 = M' \\ [1,0]"
   ]
  },
  {
   "cell_type": "markdown",
   "metadata": {},
   "source": [
    "__In the long run, what will the the fraction $p$ of time spent unemployed? (Denote by $X_m$ the fraction of dates were one is unemployed)__"
   ]
  },
  {
   "cell_type": "markdown",
   "metadata": {},
   "source": [
    "$X_m = (\\sum_{m\\geq 0} 1_{E_t(2) > 0})/(m+1)$"
   ]
  },
  {
   "cell_type": "markdown",
   "metadata": {},
   "source": [
    "__Illustrate this convergence by generating a simulated series of length 10000 starting at $X_0=1$. Plot $X_m-p$ against $m$. (Take $\\alpha=\\beta=0.1$).__"
   ]
  },
  {
   "cell_type": "code",
   "execution_count": null,
   "metadata": {},
   "outputs": [],
   "source": [
    "cat = [Categorical(P[i,:]) for i=1:2]\n"
   ]
  },
  {
   "cell_type": "code",
   "execution_count": null,
   "metadata": {},
   "outputs": [],
   "source": [
    "function cumulative_time(;x_0=1, T=10000)\n",
    "    cumul = []\n",
    "    count = 0\n",
    "    cat = [Categorical(P[i,:]) for i=1:2]\n",
    "    for t=1:T\n",
    "        #draw according to distribution conditional on x_0\n",
    "        if x_0 == 2\n",
    "            count += 1\n",
    "        end\n",
    "        push!(cumul, count/(length(cumul)+1))\n",
    "        x_1 = rand(cat[x_0])\n",
    "        x_0 = x_1\n",
    "        \n",
    "    end\n",
    "    return cumul\n",
    "end"
   ]
  },
  {
   "cell_type": "code",
   "execution_count": null,
   "metadata": {},
   "outputs": [],
   "source": [
    "c_1 = cumulative_time(;x_0=1, T=100000) ;\n",
    "c_2 = cumulative_time(;x_0=2, T=100000) ;"
   ]
  },
  {
   "cell_type": "code",
   "execution_count": null,
   "metadata": {},
   "outputs": [],
   "source": [
    "using Plots"
   ]
  },
  {
   "cell_type": "code",
   "execution_count": null,
   "metadata": {},
   "outputs": [],
   "source": [
    "y = α/(α + β)"
   ]
  },
  {
   "cell_type": "code",
   "execution_count": null,
   "metadata": {},
   "outputs": [],
   "source": [
    "pl = plot(c_1)\n",
    "plot!(pl, c_2)"
   ]
  },
  {
   "cell_type": "markdown",
   "metadata": {},
   "source": [
    "## Mine management (from Compecon)\n",
    "\n",
    "A mine operator must decide how much ore to extract from a mine that will be shut down after $T$ years of operation.\n",
    "\n",
    "The price of extracted ore is $p$ dollars per ton in any year, and the total cost of extaction given that the mine contains $s$ tons at the beginning of the year is $c(s,x)$ dollars. \n",
    "\n",
    "The mine currently contains $s_0$ tons of ore. Assuming the amount of ore extracted in any year must be an integer number of tons, what extraction schedule maximizes profits? "
   ]
  },
  {
   "cell_type": "markdown",
   "metadata": {},
   "source": [
    "Calibration: $p=1$, initial stock $\\overline{s}=100$, cost of extraction $c(s,x)=\\frac{x^2}{1+s}$ and annual discount factor $\\delta=0.9$."
   ]
  },
  {
   "cell_type": "markdown",
   "metadata": {},
   "source": [
    "__Define kind of problem, the state space, the actions, the reward function, and the Bellman updating equation__"
   ]
  },
  {
   "cell_type": "markdown",
   "metadata": {},
   "source": [
    "- kind of problem:\n",
    "\n",
    "    - maximize profits: revenue - cost\n",
    "    - discrete state/discrete action\n",
    "    - finite horizon problem\n",
    "    \n",
    "- state-space: $(s, T-t)$\n",
    "- action: $x\\in[0,s]$\n",
    "- reward: $r(s,x) = p x - c(s,x)$\n",
    "- objective: $V(s_0) = \\sum_{t=0}^{T} \\delta^t r(s_t, x_t)$\n",
    "- Bellman:\n",
    "    $V(s, T-t) = \\max_{x \\in [0,s]} \\left[ r(s,x) + \\delta V(s-x, T-t-1) \\right]$"
   ]
  },
  {
   "cell_type": "markdown",
   "metadata": {},
   "source": [
    "__Solve the problem with the more adequate method__"
   ]
  },
  {
   "cell_type": "code",
   "execution_count": 4,
   "metadata": {},
   "outputs": [
    {
     "data": {
      "text/plain": [
       "0.9"
      ]
     },
     "execution_count": 4,
     "metadata": {},
     "output_type": "execute_result"
    }
   ],
   "source": [
    "p = 1\n",
    "s0 = 100\n",
    "c(s,x) = x^2/(1+s)\n",
    "r(s,x) = p*x - c(s,x)\n",
    "δ = 0.9"
   ]
  },
  {
   "cell_type": "code",
   "execution_count": 3,
   "metadata": {},
   "outputs": [],
   "source": [
    "# you can end up with s=0, 1, ... s0\n",
    "# in all states, the continuation value is 0\n",
    "V_T = zeros(s0+1);"
   ]
  },
  {
   "cell_type": "code",
   "execution_count": 11,
   "metadata": {},
   "outputs": [],
   "source": [
    "V_T1 = zeros(s0+1); # just to initialize\n",
    "for s in 0:(s0)\n",
    "#     for x in (0:s)\n",
    "#         # value of choosing x in state s\n",
    "#         v_x = r(s,x) + δ * V_T[1+s-x]\n",
    "#     end    \n",
    "    v_s = maximum( [r(s,x) + δ * V_T[1+s-x] for x in (0:s)] )\n",
    "    V_T1[1+s] = v_s\n",
    "end"
   ]
  },
  {
   "cell_type": "code",
   "execution_count": 12,
   "metadata": {},
   "outputs": [],
   "source": [
    "using PyPlot"
   ]
  },
  {
   "cell_type": "code",
   "execution_count": 14,
   "metadata": {},
   "outputs": [
    {
     "data": {
      "image/png": "[encoded data removed]",
      "text/plain": [
       "Figure(PyObject <Figure size 640x480 with 1 Axes>)"
      ]
     },
     "metadata": {},
     "output_type": "display_data"
    },
    {
     "data": {
      "text/plain": [
       "(0, 100)"
      ]
     },
     "execution_count": 14,
     "metadata": {},
     "output_type": "execute_result"
    }
   ],
   "source": [
    "plot(V_T1)\n",
    "ylim(0,100)"
   ]
  },
  {
   "cell_type": "code",
   "execution_count": 15,
   "metadata": {},
   "outputs": [
    {
     "data": {
      "text/plain": [
       "update (generic function with 1 method)"
      ]
     },
     "execution_count": 15,
     "metadata": {},
     "output_type": "execute_result"
    }
   ],
   "source": [
    "function update(V_t)\n",
    "    V_t_m1 = zeros(s0+1); # just to initialize\n",
    "    for s in 0:(s0)\n",
    "    #     for x in (0:s)\n",
    "    #         # value of choosing x in state s\n",
    "    #         v_x = r(s,x) + δ * V_T[1+s-x]\n",
    "    #     end    \n",
    "        v_s = maximum( [r(s,x) + δ * V_t[1+s-x] for x in (0:s)] )\n",
    "        V_t_m1[1+s] = v_s\n",
    "    end\n",
    "    return V_t_m1\n",
    "end"
   ]
  },
  {
   "cell_type": "code",
   "execution_count": 16,
   "metadata": {},
   "outputs": [],
   "source": [
    "T = 20\n",
    "values = [V_T]\n",
    "for t=1:T\n",
    "    push!(values, update(values[end]))\n",
    "end"
   ]
  },
  {
   "cell_type": "code",
   "execution_count": 17,
   "metadata": {},
   "outputs": [
    {
     "data": {
      "image/png": "[encoded data removed]",
      "text/plain": [
       "Figure(PyObject <Figure size 640x480 with 1 Axes>)"
      ]
     },
     "metadata": {},
     "output_type": "display_data"
    }
   ],
   "source": [
    "for v in values\n",
    "    plot(v)\n",
    "end"
   ]
  },
  {
   "cell_type": "code",
   "execution_count": 18,
   "metadata": {},
   "outputs": [
    {
     "data": {
      "text/plain": [
       "(0.1, 2)"
      ]
     },
     "execution_count": 18,
     "metadata": {},
     "output_type": "execute_result"
    }
   ],
   "source": [
    "# now we need to rewrite the update function to keep the decision rule\n",
    "findmax([0.0, 0.1])"
   ]
  },
  {
   "cell_type": "code",
   "execution_count": 41,
   "metadata": {},
   "outputs": [
    {
     "data": {
      "text/plain": [
       "2-element Array{Int64,1}:\n",
       " 0\n",
       " 0"
      ]
     },
     "execution_count": 41,
     "metadata": {},
     "output_type": "execute_result"
    }
   ],
   "source": [
    "zeros(Int64, 2)"
   ]
  },
  {
   "cell_type": "code",
   "execution_count": 42,
   "metadata": {},
   "outputs": [
    {
     "data": {
      "text/plain": [
       "update_2 (generic function with 1 method)"
      ]
     },
     "execution_count": 42,
     "metadata": {},
     "output_type": "execute_result"
    }
   ],
   "source": [
    "function update_2(V_t)\n",
    "    V_t_m1 = zeros(s0+1); # just to initialize\n",
    "    π_t_m1 = zeros(Int64, s0+1); # just to initialize\n",
    "    for s in 0:(s0)\n",
    "    #     for x in (0:s)\n",
    "    #         # value of choosing x in state s\n",
    "    #         v_x = r(s,x) + δ * V_T[1+s-x]\n",
    "    #     end    \n",
    "        v_s, i_s = findmax( [r(s,x) + δ * V_t[1+s-x] for x in (0:s)] )\n",
    "        V_t_m1[1+s] = v_s\n",
    "        π_t_m1[1+s] = i_s-1\n",
    "    end\n",
    "    return V_t_m1, π_t_m1\n",
    "end"
   ]
  },
  {
   "cell_type": "code",
   "execution_count": 43,
   "metadata": {},
   "outputs": [],
   "source": [
    "T = 20\n",
    "values = [V_T]\n",
    "policies = []\n",
    "for t=1:T\n",
    "    val, pol = update_2(values[end])\n",
    "    push!(values, val)\n",
    "    push!(policies, pol)\n",
    "end"
   ]
  },
  {
   "cell_type": "code",
   "execution_count": 44,
   "metadata": {},
   "outputs": [
    {
     "data": {
      "image/png": "[encoded data removed]",
      "text/plain": [
       "Figure(PyObject <Figure size 640x480 with 2 Axes>)"
      ]
     },
     "metadata": {},
     "output_type": "display_data"
    }
   ],
   "source": [
    "subplot(121)\n",
    "for (i,v) in enumerate(values)\n",
    "    plot(v, label=string(T-i))\n",
    "end\n",
    "legend(loc=\"upper left\")\n",
    "subplot(122)\n",
    "for p in policies\n",
    "    plot(p)\n",
    "end"
   ]
  },
  {
   "cell_type": "code",
   "execution_count": 45,
   "metadata": {},
   "outputs": [
    {
     "data": {
      "text/plain": [
       "simulate (generic function with 1 method)"
      ]
     },
     "execution_count": 45,
     "metadata": {},
     "output_type": "execute_result"
    }
   ],
   "source": [
    "function simulate(s0, T)\n",
    "    sim = []\n",
    "    s = s0\n",
    "    for t=0:T-1\n",
    "        x = policies[end-t][s]\n",
    "        push!(sim, x)\n",
    "        s = s - x\n",
    "    end\n",
    "    return sim\n",
    "end\n",
    "    "
   ]
  },
  {
   "cell_type": "code",
   "execution_count": 46,
   "metadata": {},
   "outputs": [
    {
     "data": {
      "text/plain": [
       "20-element Array{Any,1}:\n",
       " 24\n",
       " 18\n",
       " 14\n",
       " 10\n",
       "  8\n",
       "  6\n",
       "  5\n",
       "  3\n",
       "  3\n",
       "  2\n",
       "  2\n",
       "  1\n",
       "  1\n",
       "  1\n",
       "  1\n",
       "  0\n",
       "  0\n",
       "  0\n",
       "  0\n",
       "  0"
      ]
     },
     "execution_count": 46,
     "metadata": {},
     "output_type": "execute_result"
    }
   ],
   "source": [
    "sim = simulate(100, 20)"
   ]
  },
  {
   "cell_type": "code",
   "execution_count": 47,
   "metadata": {},
   "outputs": [
    {
     "data": {
      "image/png": "[encoded data removed]",
      "text/plain": [
       "Figure(PyObject <Figure size 640x480 with 1 Axes>)"
      ]
     },
     "metadata": {},
     "output_type": "display_data"
    },
    {
     "data": {
      "text/plain": [
       "1-element Array{PyCall.PyObject,1}:\n",
       " PyObject <matplotlib.lines.Line2D object at 0x7f44200c3d50>"
      ]
     },
     "execution_count": 47,
     "metadata": {},
     "output_type": "execute_result"
    }
   ],
   "source": [
    "plot(sim)"
   ]
  },
  {
   "cell_type": "markdown",
   "metadata": {},
   "source": [
    "## Asset replacement (from Compecon)\n",
    "\n",
    "At the beginning of each year, a manufacturer must decide whether to continue to operate an aging physical asset or replace it with a new one.\n",
    "\n",
    "An asset that is $a$ years old yields a profit contribution $p(a)$ up to $n$ years, at which point, the asset becomes unsafe and must be replaced by law.\n",
    "\n",
    "The cost of a new asset is $c$. What replacement policy maximizes profits?\n",
    "\n",
    "Calibration: profit $p(a)=50-2.5a-2.5a^2$. Maximum asset age: 5 years. Asset replacement cost: 75, annual discount factor $\\delta=0.9$."
   ]
  },
  {
   "cell_type": "markdown",
   "metadata": {},
   "source": [
    "__Define kind of problem, the state space, the actions, the reward function, and the Bellman updating equation__"
   ]
  },
  {
   "cell_type": "code",
   "execution_count": null,
   "metadata": {},
   "outputs": [],
   "source": []
  },
  {
   "cell_type": "markdown",
   "metadata": {},
   "source": [
    "__Solve the problem using Value Function Iteration__"
   ]
  },
  {
   "cell_type": "code",
   "execution_count": null,
   "metadata": {},
   "outputs": [],
   "source": []
  },
  {
   "cell_type": "markdown",
   "metadata": {},
   "source": [
    "__Solve the problem using Policy Iteration. Compare with VFI.__"
   ]
  },
  {
   "cell_type": "code",
   "execution_count": null,
   "metadata": {},
   "outputs": [],
   "source": []
  },
  {
   "cell_type": "markdown",
   "metadata": {},
   "source": [
    "## Water management (Compecon)\n",
    "\n",
    "Water from a reservoir can be used for either irrigation or recreation. Irrigatoin during the spring benefits farmers but reduces the reservoir level during the summer, damaging the interests of recreational users.\n",
    "\n",
    "Specifically, if the reservoir contains $s$ units of water at the beginning of the year and $x$ units are released for irrigation, farmer and recreational user benefits during the year will be $F(x)$ and $U(s-x)$, respectively.\n",
    "\n",
    "Reservoir levels are replenished by random rainfall during the winter. Specifically, it rains $k$ units with probability $p_k$ for$k=0,1,2, ...K$. The reservoir can hold only $M$ units of water, and excess rainfall flows out without benefit to either farmer or recreational user. \n",
    "\n",
    "What irrigation policy maximizes the sum of farmer and recreational user benfefits over an infinite time horizon?\n",
    "\n",
    "Calibration: $F(x)=\\alpha_1 x^{\\beta_1}$, $G(x)=\\alpha_2 (s-x)^{\\beta_2}$ where $\\alpha_1=14$, $\\beta_1=0.8$, $\\alpha_2=10$ and $\\beta_2=0.4$. Reservoir capacity: $M=30$ and discount factor $\\delta=0.9$. Probabilities that it rains 0,1,2,3,4 units: 0.1, 0.2, 0.4, 0.2 and 0.1."
   ]
  },
  {
   "cell_type": "markdown",
   "metadata": {},
   "source": [
    "__Define kind of problem, the state space, the actions, the reward function, and the Bellman updating equation__\n"
   ]
  },
  {
   "cell_type": "code",
   "execution_count": null,
   "metadata": {},
   "outputs": [],
   "source": []
  },
  {
   "cell_type": "markdown",
   "metadata": {},
   "source": [
    "__Solve the problem__"
   ]
  },
  {
   "cell_type": "code",
   "execution_count": null,
   "metadata": {},
   "outputs": [],
   "source": []
  },
  {
   "cell_type": "markdown",
   "metadata": {},
   "source": [
    "### Brock-Mirman Stochastic Growth model"
   ]
  },
  {
   "cell_type": "markdown",
   "metadata": {},
   "source": [
    "This is a neoclassical growth model with unpredictable shocks on productivity."
   ]
  },
  {
   "cell_type": "markdown",
   "metadata": {},
   "source": [
    "Social planner tries to solve:\n",
    "\n",
    "$$\\max E_t \\left[ \\sum_{n=0}^{\\infty} \\beta^n \\log C_{t+n} \\right]$$\n",
    "\n",
    "s.t.\n",
    "\n",
    "$$K_{t+1} = Y_t - C_t$$\n",
    "$$Y_{t+1} = A_{t+1}K_{t+1}^\\alpha$$\n",
    "\n",
    "where $A_t$ is the level of productivity in period $t$. \n",
    "It can take  values $A^h=1.05$ and $A^l=0.95$. The transition between these two states are given by the matrix:\n",
    "$$P = \\begin{bmatrix}\n",
    "0.9, 0.1\\\\\n",
    "0.1, 0.9\n",
    "\\end{bmatrix}$$"
   ]
  },
  {
   "cell_type": "markdown",
   "metadata": {},
   "source": [
    "__What are the states? What are the controls? Is it possible to bound them in a natural way? Propose a discretization scheme.__"
   ]
  },
  {
   "cell_type": "markdown",
   "metadata": {},
   "source": [
    "- states: $A_t$, $K_t$\n",
    "- actions: $C_t \\in [0, Y_t]$\n",
    "    - decision rule:  $C^h(K)$ and $C^l(K)$ "
   ]
  },
  {
   "cell_type": "markdown",
   "metadata": {},
   "source": [
    "- state: $N$ regularly spaced points between $K_{min}$ and $K_{max}$\n"
   ]
  },
  {
   "cell_type": "markdown",
   "metadata": {},
   "source": [
    "First order conditions:\n",
    "\n",
    "$$\\frac{1}{C_t} = \\beta E_t \\left[ \\frac{1}{C_{t+1}} A_{t+1} \\alpha K_{t+1}^{\\alpha-1} \\right]$$\n",
    "\n"
   ]
  },
  {
   "cell_type": "markdown",
   "metadata": {},
   "source": [
    "Steady_states if $A$ stays permanently at $A^i$:\n",
    "\n",
    "$C = Y-K = A^i K^{\\alpha} - K $\n",
    "\n",
    "Steady-state $K$ is pinned down by : \n",
    "\n",
    "$$\\frac{1}{ A^i K^{\\alpha} - K} = \\beta \\frac{1}{ A^i K^{\\alpha} - K} A^i \\alpha K^{\\alpha-1}$$\n",
    "\n",
    "$$K = \\left[\\frac{1}{\\beta \\alpha A^i}\\right]^{\\frac{1}{\\alpha-1}}$$"
   ]
  },
  {
   "cell_type": "markdown",
   "metadata": {},
   "source": [
    "We need $$K_{max} >  \\left[\\frac{1}{\\beta \\alpha A^h}\\right]^{\\frac{1}{\\alpha-1}}$$\n",
    "$$K_{min} < \\left[\\frac{1}{\\beta \\alpha A^l}\\right]^{\\frac{1}{\\alpha-1}}$$"
   ]
  },
  {
   "cell_type": "code",
   "execution_count": 13,
   "metadata": {},
   "outputs": [
    {
     "data": {
      "text/plain": [
       "0.10699294375094563:0.0012538405454583653:0.2311231577513238"
      ]
     },
     "execution_count": 13,
     "metadata": {},
     "output_type": "execute_result"
    }
   ],
   "source": [
    "α = 0.3 # labour share\n",
    "β = 0.96   ## 1/rf\n",
    "Ah = 1.05\n",
    "Al = 0.95\n",
    "K_max = (1/(β*α*Ah))^(1/(α-1))+0.05\n",
    "K_min = (1/(β*α*Al))^(1/(α-1))-0.05\n",
    "\n",
    "N = 100\n",
    "\n",
    "K_grid = range(K_min, K_max; length=N)     # linspace"
   ]
  },
  {
   "cell_type": "markdown",
   "metadata": {},
   "source": [
    "Bellman:\n",
    "\n",
    "$V(A, K) = \\max_{C(A,K)} \\log C(A,K) + \\beta E_t V(A', K')$\n",
    "\n",
    "Bellman update: given a guess $V_n$, define $V_{n+1}$\n",
    "\n",
    "$V_{n+1}(A, K) = \\max_{C(A,K)} \\log C(A,K) + \\beta E_t V_n(A', K')$"
   ]
  },
  {
   "cell_type": "code",
   "execution_count": 14,
   "metadata": {},
   "outputs": [
    {
     "data": {
      "text/plain": [
       "2-element Array{Array{Float64,1},1}:\n",
       " [0.0, 0.0, 0.0, 0.0, 0.0, 0.0, 0.0, 0.0, 0.0, 0.0  …  0.0, 0.0, 0.0, 0.0, 0.0, 0.0, 0.0, 0.0, 0.0, 0.0]\n",
       " [0.0, 0.0, 0.0, 0.0, 0.0, 0.0, 0.0, 0.0, 0.0, 0.0  …  0.0, 0.0, 0.0, 0.0, 0.0, 0.0, 0.0, 0.0, 0.0, 0.0]"
      ]
     },
     "execution_count": 14,
     "metadata": {},
     "output_type": "execute_result"
    }
   ],
   "source": [
    "V0 = [zeros(N), zeros(N)] # low state, high state"
   ]
  },
  {
   "cell_type": "code",
   "execution_count": 15,
   "metadata": {},
   "outputs": [
    {
     "data": {
      "text/plain": [
       "2×2 Array{Float64,2}:\n",
       " 0.9  0.1\n",
       " 0.1  0.9"
      ]
     },
     "execution_count": 15,
     "metadata": {},
     "output_type": "execute_result"
    }
   ],
   "source": [
    "A = [0.95, 1.05]\n",
    "Π = [0.9 0.1; 0.1 0.9]"
   ]
  },
  {
   "cell_type": "code",
   "execution_count": 16,
   "metadata": {},
   "outputs": [
    {
     "data": {
      "text/plain": [
       "Bellman_step_0 (generic function with 1 method)"
      ]
     },
     "execution_count": 16,
     "metadata": {},
     "output_type": "execute_result"
    }
   ],
   "source": [
    "function Bellman_step_0(V0)\n",
    "    V = deepcopy(V0)\n",
    "    for i=1:2\n",
    "        for (n,k) in enumerate(K_grid)\n",
    "            nn0 = -1\n",
    "            gv = -Inf\n",
    "            for (nn,kk) in enumerate(K_grid)\n",
    "                y = A[i]*k^α\n",
    "                c = y - kk\n",
    "                eV = Π[i,1] * V0[1][nn] +  Π[i, 2]*V0[2][nn]\n",
    "                v = log(c) + β * eV\n",
    "                if v > gv\n",
    "                    gv = v\n",
    "                    nn0 = nn\n",
    "                end\n",
    "            end\n",
    "            V[i][n] = gv\n",
    "        end\n",
    "    end\n",
    "    return V\n",
    "end"
   ]
  },
  {
   "cell_type": "code",
   "execution_count": 17,
   "metadata": {},
   "outputs": [
    {
     "data": {
      "text/plain": [
       "2"
      ]
     },
     "execution_count": 17,
     "metadata": {},
     "output_type": "execute_result"
    }
   ],
   "source": [
    "max(0,2)"
   ]
  },
  {
   "cell_type": "code",
   "execution_count": 18,
   "metadata": {},
   "outputs": [
    {
     "name": "stdout",
     "output_type": "stream",
     "text": [
      "SA: \t0.9705138055528969\tSA/SA(-1): 0.9705138055528969\n",
      "SA: \t0.9109975655763257\tSA/SA(-1): 0.9386755349217675\n",
      "SA: \t0.8586498354347234\tSA/SA(-1): 0.9425380131411377\n",
      "SA: \t0.8139300937521758\tSA/SA(-1): 0.9479185346143967\n",
      "SA: \t0.7742699457297864\tSA/SA(-1): 0.951273274785113\n",
      "SA: \t0.7381413002621686\tSA/SA(-1): 0.9533384374960276\n",
      "SA: \t0.7047402570525625\tSA/SA(-1): 0.9547497976366545\n",
      "SA: \t0.6735992699317093\tSA/SA(-1): 0.9558121069298718\n",
      "SA: \t0.6444011417627298\tSA/SA(-1): 0.9566535632202516\n",
      "SA: \t0.6168911592843846\tSA/SA(-1): 0.957309227598367\n",
      "SA: \t0.5908870349425728\tSA/SA(-1): 0.9578464953656046\n",
      "SA: \t0.5662312836892482\tSA/SA(-1): 0.9582733250261266\n",
      "SA: \t0.5427984628583076\tSA/SA(-1): 0.9586161670929493\n",
      "SA: \t0.520484744306847\tSA/SA(-1): 0.9588913379858164\n",
      "SA: \t0.49920318746606007\tSA/SA(-1): 0.9591120449281784\n",
      "SA: \t0.47888011565880184\tSA/SA(-1): 0.9592889782807327\n",
      "SA: \t0.45945231380342655\tSA/SA(-1): 0.9594307610190742\n",
      "SA: \t0.44086486657940327\tSA/SA(-1): 0.959544338627543\n",
      "SA: \t0.4230694875282204\tSA/SA(-1): 0.9596352977971362\n",
      "SA: \t0.40602322561709947\tSA/SA(-1): 0.959708127355831\n",
      "SA: \t0.38968746210154315\tSA/SA(-1): 0.9597664308717113\n",
      "SA: \t0.37402713072849103\tSA/SA(-1): 0.9598130992241896\n",
      "SA: \t0.3590101098406073\tSA/SA(-1): 0.959850450263768\n",
      "SA: \t0.34460674686106607\tSA/SA(-1): 0.9598803415705033\n",
      "SA: \t0.3307894847926409\tSA/SA(-1): 0.9599042613231371\n",
      "SA: \t0.3175325673959559\tSA/SA(-1): 0.9599234014195003\n",
      "SA: \t0.3048118051122941\tSA/SA(-1): 0.9599387162457598\n",
      "SA: \t0.29260438794435295\tSA/SA(-1): 0.9599509698666563\n",
      "SA: \t0.2808887346946509\tSA/SA(-1): 0.959960773889932\n",
      "SA: \t0.269644370408745\tSA/SA(-1): 0.959968617829656\n",
      "SA: \t0.2588518257506376\tSA/SA(-1): 0.9599748934429918\n",
      "SA: \t0.24849255348214427\tSA/SA(-1): 0.9599799142291049\n",
      "SA: \t0.23854885832771444\tSA/SA(-1): 0.9599839310470752\n",
      "SA: \t0.22900383735897734\tSA/SA(-1): 0.9599871446224894\n",
      "SA: \t0.21984132868845307\tSA/SA(-1): 0.9599897155602617\n",
      "SA: \t0.21104586676561965\tSA/SA(-1): 0.9599917723600649\n",
      "SA: \t0.2026026429555685\tSA/SA(-1): 0.9599934178316418\n",
      "SA: \t0.19449747037826626\tSA/SA(-1): 0.9599947342292087\n",
      "SA: \t0.18671675221536432\tSA/SA(-1): 0.959995787360269\n",
      "SA: \t0.17924745286765997\tSA/SA(-1): 0.9599966298734189\n",
      "SA: \t0.1720770714819757\tSA/SA(-1): 0.9599973038892875\n",
      "SA: \t0.16519361747058525\tSA/SA(-1): 0.95999784310537\n",
      "SA: \t0.15858558772693243\tSA/SA(-1): 0.9599982744803717\n",
      "SA: \t0.15224194530343738\tSA/SA(-1): 0.959998619581887\n",
      "SA: \t0.14615209936501827\tSA/SA(-1): 0.959998895663864\n",
      "SA: \t0.1403058862694344\tSA/SA(-1): 0.9599991165300827\n",
      "SA: \t0.13469355165374708\tSA/SA(-1): 0.959999293223452\n",
      "SA: \t0.12930573342894647\tSA/SA(-1): 0.9599994345783462\n",
      "SA: \t0.12413344560194162\tSA/SA(-1): 0.9599995476623856\n",
      "SA: \t0.11916806285766057\tSA/SA(-1): 0.9599996381297308\n",
      "SA: \t0.11440130584464114\tSA/SA(-1): 0.9599997105037023\n",
      "SA: \t0.10982522711584153\tSA/SA(-1): 0.9599997684028712\n",
      "SA: \t0.10543219768303658\tSA/SA(-1): 0.9599998147222472\n",
      "SA: \t0.10121489414832396\tSA/SA(-1): 0.9599998517778108\n",
      "SA: \t0.09716628638055269\tSA/SA(-1): 0.9599998814222115\n",
      "SA: \t0.09327962570791826\tSA/SA(-1): 0.9599999051377524\n",
      "SA: \t0.0895484336006298\tSA/SA(-1): 0.9599999241102045\n",
      "SA: \t0.08596649081994912\tSA/SA(-1): 0.9599999392881006\n",
      "SA: \t0.08252782701180905\tSA/SA(-1): 0.9599999514305858\n",
      "SA: \t0.07922671072466869\tSA/SA(-1): 0.9599999611444029\n",
      "SA: \t0.07605763983296043\tSA/SA(-1): 0.9599999689155149\n",
      "SA: \t0.07301533234827318\tSA/SA(-1): 0.959999975132428\n",
      "SA: \t0.07009471760176922\tSA/SA(-1): 0.9599999801059177\n",
      "SA: \t0.06729092778212475\tSA/SA(-1): 0.9599999840847679\n",
      "SA: \t0.06459928981407614\tSA/SA(-1): 0.9599999872677693\n",
      "SA: \t0.062015317563520966\tSA/SA(-1): 0.9599999898142513\n",
      "SA: \t0.059534704355641566\tSA/SA(-1): 0.9599999918513912\n",
      "SA: \t0.057153315793321724\tSA/SA(-1): 0.9599999934812109\n",
      "SA: \t0.05486718286352499\tSA/SA(-1): 0.9599999947848369\n",
      "SA: \t0.05267249532007057\tSA/SA(-1): 0.9599999958278627\n",
      "SA: \t0.05056559533146299\tSA/SA(-1): 0.9599999966623044\n",
      "SA: \t0.04854297138319197\tSA/SA(-1): 0.9599999973299533\n",
      "SA: \t0.046601252424171236\tSA/SA(-1): 0.9599999978638915\n",
      "SA: \t0.04473720224756761\tSA/SA(-1): 0.9599999982911022\n",
      "SA: \t0.04294771409650622\tSA/SA(-1): 0.9599999986329345\n",
      "SA: \t0.04122980548567767\tSA/SA(-1): 0.9599999989063842\n",
      "SA: \t0.03958061323017148\tSA/SA(-1): 0.9599999991249271\n",
      "SA: \t0.03799738867326141\tSA/SA(-1): 0.9599999993000814\n",
      "SA: \t0.03647749310505333\tSA/SA(-1): 0.9599999994400239\n",
      "SA: \t0.0350183933645134\tSA/SA(-1): 0.959999999552113\n",
      "SA: \t0.03361765761738056\tSA/SA(-1): 0.959999999641551\n",
      "SA: \t0.032272951303049524\tSA/SA(-1): 0.9599999997133705\n",
      "SA: \t0.030982033243521556\tSA/SA(-1): 0.9599999997705203\n",
      "SA: \t0.029742751908099052\tSA/SA(-1): 0.959999999816615\n",
      "SA: \t0.028553041827411363\tSA/SA(-1): 0.9599999998532843\n",
      "SA: \t0.027410920150963136\tSA/SA(-1): 0.9599999998826124\n",
      "SA: \t0.026314483342350314\tSA/SA(-1): 0.959999999906085\n",
      "SA: \t0.02526190400667616\tSA/SA(-1): 0.9599999999247509\n",
      "SA: \t0.024251427844887985\tSA/SA(-1): 0.9599999999397856\n",
      "SA: \t0.023281370729925754\tSA/SA(-1): 0.959999999951891\n",
      "SA: \t0.022350115899833156\tSA/SA(-1): 0.9599999999615328\n",
      "SA: \t0.021456111263148614\tSA/SA(-1): 0.9599999999690733\n",
      "SA: \t0.0205978668120963\tSA/SA(-1): 0.9599999999754676\n",
      "SA: \t0.01977395213921085\tSA/SA(-1): 0.9599999999805029\n",
      "SA: \t0.01898299405332793\tSA/SA(-1): 0.9599999999840959\n",
      "SA: \t0.018223674290954506\tSA/SA(-1): 0.959999999987341\n",
      "SA: \t0.017494727319135706\tSA/SA(-1): 0.9599999999900887\n",
      "SA: \t0.01679493822623357\tSA/SA(-1): 0.9599999999921858\n",
      "SA: \t0.016123140697075655\tSA/SA(-1): 0.9599999999935355\n",
      "SA: \t0.015478215069105516\tSA/SA(-1): 0.9599999999945971\n"
     ]
    }
   ],
   "source": [
    "T = 100\n",
    "values = [V0]\n",
    "ϵ_0 = 1.0\n",
    "for t=1:T\n",
    "    VV = values[end]\n",
    "    VVV = Bellman_step_0(VV)\n",
    "    D = VVV-VV\n",
    "    ϵ = max( maximum(u->abs(u), D[1]) ,  maximum(u->abs(u), D[2]) )\n",
    "    println(\"SA: \\t\", ϵ, \"\\tSA/SA(-1): \", ϵ/ϵ_0)\n",
    "    ϵ_0 = ϵ\n",
    "    push!(values, VVV)\n",
    "end"
   ]
  },
  {
   "cell_type": "markdown",
   "metadata": {},
   "source": [
    "It looks like the series converges at a geometric rate. Successive approximation arror decrease monotonically.\n",
    "From looking at the the right column, we get confirmation decay is geometric with rate 0.96, which is exactly\n",
    "what the theory tells us."
   ]
  },
  {
   "cell_type": "markdown",
   "metadata": {},
   "source": [
    "Let's look at the value function:"
   ]
  },
  {
   "cell_type": "code",
   "execution_count": 19,
   "metadata": {},
   "outputs": [
    {
     "data": {
      "image/svg+xml": [
       "<?xml version=\"1.0\" encoding=\"utf-8\"?>\n",
       "<svg xmlns=\"http://www.w3.org/2000/svg\" xmlns:xlink=\"http://www.w3.org/1999/xlink\" width=\"600\" height=\"400\" viewBox=\"0 0 2400 1600\">\n",
       "<defs>\n",
       "  <clipPath id=\"clip150\">\n",
       "    <rect x=\"0\" y=\"0\" width=\"2400\" height=\"1600\"/>\n",
       "  </clipPath>\n",
       "</defs>\n",
       "<path clip-path=\"url(#clip150)\" d=\"\n",
       "M0 1600 L2400 1600 L2400 0 L0 0  Z\n",
       "  \" fill=\"#ffffff\" fill-rule=\"evenodd\" fill-opacity=\"1\"/>\n",
       "<defs>\n",
       "  <clipPath id=\"clip151\">\n",
       "    <rect x=\"480\" y=\"0\" width=\"1681\" height=\"1600\"/>\n",
       "  </clipPath>\n",
       "</defs>\n",
       "<path clip-path=\"url(#clip150)\" d=\"\n",
       "M239.074 1435.5 L2352.76 1435.5 L2352.76 47.2441 L239.074 47.2441  Z\n",
       "  \" fill=\"#ffffff\" fill-rule=\"evenodd\" fill-opacity=\"1\"/>\n",
       "<defs>\n",
       "  <clipPath id=\"clip152\">\n",
       "    <rect x=\"239\" y=\"47\" width=\"2115\" height=\"1389\"/>\n",
       "  </clipPath>\n",
       "</defs>\n",
       "<polyline clip-path=\"url(#clip152)\" style=\"stroke:#000000; stroke-width:2; stroke-opacity:0.1; fill:none\" points=\"\n",
       "  588.162,1435.5 588.162,47.2441 \n",
       "  \"/>\n",
       "<polyline clip-path=\"url(#clip152)\" style=\"stroke:#000000; stroke-width:2; stroke-opacity:0.1; fill:none\" points=\"\n",
       "  989.765,1435.5 989.765,47.2441 \n",
       "  \"/>\n",
       "<polyline clip-path=\"url(#clip152)\" style=\"stroke:#000000; stroke-width:2; stroke-opacity:0.1; fill:none\" points=\"\n",
       "  1391.37,1435.5 1391.37,47.2441 \n",
       "  \"/>\n",
       "<polyline clip-path=\"url(#clip152)\" style=\"stroke:#000000; stroke-width:2; stroke-opacity:0.1; fill:none\" points=\"\n",
       "  1792.97,1435.5 1792.97,47.2441 \n",
       "  \"/>\n",
       "<polyline clip-path=\"url(#clip152)\" style=\"stroke:#000000; stroke-width:2; stroke-opacity:0.1; fill:none\" points=\"\n",
       "  2194.57,1435.5 2194.57,47.2441 \n",
       "  \"/>\n",
       "<polyline clip-path=\"url(#clip152)\" style=\"stroke:#000000; stroke-width:2; stroke-opacity:0.1; fill:none\" points=\"\n",
       "  239.074,1400.59 2352.76,1400.59 \n",
       "  \"/>\n",
       "<polyline clip-path=\"url(#clip152)\" style=\"stroke:#000000; stroke-width:2; stroke-opacity:0.1; fill:none\" points=\"\n",
       "  239.074,1119.06 2352.76,1119.06 \n",
       "  \"/>\n",
       "<polyline clip-path=\"url(#clip152)\" style=\"stroke:#000000; stroke-width:2; stroke-opacity:0.1; fill:none\" points=\"\n",
       "  239.074,837.536 2352.76,837.536 \n",
       "  \"/>\n",
       "<polyline clip-path=\"url(#clip152)\" style=\"stroke:#000000; stroke-width:2; stroke-opacity:0.1; fill:none\" points=\"\n",
       "  239.074,556.011 2352.76,556.011 \n",
       "  \"/>\n",
       "<polyline clip-path=\"url(#clip152)\" style=\"stroke:#000000; stroke-width:2; stroke-opacity:0.1; fill:none\" points=\"\n",
       "  239.074,274.485 2352.76,274.485 \n",
       "  \"/>\n",
       "<polyline clip-path=\"url(#clip150)\" style=\"stroke:#000000; stroke-width:4; stroke-opacity:1; fill:none\" points=\"\n",
       "  239.074,1435.5 2352.76,1435.5 \n",
       "  \"/>\n",
       "<polyline clip-path=\"url(#clip150)\" style=\"stroke:#000000; stroke-width:4; stroke-opacity:1; fill:none\" points=\"\n",
       "  239.074,1435.5 239.074,47.2441 \n",
       "  \"/>\n",
       "<polyline clip-path=\"url(#clip150)\" style=\"stroke:#000000; stroke-width:4; stroke-opacity:1; fill:none\" points=\"\n",
       "  588.162,1435.5 588.162,1418.84 \n",
       "  \"/>\n",
       "<polyline clip-path=\"url(#clip150)\" style=\"stroke:#000000; stroke-width:4; stroke-opacity:1; fill:none\" points=\"\n",
       "  989.765,1435.5 989.765,1418.84 \n",
       "  \"/>\n",
       "<polyline clip-path=\"url(#clip150)\" style=\"stroke:#000000; stroke-width:4; stroke-opacity:1; fill:none\" points=\"\n",
       "  1391.37,1435.5 1391.37,1418.84 \n",
       "  \"/>\n",
       "<polyline clip-path=\"url(#clip150)\" style=\"stroke:#000000; stroke-width:4; stroke-opacity:1; fill:none\" points=\"\n",
       "  1792.97,1435.5 1792.97,1418.84 \n",
       "  \"/>\n",
       "<polyline clip-path=\"url(#clip150)\" style=\"stroke:#000000; stroke-width:4; stroke-opacity:1; fill:none\" points=\"\n",
       "  2194.57,1435.5 2194.57,1418.84 \n",
       "  \"/>\n",
       "<polyline clip-path=\"url(#clip150)\" style=\"stroke:#000000; stroke-width:4; stroke-opacity:1; fill:none\" points=\"\n",
       "  239.074,1400.59 264.438,1400.59 \n",
       "  \"/>\n",
       "<polyline clip-path=\"url(#clip150)\" style=\"stroke:#000000; stroke-width:4; stroke-opacity:1; fill:none\" points=\"\n",
       "  239.074,1119.06 264.438,1119.06 \n",
       "  \"/>\n",
       "<polyline clip-path=\"url(#clip150)\" style=\"stroke:#000000; stroke-width:4; stroke-opacity:1; fill:none\" points=\"\n",
       "  239.074,837.536 264.438,837.536 \n",
       "  \"/>\n",
       "<polyline clip-path=\"url(#clip150)\" style=\"stroke:#000000; stroke-width:4; stroke-opacity:1; fill:none\" points=\"\n",
       "  239.074,556.011 264.438,556.011 \n",
       "  \"/>\n",
       "<polyline clip-path=\"url(#clip150)\" style=\"stroke:#000000; stroke-width:4; stroke-opacity:1; fill:none\" points=\"\n",
       "  239.074,274.485 264.438,274.485 \n",
       "  \"/>\n",
       "<path clip-path=\"url(#clip150)\" d=\"M 0 0 M544.574 1457.49 Q540.963 1457.49 539.135 1461.06 Q537.329 1464.6 537.329 1471.73 Q537.329 1478.83 539.135 1482.4 Q540.963 1485.94 544.574 1485.94 Q548.209 1485.94 550.014 1482.4 Q551.843 1478.83 551.843 1471.73 Q551.843 1464.6 550.014 1461.06 Q548.209 1457.49 544.574 1457.49 M544.574 1453.79 Q550.385 1453.79 553.44 1458.39 Q556.519 1462.98 556.519 1471.73 Q556.519 1480.45 553.44 1485.06 Q550.385 1489.64 544.574 1489.64 Q538.764 1489.64 535.686 1485.06 Q532.63 1480.45 532.63 1471.73 Q532.63 1462.98 535.686 1458.39 Q538.764 1453.79 544.574 1453.79 Z\" fill=\"#000000\" fill-rule=\"evenodd\" fill-opacity=\"1\" /><path clip-path=\"url(#clip150)\" d=\"M 0 0 M561.588 1483.09 L566.472 1483.09 L566.472 1488.97 L561.588 1488.97 L561.588 1483.09 Z\" fill=\"#000000\" fill-rule=\"evenodd\" fill-opacity=\"1\" /><path clip-path=\"url(#clip150)\" d=\"M 0 0 M572.352 1485.04 L579.991 1485.04 L579.991 1458.67 L571.681 1460.34 L571.681 1456.08 L579.945 1454.41 L584.62 1454.41 L584.62 1485.04 L592.259 1485.04 L592.259 1488.97 L572.352 1488.97 L572.352 1485.04 Z\" fill=\"#000000\" fill-rule=\"evenodd\" fill-opacity=\"1\" /><path clip-path=\"url(#clip150)\" d=\"M 0 0 M601.357 1485.04 L617.676 1485.04 L617.676 1488.97 L595.732 1488.97 L595.732 1485.04 Q598.394 1482.28 602.977 1477.65 Q607.583 1473 608.764 1471.66 Q611.009 1469.13 611.889 1467.4 Q612.792 1465.64 612.792 1463.95 Q612.792 1461.19 610.847 1459.46 Q608.926 1457.72 605.824 1457.72 Q603.625 1457.72 601.171 1458.49 Q598.741 1459.25 595.963 1460.8 L595.963 1456.08 Q598.787 1454.94 601.241 1454.37 Q603.694 1453.79 605.731 1453.79 Q611.102 1453.79 614.296 1456.47 Q617.491 1459.16 617.491 1463.65 Q617.491 1465.78 616.681 1467.7 Q615.893 1469.6 613.787 1472.19 Q613.208 1472.86 610.106 1476.08 Q607.005 1479.27 601.357 1485.04 Z\" fill=\"#000000\" fill-rule=\"evenodd\" fill-opacity=\"1\" /><path clip-path=\"url(#clip150)\" d=\"M 0 0 M622.792 1454.41 L641.148 1454.41 L641.148 1458.35 L627.074 1458.35 L627.074 1466.82 Q628.092 1466.47 629.111 1466.31 Q630.13 1466.12 631.148 1466.12 Q636.935 1466.12 640.315 1469.3 Q643.694 1472.47 643.694 1477.88 Q643.694 1483.46 640.222 1486.56 Q636.75 1489.64 630.43 1489.64 Q628.255 1489.64 625.986 1489.27 Q623.741 1488.9 621.333 1488.16 L621.333 1483.46 Q623.417 1484.6 625.639 1485.15 Q627.861 1485.71 630.338 1485.71 Q634.342 1485.71 636.68 1483.6 Q639.018 1481.5 639.018 1477.88 Q639.018 1474.27 636.68 1472.17 Q634.342 1470.06 630.338 1470.06 Q628.463 1470.06 626.588 1470.48 Q624.736 1470.89 622.792 1471.77 L622.792 1454.41 Z\" fill=\"#000000\" fill-rule=\"evenodd\" fill-opacity=\"1\" /><path clip-path=\"url(#clip150)\" d=\"M 0 0 M945.378 1457.49 Q941.767 1457.49 939.938 1461.06 Q938.133 1464.6 938.133 1471.73 Q938.133 1478.83 939.938 1482.4 Q941.767 1485.94 945.378 1485.94 Q949.012 1485.94 950.818 1482.4 Q952.647 1478.83 952.647 1471.73 Q952.647 1464.6 950.818 1461.06 Q949.012 1457.49 945.378 1457.49 M945.378 1453.79 Q951.188 1453.79 954.244 1458.39 Q957.323 1462.98 957.323 1471.73 Q957.323 1480.45 954.244 1485.06 Q951.188 1489.64 945.378 1489.64 Q939.568 1489.64 936.489 1485.06 Q933.434 1480.45 933.434 1471.73 Q933.434 1462.98 936.489 1458.39 Q939.568 1453.79 945.378 1453.79 Z\" fill=\"#000000\" fill-rule=\"evenodd\" fill-opacity=\"1\" /><path clip-path=\"url(#clip150)\" d=\"M 0 0 M962.392 1483.09 L967.276 1483.09 L967.276 1488.97 L962.392 1488.97 L962.392 1483.09 Z\" fill=\"#000000\" fill-rule=\"evenodd\" fill-opacity=\"1\" /><path clip-path=\"url(#clip150)\" d=\"M 0 0 M973.156 1485.04 L980.795 1485.04 L980.795 1458.67 L972.485 1460.34 L972.485 1456.08 L980.748 1454.41 L985.424 1454.41 L985.424 1485.04 L993.063 1485.04 L993.063 1488.97 L973.156 1488.97 L973.156 1485.04 Z\" fill=\"#000000\" fill-rule=\"evenodd\" fill-opacity=\"1\" /><path clip-path=\"url(#clip150)\" d=\"M 0 0 M998.179 1454.41 L1016.54 1454.41 L1016.54 1458.35 L1002.46 1458.35 L1002.46 1466.82 Q1003.48 1466.47 1004.5 1466.31 Q1005.52 1466.12 1006.54 1466.12 Q1012.32 1466.12 1015.7 1469.3 Q1019.08 1472.47 1019.08 1477.88 Q1019.08 1483.46 1015.61 1486.56 Q1012.14 1489.64 1005.82 1489.64 Q1003.64 1489.64 1001.37 1489.27 Q999.128 1488.9 996.721 1488.16 L996.721 1483.46 Q998.804 1484.6 1001.03 1485.15 Q1003.25 1485.71 1005.73 1485.71 Q1009.73 1485.71 1012.07 1483.6 Q1014.41 1481.5 1014.41 1477.88 Q1014.41 1474.27 1012.07 1472.17 Q1009.73 1470.06 1005.73 1470.06 Q1003.85 1470.06 1001.98 1470.48 Q1000.12 1470.89 998.179 1471.77 L998.179 1454.41 Z\" fill=\"#000000\" fill-rule=\"evenodd\" fill-opacity=\"1\" /><path clip-path=\"url(#clip150)\" d=\"M 0 0 M1034.15 1457.49 Q1030.54 1457.49 1028.71 1461.06 Q1026.91 1464.6 1026.91 1471.73 Q1026.91 1478.83 1028.71 1482.4 Q1030.54 1485.94 1034.15 1485.94 Q1037.79 1485.94 1039.59 1482.4 Q1041.42 1478.83 1041.42 1471.73 Q1041.42 1464.6 1039.59 1461.06 Q1037.79 1457.49 1034.15 1457.49 M1034.15 1453.79 Q1039.96 1453.79 1043.02 1458.39 Q1046.1 1462.98 1046.1 1471.73 Q1046.1 1480.45 1043.02 1485.06 Q1039.96 1489.64 1034.15 1489.64 Q1028.34 1489.64 1025.26 1485.06 Q1022.21 1480.45 1022.21 1471.73 Q1022.21 1462.98 1025.26 1458.39 Q1028.34 1453.79 1034.15 1453.79 Z\" fill=\"#000000\" fill-rule=\"evenodd\" fill-opacity=\"1\" /><path clip-path=\"url(#clip150)\" d=\"M 0 0 M1347.43 1457.49 Q1343.82 1457.49 1341.99 1461.06 Q1340.19 1464.6 1340.19 1471.73 Q1340.19 1478.83 1341.99 1482.4 Q1343.82 1485.94 1347.43 1485.94 Q1351.07 1485.94 1352.87 1482.4 Q1354.7 1478.83 1354.7 1471.73 Q1354.7 1464.6 1352.87 1461.06 Q1351.07 1457.49 1347.43 1457.49 M1347.43 1453.79 Q1353.24 1453.79 1356.3 1458.39 Q1359.38 1462.98 1359.38 1471.73 Q1359.38 1480.45 1356.3 1485.06 Q1353.24 1489.64 1347.43 1489.64 Q1341.62 1489.64 1338.54 1485.06 Q1335.49 1480.45 1335.49 1471.73 Q1335.49 1462.98 1338.54 1458.39 Q1341.62 1453.79 1347.43 1453.79 Z\" fill=\"#000000\" fill-rule=\"evenodd\" fill-opacity=\"1\" /><path clip-path=\"url(#clip150)\" d=\"M 0 0 M1364.45 1483.09 L1369.33 1483.09 L1369.33 1488.97 L1364.45 1488.97 L1364.45 1483.09 Z\" fill=\"#000000\" fill-rule=\"evenodd\" fill-opacity=\"1\" /><path clip-path=\"url(#clip150)\" d=\"M 0 0 M1375.21 1485.04 L1382.85 1485.04 L1382.85 1458.67 L1374.54 1460.34 L1374.54 1456.08 L1382.8 1454.41 L1387.48 1454.41 L1387.48 1485.04 L1395.12 1485.04 L1395.12 1488.97 L1375.21 1488.97 L1375.21 1485.04 Z\" fill=\"#000000\" fill-rule=\"evenodd\" fill-opacity=\"1\" /><path clip-path=\"url(#clip150)\" d=\"M 0 0 M1399.01 1454.41 L1421.23 1454.41 L1421.23 1456.4 L1408.68 1488.97 L1403.8 1488.97 L1415.6 1458.35 L1399.01 1458.35 L1399.01 1454.41 Z\" fill=\"#000000\" fill-rule=\"evenodd\" fill-opacity=\"1\" /><path clip-path=\"url(#clip150)\" d=\"M 0 0 M1426.34 1454.41 L1444.7 1454.41 L1444.7 1458.35 L1430.63 1458.35 L1430.63 1466.82 Q1431.64 1466.47 1432.66 1466.31 Q1433.68 1466.12 1434.7 1466.12 Q1440.49 1466.12 1443.87 1469.3 Q1447.25 1472.47 1447.25 1477.88 Q1447.25 1483.46 1443.77 1486.56 Q1440.3 1489.64 1433.98 1489.64 Q1431.81 1489.64 1429.54 1489.27 Q1427.29 1488.9 1424.89 1488.16 L1424.89 1483.46 Q1426.97 1484.6 1429.19 1485.15 Q1431.41 1485.71 1433.89 1485.71 Q1437.89 1485.71 1440.23 1483.6 Q1442.57 1481.5 1442.57 1477.88 Q1442.57 1474.27 1440.23 1472.17 Q1437.89 1470.06 1433.89 1470.06 Q1432.01 1470.06 1430.14 1470.48 Q1428.29 1470.89 1426.34 1471.77 L1426.34 1454.41 Z\" fill=\"#000000\" fill-rule=\"evenodd\" fill-opacity=\"1\" /><path clip-path=\"url(#clip150)\" d=\"M 0 0 M1748.27 1457.49 Q1744.66 1457.49 1742.83 1461.06 Q1741.03 1464.6 1741.03 1471.73 Q1741.03 1478.83 1742.83 1482.4 Q1744.66 1485.94 1748.27 1485.94 Q1751.9 1485.94 1753.71 1482.4 Q1755.54 1478.83 1755.54 1471.73 Q1755.54 1464.6 1753.71 1461.06 Q1751.9 1457.49 1748.27 1457.49 M1748.27 1453.79 Q1754.08 1453.79 1757.14 1458.39 Q1760.21 1462.98 1760.21 1471.73 Q1760.21 1480.45 1757.14 1485.06 Q1754.08 1489.64 1748.27 1489.64 Q1742.46 1489.64 1739.38 1485.06 Q1736.33 1480.45 1736.33 1471.73 Q1736.33 1462.98 1739.38 1458.39 Q1742.46 1453.79 1748.27 1453.79 Z\" fill=\"#000000\" fill-rule=\"evenodd\" fill-opacity=\"1\" /><path clip-path=\"url(#clip150)\" d=\"M 0 0 M1765.28 1483.09 L1770.17 1483.09 L1770.17 1488.97 L1765.28 1488.97 L1765.28 1483.09 Z\" fill=\"#000000\" fill-rule=\"evenodd\" fill-opacity=\"1\" /><path clip-path=\"url(#clip150)\" d=\"M 0 0 M1779.27 1485.04 L1795.59 1485.04 L1795.59 1488.97 L1773.64 1488.97 L1773.64 1485.04 Q1776.3 1482.28 1780.89 1477.65 Q1785.49 1473 1786.67 1471.66 Q1788.92 1469.13 1789.8 1467.4 Q1790.7 1465.64 1790.7 1463.95 Q1790.7 1461.19 1788.76 1459.46 Q1786.84 1457.72 1783.73 1457.72 Q1781.53 1457.72 1779.08 1458.49 Q1776.65 1459.25 1773.87 1460.8 L1773.87 1456.08 Q1776.7 1454.94 1779.15 1454.37 Q1781.6 1453.79 1783.64 1453.79 Q1789.01 1453.79 1792.21 1456.47 Q1795.4 1459.16 1795.4 1463.65 Q1795.4 1465.78 1794.59 1467.7 Q1793.8 1469.6 1791.7 1472.19 Q1791.12 1472.86 1788.02 1476.08 Q1784.91 1479.27 1779.27 1485.04 Z\" fill=\"#000000\" fill-rule=\"evenodd\" fill-opacity=\"1\" /><path clip-path=\"url(#clip150)\" d=\"M 0 0 M1810.65 1457.49 Q1807.04 1457.49 1805.21 1461.06 Q1803.41 1464.6 1803.41 1471.73 Q1803.41 1478.83 1805.21 1482.4 Q1807.04 1485.94 1810.65 1485.94 Q1814.29 1485.94 1816.09 1482.4 Q1817.92 1478.83 1817.92 1471.73 Q1817.92 1464.6 1816.09 1461.06 Q1814.29 1457.49 1810.65 1457.49 M1810.65 1453.79 Q1816.46 1453.79 1819.52 1458.39 Q1822.6 1462.98 1822.6 1471.73 Q1822.6 1480.45 1819.52 1485.06 Q1816.46 1489.64 1810.65 1489.64 Q1804.84 1489.64 1801.77 1485.06 Q1798.71 1480.45 1798.71 1471.73 Q1798.71 1462.98 1801.77 1458.39 Q1804.84 1453.79 1810.65 1453.79 Z\" fill=\"#000000\" fill-rule=\"evenodd\" fill-opacity=\"1\" /><path clip-path=\"url(#clip150)\" d=\"M 0 0 M1837.67 1457.49 Q1834.06 1457.49 1832.23 1461.06 Q1830.42 1464.6 1830.42 1471.73 Q1830.42 1478.83 1832.23 1482.4 Q1834.06 1485.94 1837.67 1485.94 Q1841.3 1485.94 1843.11 1482.4 Q1844.94 1478.83 1844.94 1471.73 Q1844.94 1464.6 1843.11 1461.06 Q1841.3 1457.49 1837.67 1457.49 M1837.67 1453.79 Q1843.48 1453.79 1846.53 1458.39 Q1849.61 1462.98 1849.61 1471.73 Q1849.61 1480.45 1846.53 1485.06 Q1843.48 1489.64 1837.67 1489.64 Q1831.86 1489.64 1828.78 1485.06 Q1825.72 1480.45 1825.72 1471.73 Q1825.72 1462.98 1828.78 1458.39 Q1831.86 1453.79 1837.67 1453.79 Z\" fill=\"#000000\" fill-rule=\"evenodd\" fill-opacity=\"1\" /><path clip-path=\"url(#clip150)\" d=\"M 0 0 M2151.17 1457.49 Q2147.56 1457.49 2145.73 1461.06 Q2143.92 1464.6 2143.92 1471.73 Q2143.92 1478.83 2145.73 1482.4 Q2147.56 1485.94 2151.17 1485.94 Q2154.8 1485.94 2156.61 1482.4 Q2158.44 1478.83 2158.44 1471.73 Q2158.44 1464.6 2156.61 1461.06 Q2154.8 1457.49 2151.17 1457.49 M2151.17 1453.79 Q2156.98 1453.79 2160.03 1458.39 Q2163.11 1462.98 2163.11 1471.73 Q2163.11 1480.45 2160.03 1485.06 Q2156.98 1489.64 2151.17 1489.64 Q2145.36 1489.64 2142.28 1485.06 Q2139.22 1480.45 2139.22 1471.73 Q2139.22 1462.98 2142.28 1458.39 Q2145.36 1453.79 2151.17 1453.79 Z\" fill=\"#000000\" fill-rule=\"evenodd\" fill-opacity=\"1\" /><path clip-path=\"url(#clip150)\" d=\"M 0 0 M2168.18 1483.09 L2173.07 1483.09 L2173.07 1488.97 L2168.18 1488.97 L2168.18 1483.09 Z\" fill=\"#000000\" fill-rule=\"evenodd\" fill-opacity=\"1\" /><path clip-path=\"url(#clip150)\" d=\"M 0 0 M2182.16 1485.04 L2198.48 1485.04 L2198.48 1488.97 L2176.54 1488.97 L2176.54 1485.04 Q2179.2 1482.28 2183.78 1477.65 Q2188.39 1473 2189.57 1471.66 Q2191.82 1469.13 2192.7 1467.4 Q2193.6 1465.64 2193.6 1463.95 Q2193.6 1461.19 2191.66 1459.46 Q2189.73 1457.72 2186.63 1457.72 Q2184.43 1457.72 2181.98 1458.49 Q2179.55 1459.25 2176.77 1460.8 L2176.77 1456.08 Q2179.59 1454.94 2182.05 1454.37 Q2184.5 1453.79 2186.54 1453.79 Q2191.91 1453.79 2195.1 1456.47 Q2198.3 1459.16 2198.3 1463.65 Q2198.3 1465.78 2197.49 1467.7 Q2196.7 1469.6 2194.59 1472.19 Q2194.02 1472.86 2190.91 1476.08 Q2187.81 1479.27 2182.16 1485.04 Z\" fill=\"#000000\" fill-rule=\"evenodd\" fill-opacity=\"1\" /><path clip-path=\"url(#clip150)\" d=\"M 0 0 M2207.58 1485.04 L2223.9 1485.04 L2223.9 1488.97 L2201.96 1488.97 L2201.96 1485.04 Q2204.62 1482.28 2209.2 1477.65 Q2213.81 1473 2214.99 1471.66 Q2217.23 1469.13 2218.11 1467.4 Q2219.02 1465.64 2219.02 1463.95 Q2219.02 1461.19 2217.07 1459.46 Q2215.15 1457.72 2212.05 1457.72 Q2209.85 1457.72 2207.4 1458.49 Q2204.97 1459.25 2202.19 1460.8 L2202.19 1456.08 Q2205.01 1454.94 2207.47 1454.37 Q2209.92 1453.79 2211.96 1453.79 Q2217.33 1453.79 2220.52 1456.47 Q2223.72 1459.16 2223.72 1463.65 Q2223.72 1465.78 2222.9 1467.7 Q2222.12 1469.6 2220.01 1472.19 Q2219.43 1472.86 2216.33 1476.08 Q2213.23 1479.27 2207.58 1485.04 Z\" fill=\"#000000\" fill-rule=\"evenodd\" fill-opacity=\"1\" /><path clip-path=\"url(#clip150)\" d=\"M 0 0 M2229.02 1454.41 L2247.37 1454.41 L2247.37 1458.35 L2233.3 1458.35 L2233.3 1466.82 Q2234.32 1466.47 2235.34 1466.31 Q2236.35 1466.12 2237.37 1466.12 Q2243.16 1466.12 2246.54 1469.3 Q2249.92 1472.47 2249.92 1477.88 Q2249.92 1483.46 2246.45 1486.56 Q2242.97 1489.64 2236.65 1489.64 Q2234.48 1489.64 2232.21 1489.27 Q2229.97 1488.9 2227.56 1488.16 L2227.56 1483.46 Q2229.64 1484.6 2231.86 1485.15 Q2234.09 1485.71 2236.56 1485.71 Q2240.57 1485.71 2242.9 1483.6 Q2245.24 1481.5 2245.24 1477.88 Q2245.24 1474.27 2242.9 1472.17 Q2240.57 1470.06 2236.56 1470.06 Q2234.69 1470.06 2232.81 1470.48 Q2230.96 1470.89 2229.02 1471.77 L2229.02 1454.41 Z\" fill=\"#000000\" fill-rule=\"evenodd\" fill-opacity=\"1\" /><path clip-path=\"url(#clip150)\" d=\"M 0 0 M114.797 1402.98 L127.273 1402.98 L127.273 1406.78 L114.797 1406.78 L114.797 1402.98 Z\" fill=\"#000000\" fill-rule=\"evenodd\" fill-opacity=\"1\" /><path clip-path=\"url(#clip150)\" d=\"M 0 0 M136.371 1413.93 L152.69 1413.93 L152.69 1417.87 L130.746 1417.87 L130.746 1413.93 Q133.408 1411.18 137.991 1406.55 Q142.597 1401.9 143.778 1400.55 Q146.023 1398.03 146.903 1396.29 Q147.806 1394.53 147.806 1392.84 Q147.806 1390.09 145.861 1388.35 Q143.94 1386.62 140.838 1386.62 Q138.639 1386.62 136.185 1387.38 Q133.755 1388.15 130.977 1389.7 L130.977 1384.97 Q133.801 1383.84 136.255 1383.26 Q138.709 1382.68 140.746 1382.68 Q146.116 1382.68 149.31 1385.37 Q152.505 1388.05 152.505 1392.54 Q152.505 1394.67 151.695 1396.59 Q150.908 1398.49 148.801 1401.08 Q148.222 1401.76 145.121 1404.97 Q142.019 1408.17 136.371 1413.93 Z\" fill=\"#000000\" fill-rule=\"evenodd\" fill-opacity=\"1\" /><path clip-path=\"url(#clip150)\" d=\"M 0 0 M161.787 1413.93 L178.106 1413.93 L178.106 1417.87 L156.162 1417.87 L156.162 1413.93 Q158.824 1411.18 163.407 1406.55 Q168.014 1401.9 169.194 1400.55 Q171.44 1398.03 172.319 1396.29 Q173.222 1394.53 173.222 1392.84 Q173.222 1390.09 171.278 1388.35 Q169.357 1386.62 166.255 1386.62 Q164.056 1386.62 161.602 1387.38 Q159.171 1388.15 156.394 1389.7 L156.394 1384.97 Q159.218 1383.84 161.671 1383.26 Q164.125 1382.68 166.162 1382.68 Q171.532 1382.68 174.727 1385.37 Q177.921 1388.05 177.921 1392.54 Q177.921 1394.67 177.111 1396.59 Q176.324 1398.49 174.218 1401.08 Q173.639 1401.76 170.537 1404.97 Q167.435 1408.17 161.787 1413.93 Z\" fill=\"#000000\" fill-rule=\"evenodd\" fill-opacity=\"1\" /><path clip-path=\"url(#clip150)\" d=\"M 0 0 M183.176 1411.99 L188.06 1411.99 L188.06 1417.87 L183.176 1417.87 L183.176 1411.99 Z\" fill=\"#000000\" fill-rule=\"evenodd\" fill-opacity=\"1\" /><path clip-path=\"url(#clip150)\" d=\"M 0 0 M203.129 1386.39 Q199.518 1386.39 197.69 1389.95 Q195.884 1393.49 195.884 1400.62 Q195.884 1407.73 197.69 1411.29 Q199.518 1414.83 203.129 1414.83 Q206.764 1414.83 208.569 1411.29 Q210.398 1407.73 210.398 1400.62 Q210.398 1393.49 208.569 1389.95 Q206.764 1386.39 203.129 1386.39 M203.129 1382.68 Q208.94 1382.68 211.995 1387.29 Q215.074 1391.87 215.074 1400.62 Q215.074 1409.35 211.995 1413.96 Q208.94 1418.54 203.129 1418.54 Q197.319 1418.54 194.241 1413.96 Q191.185 1409.35 191.185 1400.62 Q191.185 1391.87 194.241 1387.29 Q197.319 1382.68 203.129 1382.68 Z\" fill=\"#000000\" fill-rule=\"evenodd\" fill-opacity=\"1\" /><path clip-path=\"url(#clip150)\" d=\"M 0 0 M114.519 1121.46 L126.996 1121.46 L126.996 1125.25 L114.519 1125.25 L114.519 1121.46 Z\" fill=\"#000000\" fill-rule=\"evenodd\" fill-opacity=\"1\" /><path clip-path=\"url(#clip150)\" d=\"M 0 0 M136.093 1132.41 L152.412 1132.41 L152.412 1136.34 L130.468 1136.34 L130.468 1132.41 Q133.13 1129.65 137.713 1125.02 Q142.32 1120.37 143.5 1119.03 Q145.746 1116.5 146.625 1114.77 Q147.528 1113.01 147.528 1111.32 Q147.528 1108.56 145.584 1106.83 Q143.662 1105.09 140.56 1105.09 Q138.361 1105.09 135.908 1105.86 Q133.477 1106.62 130.699 1108.17 L130.699 1103.45 Q133.523 1102.31 135.977 1101.74 Q138.431 1101.16 140.468 1101.16 Q145.838 1101.16 149.033 1103.84 Q152.227 1106.53 152.227 1111.02 Q152.227 1113.15 151.417 1115.07 Q150.63 1116.97 148.523 1119.56 Q147.945 1120.23 144.843 1123.45 Q141.741 1126.64 136.093 1132.41 Z\" fill=\"#000000\" fill-rule=\"evenodd\" fill-opacity=\"1\" /><path clip-path=\"url(#clip150)\" d=\"M 0 0 M158.292 1132.41 L165.931 1132.41 L165.931 1106.04 L157.62 1107.71 L157.62 1103.45 L165.884 1101.78 L170.56 1101.78 L170.56 1132.41 L178.199 1132.41 L178.199 1136.34 L158.292 1136.34 L158.292 1132.41 Z\" fill=\"#000000\" fill-rule=\"evenodd\" fill-opacity=\"1\" /><path clip-path=\"url(#clip150)\" d=\"M 0 0 M183.268 1130.46 L188.153 1130.46 L188.153 1136.34 L183.268 1136.34 L183.268 1130.46 Z\" fill=\"#000000\" fill-rule=\"evenodd\" fill-opacity=\"1\" /><path clip-path=\"url(#clip150)\" d=\"M 0 0 M203.222 1119.93 Q199.889 1119.93 197.967 1121.71 Q196.069 1123.49 196.069 1126.62 Q196.069 1129.74 197.967 1131.53 Q199.889 1133.31 203.222 1133.31 Q206.555 1133.31 208.477 1131.53 Q210.398 1129.72 210.398 1126.62 Q210.398 1123.49 208.477 1121.71 Q206.579 1119.93 203.222 1119.93 M198.546 1117.94 Q195.537 1117.2 193.847 1115.14 Q192.18 1113.08 192.18 1110.11 Q192.18 1105.97 195.12 1103.56 Q198.083 1101.16 203.222 1101.16 Q208.384 1101.16 211.324 1103.56 Q214.264 1105.97 214.264 1110.11 Q214.264 1113.08 212.574 1115.14 Q210.907 1117.2 207.921 1117.94 Q211.301 1118.73 213.176 1121.02 Q215.074 1123.31 215.074 1126.62 Q215.074 1131.64 211.995 1134.33 Q208.94 1137.01 203.222 1137.01 Q197.505 1137.01 194.426 1134.33 Q191.37 1131.64 191.37 1126.62 Q191.37 1123.31 193.268 1121.02 Q195.167 1118.73 198.546 1117.94 M196.833 1110.55 Q196.833 1113.24 198.5 1114.74 Q200.19 1116.25 203.222 1116.25 Q206.231 1116.25 207.921 1114.74 Q209.634 1113.24 209.634 1110.55 Q209.634 1107.87 207.921 1106.36 Q206.231 1104.86 203.222 1104.86 Q200.19 1104.86 198.5 1106.36 Q196.833 1107.87 196.833 1110.55 Z\" fill=\"#000000\" fill-rule=\"evenodd\" fill-opacity=\"1\" /><path clip-path=\"url(#clip150)\" d=\"M 0 0 M114.264 839.932 L126.741 839.932 L126.741 843.728 L114.264 843.728 L114.264 839.932 Z\" fill=\"#000000\" fill-rule=\"evenodd\" fill-opacity=\"1\" /><path clip-path=\"url(#clip150)\" d=\"M 0 0 M135.838 850.881 L152.158 850.881 L152.158 854.816 L130.213 854.816 L130.213 850.881 Q132.875 848.126 137.459 843.497 Q142.065 838.844 143.246 837.501 Q145.491 834.978 146.371 833.242 Q147.273 831.483 147.273 829.793 Q147.273 827.038 145.329 825.302 Q143.408 823.566 140.306 823.566 Q138.107 823.566 135.653 824.33 Q133.222 825.094 130.445 826.645 L130.445 821.923 Q133.269 820.788 135.722 820.21 Q138.176 819.631 140.213 819.631 Q145.584 819.631 148.778 822.316 Q151.972 825.001 151.972 829.492 Q151.972 831.622 151.162 833.543 Q150.375 835.441 148.269 838.034 Q147.69 838.705 144.588 841.923 Q141.486 845.117 135.838 850.881 Z\" fill=\"#000000\" fill-rule=\"evenodd\" fill-opacity=\"1\" /><path clip-path=\"url(#clip150)\" d=\"M 0 0 M158.037 850.881 L165.676 850.881 L165.676 824.515 L157.366 826.182 L157.366 821.923 L165.63 820.256 L170.306 820.256 L170.306 850.881 L177.944 850.881 L177.944 854.816 L158.037 854.816 L158.037 850.881 Z\" fill=\"#000000\" fill-rule=\"evenodd\" fill-opacity=\"1\" /><path clip-path=\"url(#clip150)\" d=\"M 0 0 M183.014 848.936 L187.898 848.936 L187.898 854.816 L183.014 854.816 L183.014 848.936 Z\" fill=\"#000000\" fill-rule=\"evenodd\" fill-opacity=\"1\" /><path clip-path=\"url(#clip150)\" d=\"M 0 0 M203.546 835.673 Q200.398 835.673 198.546 837.825 Q196.717 839.978 196.717 843.728 Q196.717 847.455 198.546 849.631 Q200.398 851.784 203.546 851.784 Q206.694 851.784 208.523 849.631 Q210.375 847.455 210.375 843.728 Q210.375 839.978 208.523 837.825 Q206.694 835.673 203.546 835.673 M212.829 821.02 L212.829 825.279 Q211.069 824.446 209.264 824.006 Q207.481 823.566 205.722 823.566 Q201.092 823.566 198.639 826.691 Q196.208 829.816 195.861 836.136 Q197.227 834.122 199.287 833.057 Q201.347 831.969 203.824 831.969 Q209.032 831.969 212.041 835.14 Q215.074 838.288 215.074 843.728 Q215.074 849.052 211.926 852.27 Q208.778 855.487 203.546 855.487 Q197.551 855.487 194.38 850.904 Q191.208 846.298 191.208 837.571 Q191.208 829.376 195.097 824.515 Q198.986 819.631 205.537 819.631 Q207.296 819.631 209.079 819.978 Q210.884 820.326 212.829 821.02 Z\" fill=\"#000000\" fill-rule=\"evenodd\" fill-opacity=\"1\" /><path clip-path=\"url(#clip150)\" d=\"M 0 0 M113.94 558.406 L126.417 558.406 L126.417 562.203 L113.94 562.203 L113.94 558.406 Z\" fill=\"#000000\" fill-rule=\"evenodd\" fill-opacity=\"1\" /><path clip-path=\"url(#clip150)\" d=\"M 0 0 M135.514 569.355 L151.833 569.355 L151.833 573.291 L129.889 573.291 L129.889 569.355 Q132.551 566.601 137.134 561.971 Q141.741 557.318 142.921 555.976 Q145.167 553.453 146.046 551.717 Q146.949 549.957 146.949 548.267 Q146.949 545.513 145.005 543.777 Q143.084 542.041 139.982 542.041 Q137.783 542.041 135.329 542.805 Q132.898 543.568 130.121 545.119 L130.121 540.397 Q132.945 539.263 135.398 538.684 Q137.852 538.106 139.889 538.106 Q145.259 538.106 148.454 540.791 Q151.648 543.476 151.648 547.967 Q151.648 550.096 150.838 552.017 Q150.051 553.916 147.945 556.508 Q147.366 557.179 144.264 560.397 Q141.162 563.591 135.514 569.355 Z\" fill=\"#000000\" fill-rule=\"evenodd\" fill-opacity=\"1\" /><path clip-path=\"url(#clip150)\" d=\"M 0 0 M157.713 569.355 L165.352 569.355 L165.352 542.99 L157.042 544.656 L157.042 540.397 L165.306 538.731 L169.982 538.731 L169.982 569.355 L177.62 569.355 L177.62 573.291 L157.713 573.291 L157.713 569.355 Z\" fill=\"#000000\" fill-rule=\"evenodd\" fill-opacity=\"1\" /><path clip-path=\"url(#clip150)\" d=\"M 0 0 M182.69 567.411 L187.574 567.411 L187.574 573.291 L182.69 573.291 L182.69 567.411 Z\" fill=\"#000000\" fill-rule=\"evenodd\" fill-opacity=\"1\" /><path clip-path=\"url(#clip150)\" d=\"M 0 0 M205.491 542.805 L193.685 561.254 L205.491 561.254 L205.491 542.805 M204.264 538.731 L210.143 538.731 L210.143 561.254 L215.074 561.254 L215.074 565.142 L210.143 565.142 L210.143 573.291 L205.491 573.291 L205.491 565.142 L189.889 565.142 L189.889 560.629 L204.264 538.731 Z\" fill=\"#000000\" fill-rule=\"evenodd\" fill-opacity=\"1\" /><path clip-path=\"url(#clip150)\" d=\"M 0 0 M116.023 276.881 L128.5 276.881 L128.5 280.677 L116.023 280.677 L116.023 276.881 Z\" fill=\"#000000\" fill-rule=\"evenodd\" fill-opacity=\"1\" /><path clip-path=\"url(#clip150)\" d=\"M 0 0 M137.597 287.83 L153.917 287.83 L153.917 291.765 L131.972 291.765 L131.972 287.83 Q134.634 285.075 139.218 280.446 Q143.824 275.793 145.005 274.45 Q147.25 271.927 148.13 270.191 Q149.033 268.432 149.033 266.742 Q149.033 263.987 147.088 262.251 Q145.167 260.515 142.065 260.515 Q139.866 260.515 137.412 261.279 Q134.982 262.043 132.204 263.594 L132.204 258.872 Q135.028 257.737 137.482 257.159 Q139.935 256.58 141.972 256.58 Q147.343 256.58 150.537 259.265 Q153.732 261.95 153.732 266.441 Q153.732 268.571 152.921 270.492 Q152.134 272.39 150.028 274.983 Q149.449 275.654 146.347 278.872 Q143.246 282.066 137.597 287.83 Z\" fill=\"#000000\" fill-rule=\"evenodd\" fill-opacity=\"1\" /><path clip-path=\"url(#clip150)\" d=\"M 0 0 M159.796 287.83 L167.435 287.83 L167.435 261.464 L159.125 263.131 L159.125 258.872 L167.389 257.205 L172.065 257.205 L172.065 287.83 L179.704 287.83 L179.704 291.765 L159.796 291.765 L159.796 287.83 Z\" fill=\"#000000\" fill-rule=\"evenodd\" fill-opacity=\"1\" /><path clip-path=\"url(#clip150)\" d=\"M 0 0 M184.773 285.885 L189.657 285.885 L189.657 291.765 L184.773 291.765 L184.773 285.885 Z\" fill=\"#000000\" fill-rule=\"evenodd\" fill-opacity=\"1\" /><path clip-path=\"url(#clip150)\" d=\"M 0 0 M198.755 287.83 L215.074 287.83 L215.074 291.765 L193.13 291.765 L193.13 287.83 Q195.792 285.075 200.375 280.446 Q204.981 275.793 206.162 274.45 Q208.407 271.927 209.287 270.191 Q210.19 268.432 210.19 266.742 Q210.19 263.987 208.245 262.251 Q206.324 260.515 203.222 260.515 Q201.023 260.515 198.569 261.279 Q196.139 262.043 193.361 263.594 L193.361 258.872 Q196.185 257.737 198.639 257.159 Q201.092 256.58 203.129 256.58 Q208.5 256.58 211.694 259.265 Q214.889 261.95 214.889 266.441 Q214.889 268.571 214.079 270.492 Q213.291 272.39 211.185 274.983 Q210.606 275.654 207.504 278.872 Q204.403 282.066 198.755 287.83 Z\" fill=\"#000000\" fill-rule=\"evenodd\" fill-opacity=\"1\" /><path clip-path=\"url(#clip150)\" d=\"M 0 0 M1310.17 1504.42 Q1310.17 1504.84 1310.07 1505.13 Q1309.98 1505.39 1309.75 1505.52 Q1309.53 1505.65 1309.4 1505.68 Q1309.27 1505.71 1308.98 1505.74 Q1307.59 1505.87 1306.63 1506.1 Q1305.69 1506.32 1303.37 1507.48 Q1301.09 1508.64 1298.22 1510.73 L1286.69 1519.66 L1284.76 1521.17 Q1284.76 1521.27 1284.82 1521.46 Q1284.89 1521.62 1284.95 1521.85 Q1285.05 1522.04 1285.08 1522.1 L1294.45 1543.71 Q1295.19 1545.45 1296.1 1546.06 Q1297 1546.68 1299.03 1546.71 Q1299.35 1546.71 1299.48 1546.74 Q1299.64 1546.74 1299.86 1546.8 Q1300.12 1546.84 1300.22 1547 Q1300.35 1547.16 1300.35 1547.42 Q1300.35 1548.74 1299.16 1548.74 Q1298.41 1548.74 1295.9 1548.64 Q1293.39 1548.54 1292.68 1548.54 Q1291.36 1548.54 1288.66 1548.64 Q1285.95 1548.74 1284.63 1548.74 Q1283.7 1548.74 1283.7 1548 Q1283.7 1547.38 1283.92 1547.09 Q1284.18 1546.77 1284.41 1546.74 Q1284.63 1546.71 1285.15 1546.71 Q1285.53 1546.71 1285.95 1546.68 Q1286.4 1546.61 1287.05 1546.45 Q1287.72 1546.26 1288.14 1545.81 Q1288.59 1545.32 1288.59 1544.65 Q1288.59 1544.1 1287.79 1542.33 L1280.15 1524.58 L1270.33 1532.25 L1267.69 1542.62 Q1267.63 1543 1267.46 1543.68 Q1267.3 1544.36 1267.18 1544.84 Q1267.08 1545.32 1267.08 1545.52 Q1267.08 1545.94 1267.34 1546.19 Q1267.63 1546.45 1268.33 1546.58 Q1269.04 1546.68 1269.59 1546.71 Q1270.17 1546.71 1271.36 1546.71 Q1272.84 1546.71 1273.1 1546.97 Q1273.23 1547.13 1273.23 1547.42 Q1273.23 1547.87 1273.1 1548.19 Q1272.97 1548.48 1272.71 1548.58 Q1272.49 1548.67 1272.33 1548.7 Q1272.17 1548.74 1271.91 1548.74 Q1271.23 1548.74 1269.78 1548.67 Q1268.37 1548.61 1267.63 1548.61 L1263.41 1548.54 L1255.03 1548.74 Q1254.04 1548.74 1254.04 1547.93 Q1254.04 1547.32 1254.29 1547.06 Q1254.55 1546.77 1254.84 1546.74 Q1255.13 1546.71 1255.87 1546.71 Q1257.48 1546.71 1258.45 1546.61 Q1259.41 1546.51 1260.03 1546.39 Q1260.67 1546.22 1260.99 1545.77 Q1261.35 1545.32 1261.51 1544.94 Q1261.67 1544.52 1261.89 1543.58 L1270.72 1508.16 Q1270.98 1507.09 1270.98 1506.93 Q1270.98 1506.39 1270.65 1506.19 Q1270.36 1505.97 1269.53 1505.87 Q1267.92 1505.74 1266.69 1505.74 Q1265.89 1505.74 1265.56 1505.71 Q1265.27 1505.68 1265.02 1505.52 Q1264.79 1505.32 1264.79 1504.94 Q1264.79 1503.68 1266.11 1503.68 L1274.61 1503.87 L1283.05 1503.68 Q1283.99 1503.68 1283.99 1504.42 Q1283.99 1505.36 1283.54 1505.55 Q1283.12 1505.74 1281.73 1505.74 Q1279.32 1505.74 1278.22 1506.06 Q1277.16 1506.35 1276.84 1506.87 Q1276.55 1507.35 1276.19 1508.77 L1270.91 1529.93 L1296.64 1510.15 Q1299.03 1508.16 1299.03 1507.13 Q1299.03 1506.45 1298.54 1506.16 Q1298.09 1505.84 1296.97 1505.74 Q1296.16 1505.61 1296.16 1505 Q1296.16 1504.39 1296.39 1504.1 Q1296.64 1503.78 1296.84 1503.75 Q1297.06 1503.68 1297.42 1503.68 Q1298.61 1503.68 1301.09 1503.78 Q1303.57 1503.87 1304.76 1503.87 Q1305.56 1503.87 1307.14 1503.78 Q1308.72 1503.68 1309.43 1503.68 Q1309.78 1503.68 1309.98 1503.94 Q1310.17 1504.16 1310.17 1504.42 Z\" fill=\"#000000\" fill-rule=\"evenodd\" fill-opacity=\"1\" /><path clip-path=\"url(#clip150)\" d=\"M 0 0 M1330.88 1546.44 Q1330.88 1547.07 1330.59 1547.23 Q1330.29 1547.36 1329.48 1547.36 L1325.15 1547.36 L1321.73 1560.98 Q1321.46 1562.17 1321.46 1563.19 Q1321.46 1564.32 1321.8 1564.81 Q1322.16 1565.31 1322.9 1565.31 Q1324.37 1565.31 1325.94 1563.98 Q1327.54 1562.65 1328.9 1559.4 Q1329.08 1558.97 1329.17 1558.88 Q1329.28 1558.77 1329.57 1558.77 Q1330.14 1558.77 1330.14 1559.22 Q1330.14 1559.38 1329.82 1560.1 Q1329.53 1560.82 1328.87 1561.88 Q1328.24 1562.94 1327.41 1563.93 Q1326.6 1564.92 1325.36 1565.65 Q1324.12 1566.34 1322.79 1566.34 Q1320.92 1566.34 1319.72 1565.15 Q1318.55 1563.95 1318.55 1562.08 Q1318.55 1561.47 1319.02 1559.54 Q1319.5 1557.57 1322.07 1547.36 L1317.99 1547.36 Q1317.42 1547.36 1317.2 1547.34 Q1316.99 1547.32 1316.84 1547.2 Q1316.7 1547.07 1316.7 1546.8 Q1316.7 1546.37 1316.88 1546.19 Q1317.06 1545.99 1317.29 1545.96 Q1317.53 1545.92 1318.1 1545.92 L1322.43 1545.92 L1324.23 1538.59 Q1324.41 1537.87 1324.86 1537.47 Q1325.33 1537.04 1325.6 1536.99 Q1325.88 1536.92 1326.08 1536.92 Q1326.69 1536.92 1327.05 1537.26 Q1327.41 1537.58 1327.41 1538.16 Q1327.41 1538.48 1325.51 1545.92 L1329.57 1545.92 Q1330.09 1545.92 1330.29 1545.94 Q1330.52 1545.96 1330.7 1546.08 Q1330.88 1546.19 1330.88 1546.44 Z\" fill=\"#000000\" fill-rule=\"evenodd\" fill-opacity=\"1\" /><path clip-path=\"url(#clip150)\" d=\"M 0 0 M35.0956 731.716 Q36.2872 731.78 36.3516 732.585 Q36.416 733.809 36.577 734.55 Q36.7058 735.29 37.1889 736.45 Q37.672 737.609 38.8314 738.737 Q39.9908 739.864 41.8266 741.023 L79.6041 764.759 Q80.3126 765.178 80.538 765.532 Q80.7957 765.854 80.7957 766.595 Q80.7957 767.271 80.5058 767.529 Q80.2482 767.786 79.282 767.915 L38.5738 773.132 Q37.8331 773.229 37.511 773.326 Q37.1889 773.422 36.8669 773.809 Q36.5448 774.163 36.4482 774.936 Q36.3516 775.709 36.3516 777.094 Q36.3516 777.738 36.3194 778.028 Q36.2872 778.285 36.1261 778.511 Q35.9329 778.736 35.5464 778.736 Q34.9667 778.736 34.6769 778.511 Q34.3548 778.253 34.3226 778.06 Q34.2904 777.834 34.2904 777.48 Q34.2904 776.933 34.3548 775.741 Q34.4192 774.549 34.4192 773.938 Q34.4192 773.358 34.4514 772.134 Q34.4836 770.91 34.4836 770.298 Q34.4836 768.946 34.387 766.208 Q34.2904 763.438 34.2904 762.118 Q34.2904 761.216 35.0311 761.216 Q35.9329 761.216 36.1583 761.603 Q36.3516 761.989 36.3516 762.859 Q36.3516 765.049 36.8991 766.24 Q37.4466 767.4 38.3161 767.4 L73.2273 762.923 L41.0214 742.666 Q39.5078 741.667 38.5094 741.667 Q36.577 741.667 36.3516 744.727 Q36.3516 745.757 35.5464 745.757 Q34.9667 745.757 34.6769 745.5 Q34.3548 745.242 34.3226 745.049 Q34.2904 744.823 34.2904 744.501 Q34.2904 743.439 34.387 741.281 Q34.4836 739.091 34.4836 737.996 Q34.4836 737.094 34.387 735.258 Q34.2904 733.423 34.2904 732.585 Q34.2904 731.716 35.0956 731.716 Z\" fill=\"#000000\" fill-rule=\"evenodd\" fill-opacity=\"1\" /><path clip-path=\"url(#clip150)\" d=\"M 0 0 M78.4691 710.922 Q79.1003 710.922 79.2581 711.215 Q79.3934 711.508 79.3934 712.32 L79.3934 716.648 L93.0101 720.075 Q94.2049 720.346 95.2194 720.346 Q96.3466 720.346 96.8425 720.007 Q97.3385 719.647 97.3385 718.903 Q97.3385 717.437 96.0084 715.859 Q94.6783 714.259 91.432 712.906 Q91.0036 712.726 90.9134 712.636 Q90.8007 712.523 90.8007 712.23 Q90.8007 711.666 91.2516 711.666 Q91.4094 711.666 92.1308 711.982 Q92.8522 712.275 93.9118 712.929 Q94.9714 713.56 95.9633 714.394 Q96.9553 715.206 97.6767 716.446 Q98.3755 717.685 98.3755 719.016 Q98.3755 720.887 97.1807 722.082 Q95.9859 723.254 94.1147 723.254 Q93.506 723.254 91.5672 722.78 Q89.6059 722.307 79.3934 719.737 L79.3934 723.817 Q79.3934 724.381 79.3709 724.606 Q79.3483 724.809 79.2356 724.967 Q79.1003 725.102 78.8298 725.102 Q78.4015 725.102 78.2211 724.922 Q78.0182 724.742 77.9957 724.516 Q77.9506 724.268 77.9506 723.705 L77.9506 719.376 L70.6238 717.573 Q69.9023 717.392 69.4966 716.941 Q69.0682 716.468 69.0231 716.198 Q68.9555 715.927 68.9555 715.724 Q68.9555 715.115 69.2937 714.755 Q69.6093 714.394 70.1954 714.394 Q70.511 714.394 77.9506 716.288 L77.9506 712.23 Q77.9506 711.711 77.9731 711.508 Q77.9957 711.283 78.1084 711.103 Q78.2211 710.922 78.4691 710.922 Z\" fill=\"#000000\" fill-rule=\"evenodd\" fill-opacity=\"1\" /><polyline clip-path=\"url(#clip152)\" style=\"stroke:#009af9; stroke-width:4; stroke-opacity:1; fill:none\" points=\"\n",
       "  298.895,1396.21 319.037,1389.3 339.179,1382.46 359.321,1375.72 379.462,1369.03 399.604,1362.43 419.746,1355.91 439.888,1349.45 460.03,1343.06 480.171,1336.73 \n",
       "  500.313,1330.48 520.455,1324.29 540.597,1318.16 560.739,1312.1 580.88,1306.1 601.022,1300.16 621.164,1294.28 641.306,1288.46 661.448,1282.69 681.59,1276.98 \n",
       "  701.731,1271.32 721.873,1265.71 742.015,1260.16 762.157,1254.67 782.299,1249.21 802.44,1243.81 822.582,1238.46 842.724,1233.15 862.866,1227.9 883.008,1222.69 \n",
       "  903.15,1217.52 923.291,1212.4 943.433,1207.33 963.575,1202.29 983.717,1197.3 1003.86,1192.36 1024,1187.44 1044.14,1182.57 1064.28,1177.75 1084.43,1172.96 \n",
       "  1104.57,1168.2 1124.71,1163.49 1144.85,1158.82 1164.99,1154.17 1185.13,1149.57 1205.28,1145 1225.42,1140.47 1245.56,1135.97 1265.7,1131.51 1285.84,1127.08 \n",
       "  1305.99,1122.67 1326.13,1118.31 1346.27,1113.98 1366.41,1109.67 1386.55,1105.4 1406.69,1101.16 1426.84,1096.95 1446.98,1092.77 1467.12,1088.61 1487.26,1084.49 \n",
       "  1507.4,1080.4 1527.55,1076.33 1547.69,1072.29 1567.83,1068.28 1587.97,1064.29 1608.11,1060.33 1628.25,1056.4 1648.4,1052.5 1668.54,1048.62 1688.68,1044.76 \n",
       "  1708.82,1040.93 1728.96,1037.13 1749.11,1033.34 1769.25,1029.58 1789.39,1025.85 1809.53,1022.14 1829.67,1018.45 1849.81,1014.78 1869.96,1011.14 1890.1,1007.52 \n",
       "  1910.24,1003.92 1930.38,1000.34 1950.52,996.79 1970.67,993.26 1990.81,989.745 2010.95,986.252 2031.09,982.781 2051.23,979.333 2071.37,975.897 2091.52,972.483 \n",
       "  2111.66,969.092 2131.8,965.722 2151.94,962.364 2172.08,959.027 2192.23,955.71 2212.37,952.414 2232.51,949.136 2252.65,945.872 2272.79,942.627 2292.93,939.402 \n",
       "  \n",
       "  \"/>\n",
       "<polyline clip-path=\"url(#clip152)\" style=\"stroke:#e26f46; stroke-width:4; stroke-opacity:1; fill:none\" points=\"\n",
       "  298.895,543.337 319.037,536.432 339.179,529.595 359.321,522.844 379.462,516.165 399.604,509.562 419.746,503.039 439.888,496.576 460.03,490.191 480.171,483.864 \n",
       "  500.313,477.61 520.455,471.423 540.597,465.293 560.739,459.234 580.88,453.234 601.022,447.292 621.164,441.411 641.306,435.581 661.448,429.816 681.59,424.103 \n",
       "  701.731,418.443 721.873,412.843 742.015,407.29 762.157,401.79 782.299,396.344 802.44,390.939 822.582,385.589 842.724,380.285 862.866,375.026 883.008,369.818 \n",
       "  903.15,364.654 923.291,359.532 943.433,354.458 963.575,349.426 983.717,344.434 1003.86,339.488 1024,334.575 1044.14,329.706 1064.28,324.881 1084.43,320.089 \n",
       "  1104.57,315.337 1124.71,310.627 1144.85,305.947 1164.99,301.306 1185.13,296.706 1205.28,292.133 1225.42,287.598 1245.56,283.102 1265.7,278.637 1285.84,274.203 \n",
       "  1305.99,269.806 1326.13,265.444 1346.27,261.107 1366.41,256.805 1386.55,252.531 1406.69,248.287 1426.84,244.075 1446.98,239.898 1467.12,235.741 1487.26,231.617 \n",
       "  1507.4,227.524 1527.55,223.459 1547.69,219.418 1567.83,215.407 1587.97,211.425 1608.11,207.464 1628.25,203.532 1648.4,199.629 1668.54,195.744 1688.68,191.887 \n",
       "  1708.82,188.058 1728.96,184.255 1749.11,180.47 1769.25,176.713 1789.39,172.982 1809.53,169.271 1829.67,165.582 1849.81,161.919 1869.96,158.276 1890.1,154.652 \n",
       "  1910.24,151.054 1930.38,147.479 1950.52,143.924 1970.67,140.388 1990.81,136.876 2010.95,133.386 2031.09,129.916 2051.23,126.463 2071.37,123.032 2091.52,119.62 \n",
       "  2111.66,116.224 2131.8,112.85 2151.94,109.497 2172.08,106.163 2192.23,102.843 2212.37,99.5447 2232.51,96.2665 2252.65,93.0076 2272.79,89.7611 2292.93,86.5344 \n",
       "  \n",
       "  \"/>\n",
       "<path clip-path=\"url(#clip150)\" d=\"\n",
       "M1803.14 312.204 L2280.76 312.204 L2280.76 130.764 L1803.14 130.764  Z\n",
       "  \" fill=\"#ffffff\" fill-rule=\"evenodd\" fill-opacity=\"1\"/>\n",
       "<polyline clip-path=\"url(#clip150)\" style=\"stroke:#000000; stroke-width:4; stroke-opacity:1; fill:none\" points=\"\n",
       "  1803.14,312.204 2280.76,312.204 2280.76,130.764 1803.14,130.764 1803.14,312.204 \n",
       "  \"/>\n",
       "<polyline clip-path=\"url(#clip150)\" style=\"stroke:#009af9; stroke-width:4; stroke-opacity:1; fill:none\" points=\"\n",
       "  1827.14,191.244 1971.14,191.244 \n",
       "  \"/>\n",
       "<path clip-path=\"url(#clip150)\" d=\"M 0 0 M1999.82 192.02 L1999.82 204.682 L2007.32 204.682 Q2011.09 204.682 2012.9 203.131 Q2014.72 201.557 2014.72 198.339 Q2014.72 195.098 2012.9 193.57 Q2011.09 192.02 2007.32 192.02 L1999.82 192.02 M1999.82 177.807 L1999.82 188.223 L2006.74 188.223 Q2010.16 188.223 2011.83 186.95 Q2013.52 185.654 2013.52 183.015 Q2013.52 180.399 2011.83 179.103 Q2010.16 177.807 2006.74 177.807 L1999.82 177.807 M1995.14 173.964 L2007.09 173.964 Q2012.43 173.964 2015.33 176.186 Q2018.22 178.409 2018.22 182.506 Q2018.22 185.677 2016.74 187.552 Q2015.26 189.427 2012.39 189.89 Q2015.84 190.631 2017.73 192.992 Q2019.66 195.33 2019.66 198.848 Q2019.66 203.478 2016.51 206.001 Q2013.36 208.524 2007.55 208.524 L1995.14 208.524 L1995.14 173.964 Z\" fill=\"#000000\" fill-rule=\"evenodd\" fill-opacity=\"1\" /><path clip-path=\"url(#clip150)\" d=\"M 0 0 M2035.91 195.492 Q2030.74 195.492 2028.75 196.672 Q2026.76 197.853 2026.76 200.7 Q2026.76 202.969 2028.24 204.311 Q2029.75 205.631 2032.32 205.631 Q2035.86 205.631 2037.99 203.131 Q2040.14 200.607 2040.14 196.441 L2040.14 195.492 L2035.91 195.492 M2044.4 193.733 L2044.4 208.524 L2040.14 208.524 L2040.14 204.589 Q2038.68 206.95 2036.51 208.084 Q2034.33 209.195 2031.18 209.195 Q2027.2 209.195 2024.84 206.973 Q2022.5 204.728 2022.5 200.978 Q2022.5 196.603 2025.42 194.381 Q2028.36 192.158 2034.17 192.158 L2040.14 192.158 L2040.14 191.742 Q2040.14 188.802 2038.2 187.205 Q2036.28 185.584 2032.78 185.584 Q2030.56 185.584 2028.45 186.117 Q2026.34 186.649 2024.4 187.714 L2024.4 183.779 Q2026.74 182.876 2028.94 182.436 Q2031.14 181.973 2033.22 181.973 Q2038.84 181.973 2041.62 184.89 Q2044.4 187.807 2044.4 193.733 Z\" fill=\"#000000\" fill-rule=\"evenodd\" fill-opacity=\"1\" /><path clip-path=\"url(#clip150)\" d=\"M 0 0 M2065.93 186.533 L2065.93 172.506 L2070.19 172.506 L2070.19 208.524 L2065.93 208.524 L2065.93 204.635 Q2064.59 206.95 2062.53 208.084 Q2060.49 209.195 2057.62 209.195 Q2052.92 209.195 2049.96 205.445 Q2047.02 201.695 2047.02 195.584 Q2047.02 189.473 2049.96 185.723 Q2052.92 181.973 2057.62 181.973 Q2060.49 181.973 2062.53 183.108 Q2064.59 184.219 2065.93 186.533 M2051.41 195.584 Q2051.41 200.283 2053.34 202.969 Q2055.28 205.631 2058.66 205.631 Q2062.04 205.631 2063.98 202.969 Q2065.93 200.283 2065.93 195.584 Q2065.93 190.885 2063.98 188.223 Q2062.04 185.538 2058.66 185.538 Q2055.28 185.538 2053.34 188.223 Q2051.41 190.885 2051.41 195.584 Z\" fill=\"#000000\" fill-rule=\"evenodd\" fill-opacity=\"1\" /><path clip-path=\"url(#clip150)\" d=\"M 0 0 M2110.63 175.098 L2110.63 179.659 Q2107.96 178.385 2105.6 177.76 Q2103.24 177.135 2101.04 177.135 Q2097.22 177.135 2095.14 178.617 Q2093.08 180.098 2093.08 182.83 Q2093.08 185.121 2094.45 186.302 Q2095.84 187.459 2099.68 188.177 L2102.5 188.756 Q2107.73 189.751 2110.21 192.274 Q2112.71 194.774 2112.71 198.987 Q2112.71 204.01 2109.33 206.603 Q2105.97 209.195 2099.47 209.195 Q2097.02 209.195 2094.24 208.64 Q2091.48 208.084 2088.52 206.996 L2088.52 202.182 Q2091.37 203.779 2094.1 204.589 Q2096.83 205.399 2099.47 205.399 Q2103.47 205.399 2105.65 203.825 Q2107.83 202.251 2107.83 199.334 Q2107.83 196.788 2106.25 195.353 Q2104.7 193.918 2101.14 193.2 L2098.29 192.645 Q2093.06 191.603 2090.72 189.381 Q2088.38 187.158 2088.38 183.2 Q2088.38 178.617 2091.6 175.978 Q2094.84 173.339 2100.51 173.339 Q2102.94 173.339 2105.46 173.779 Q2107.99 174.219 2110.63 175.098 Z\" fill=\"#000000\" fill-rule=\"evenodd\" fill-opacity=\"1\" /><path clip-path=\"url(#clip150)\" d=\"M 0 0 M2121.39 175.237 L2121.39 182.598 L2130.16 182.598 L2130.16 185.908 L2121.39 185.908 L2121.39 199.982 Q2121.39 203.154 2122.25 204.057 Q2123.13 204.959 2125.79 204.959 L2130.16 204.959 L2130.16 208.524 L2125.79 208.524 Q2120.86 208.524 2118.98 206.695 Q2117.11 204.844 2117.11 199.982 L2117.11 185.908 L2113.98 185.908 L2113.98 182.598 L2117.11 182.598 L2117.11 175.237 L2121.39 175.237 Z\" fill=\"#000000\" fill-rule=\"evenodd\" fill-opacity=\"1\" /><path clip-path=\"url(#clip150)\" d=\"M 0 0 M2146.41 195.492 Q2141.25 195.492 2139.26 196.672 Q2137.27 197.853 2137.27 200.7 Q2137.27 202.969 2138.75 204.311 Q2140.26 205.631 2142.83 205.631 Q2146.37 205.631 2148.5 203.131 Q2150.65 200.607 2150.65 196.441 L2150.65 195.492 L2146.41 195.492 M2154.91 193.733 L2154.91 208.524 L2150.65 208.524 L2150.65 204.589 Q2149.19 206.95 2147.02 208.084 Q2144.84 209.195 2141.69 209.195 Q2137.71 209.195 2135.35 206.973 Q2133.01 204.728 2133.01 200.978 Q2133.01 196.603 2135.93 194.381 Q2138.87 192.158 2144.68 192.158 L2150.65 192.158 L2150.65 191.742 Q2150.65 188.802 2148.71 187.205 Q2146.78 185.584 2143.29 185.584 Q2141.07 185.584 2138.96 186.117 Q2136.85 186.649 2134.91 187.714 L2134.91 183.779 Q2137.25 182.876 2139.45 182.436 Q2141.65 181.973 2143.73 181.973 Q2149.35 181.973 2152.13 184.89 Q2154.91 187.807 2154.91 193.733 Z\" fill=\"#000000\" fill-rule=\"evenodd\" fill-opacity=\"1\" /><path clip-path=\"url(#clip150)\" d=\"M 0 0 M2163.59 175.237 L2163.59 182.598 L2172.36 182.598 L2172.36 185.908 L2163.59 185.908 L2163.59 199.982 Q2163.59 203.154 2164.45 204.057 Q2165.33 204.959 2167.99 204.959 L2172.36 204.959 L2172.36 208.524 L2167.99 208.524 Q2163.06 208.524 2161.18 206.695 Q2159.31 204.844 2159.31 199.982 L2159.31 185.908 L2156.18 185.908 L2156.18 182.598 L2159.31 182.598 L2159.31 175.237 L2163.59 175.237 Z\" fill=\"#000000\" fill-rule=\"evenodd\" fill-opacity=\"1\" /><path clip-path=\"url(#clip150)\" d=\"M 0 0 M2199.01 194.496 L2199.01 196.58 L2179.42 196.58 Q2179.7 200.978 2182.06 203.293 Q2184.45 205.584 2188.68 205.584 Q2191.14 205.584 2193.43 204.982 Q2195.74 204.381 2198.01 203.177 L2198.01 207.205 Q2195.72 208.177 2193.31 208.686 Q2190.9 209.195 2188.43 209.195 Q2182.22 209.195 2178.59 205.584 Q2174.98 201.973 2174.98 195.816 Q2174.98 189.45 2178.4 185.723 Q2181.85 181.973 2187.69 181.973 Q2192.92 181.973 2195.95 185.353 Q2199.01 188.709 2199.01 194.496 M2194.75 193.246 Q2194.7 189.751 2192.78 187.668 Q2190.88 185.584 2187.73 185.584 Q2184.17 185.584 2182.02 187.598 Q2179.89 189.612 2179.56 193.27 L2194.75 193.246 Z\" fill=\"#000000\" fill-rule=\"evenodd\" fill-opacity=\"1\" /><polyline clip-path=\"url(#clip150)\" style=\"stroke:#e26f46; stroke-width:4; stroke-opacity:1; fill:none\" points=\"\n",
       "  1827.14,251.724 1971.14,251.724 \n",
       "  \"/>\n",
       "<path clip-path=\"url(#clip150)\" d=\"M 0 0 M2020.7 264.074 L2020.7 254.791 L2013.06 254.791 L2013.06 250.949 L2025.33 250.949 L2025.33 265.787 Q2022.62 267.708 2019.35 268.703 Q2016.09 269.675 2012.39 269.675 Q2004.28 269.675 1999.7 264.953 Q1995.14 260.208 1995.14 251.759 Q1995.14 243.287 1999.7 238.564 Q2004.28 233.819 2012.39 233.819 Q2015.77 233.819 2018.8 234.652 Q2021.85 235.486 2024.42 237.106 L2024.42 242.083 Q2021.83 239.884 2018.91 238.773 Q2016 237.662 2012.78 237.662 Q2006.44 237.662 2003.24 241.203 Q2000.07 244.745 2000.07 251.759 Q2000.07 258.75 2003.24 262.291 Q2006.44 265.833 2012.78 265.833 Q2015.26 265.833 2017.2 265.416 Q2019.15 264.976 2020.7 264.074 Z\" fill=\"#000000\" fill-rule=\"evenodd\" fill-opacity=\"1\" /><path clip-path=\"url(#clip150)\" d=\"M 0 0 M2039.84 246.064 Q2036.41 246.064 2034.42 248.75 Q2032.43 251.412 2032.43 256.064 Q2032.43 260.717 2034.4 263.402 Q2036.39 266.064 2039.84 266.064 Q2043.24 266.064 2045.23 263.379 Q2047.22 260.694 2047.22 256.064 Q2047.22 251.458 2045.23 248.773 Q2043.24 246.064 2039.84 246.064 M2039.84 242.453 Q2045.4 242.453 2048.57 246.064 Q2051.74 249.675 2051.74 256.064 Q2051.74 262.43 2048.57 266.064 Q2045.4 269.675 2039.84 269.675 Q2034.26 269.675 2031.09 266.064 Q2027.94 262.43 2027.94 256.064 Q2027.94 249.675 2031.09 246.064 Q2034.26 242.453 2039.84 242.453 Z\" fill=\"#000000\" fill-rule=\"evenodd\" fill-opacity=\"1\" /><path clip-path=\"url(#clip150)\" d=\"M 0 0 M2066.25 246.064 Q2062.83 246.064 2060.84 248.75 Q2058.84 251.412 2058.84 256.064 Q2058.84 260.717 2060.81 263.402 Q2062.8 266.064 2066.25 266.064 Q2069.65 266.064 2071.65 263.379 Q2073.64 260.694 2073.64 256.064 Q2073.64 251.458 2071.65 248.773 Q2069.65 246.064 2066.25 246.064 M2066.25 242.453 Q2071.81 242.453 2074.98 246.064 Q2078.15 249.675 2078.15 256.064 Q2078.15 262.43 2074.98 266.064 Q2071.81 269.675 2066.25 269.675 Q2060.67 269.675 2057.5 266.064 Q2054.35 262.43 2054.35 256.064 Q2054.35 249.675 2057.5 246.064 Q2060.67 242.453 2066.25 242.453 Z\" fill=\"#000000\" fill-rule=\"evenodd\" fill-opacity=\"1\" /><path clip-path=\"url(#clip150)\" d=\"M 0 0 M2099.68 247.013 L2099.68 232.986 L2103.94 232.986 L2103.94 269.004 L2099.68 269.004 L2099.68 265.115 Q2098.34 267.43 2096.28 268.564 Q2094.24 269.675 2091.37 269.675 Q2086.67 269.675 2083.71 265.925 Q2080.77 262.175 2080.77 256.064 Q2080.77 249.953 2083.71 246.203 Q2086.67 242.453 2091.37 242.453 Q2094.24 242.453 2096.28 243.588 Q2098.34 244.699 2099.68 247.013 M2085.16 256.064 Q2085.16 260.763 2087.09 263.449 Q2089.03 266.111 2092.41 266.111 Q2095.79 266.111 2097.73 263.449 Q2099.68 260.763 2099.68 256.064 Q2099.68 251.365 2097.73 248.703 Q2095.79 246.018 2092.41 246.018 Q2089.03 246.018 2087.09 248.703 Q2085.16 251.365 2085.16 256.064 Z\" fill=\"#000000\" fill-rule=\"evenodd\" fill-opacity=\"1\" /><path clip-path=\"url(#clip150)\" d=\"M 0 0 M2144.38 235.578 L2144.38 240.139 Q2141.71 238.865 2139.35 238.24 Q2136.99 237.615 2134.79 237.615 Q2130.97 237.615 2128.89 239.097 Q2126.83 240.578 2126.83 243.31 Q2126.83 245.601 2128.2 246.782 Q2129.59 247.939 2133.43 248.657 L2136.25 249.236 Q2141.48 250.231 2143.96 252.754 Q2146.46 255.254 2146.46 259.467 Q2146.46 264.49 2143.08 267.083 Q2139.72 269.675 2133.22 269.675 Q2130.77 269.675 2127.99 269.12 Q2125.23 268.564 2122.27 267.476 L2122.27 262.662 Q2125.12 264.259 2127.85 265.069 Q2130.58 265.879 2133.22 265.879 Q2137.22 265.879 2139.4 264.305 Q2141.58 262.731 2141.58 259.814 Q2141.58 257.268 2140 255.833 Q2138.45 254.398 2134.89 253.68 L2132.04 253.125 Q2126.81 252.083 2124.47 249.861 Q2122.13 247.638 2122.13 243.68 Q2122.13 239.097 2125.35 236.458 Q2128.59 233.819 2134.26 233.819 Q2136.69 233.819 2139.21 234.259 Q2141.74 234.699 2144.38 235.578 Z\" fill=\"#000000\" fill-rule=\"evenodd\" fill-opacity=\"1\" /><path clip-path=\"url(#clip150)\" d=\"M 0 0 M2155.14 235.717 L2155.14 243.078 L2163.91 243.078 L2163.91 246.388 L2155.14 246.388 L2155.14 260.462 Q2155.14 263.634 2156 264.537 Q2156.88 265.439 2159.54 265.439 L2163.91 265.439 L2163.91 269.004 L2159.54 269.004 Q2154.61 269.004 2152.73 267.175 Q2150.86 265.324 2150.86 260.462 L2150.86 246.388 L2147.73 246.388 L2147.73 243.078 L2150.86 243.078 L2150.86 235.717 L2155.14 235.717 Z\" fill=\"#000000\" fill-rule=\"evenodd\" fill-opacity=\"1\" /><path clip-path=\"url(#clip150)\" d=\"M 0 0 M2180.16 255.972 Q2175 255.972 2173.01 257.152 Q2171.02 258.333 2171.02 261.18 Q2171.02 263.449 2172.5 264.791 Q2174.01 266.111 2176.58 266.111 Q2180.12 266.111 2182.25 263.611 Q2184.4 261.087 2184.4 256.921 L2184.4 255.972 L2180.16 255.972 M2188.66 254.213 L2188.66 269.004 L2184.4 269.004 L2184.4 265.069 Q2182.94 267.43 2180.77 268.564 Q2178.59 269.675 2175.44 269.675 Q2171.46 269.675 2169.1 267.453 Q2166.76 265.208 2166.76 261.458 Q2166.76 257.083 2169.68 254.861 Q2172.62 252.638 2178.43 252.638 L2184.4 252.638 L2184.4 252.222 Q2184.4 249.282 2182.46 247.685 Q2180.53 246.064 2177.04 246.064 Q2174.82 246.064 2172.71 246.597 Q2170.6 247.129 2168.66 248.194 L2168.66 244.259 Q2171 243.356 2173.2 242.916 Q2175.4 242.453 2177.48 242.453 Q2183.1 242.453 2185.88 245.37 Q2188.66 248.287 2188.66 254.213 Z\" fill=\"#000000\" fill-rule=\"evenodd\" fill-opacity=\"1\" /><path clip-path=\"url(#clip150)\" d=\"M 0 0 M2197.34 235.717 L2197.34 243.078 L2206.11 243.078 L2206.11 246.388 L2197.34 246.388 L2197.34 260.462 Q2197.34 263.634 2198.2 264.537 Q2199.08 265.439 2201.74 265.439 L2206.11 265.439 L2206.11 269.004 L2201.74 269.004 Q2196.81 269.004 2194.93 267.175 Q2193.06 265.324 2193.06 260.462 L2193.06 246.388 L2189.93 246.388 L2189.93 243.078 L2193.06 243.078 L2193.06 235.717 L2197.34 235.717 Z\" fill=\"#000000\" fill-rule=\"evenodd\" fill-opacity=\"1\" /><path clip-path=\"url(#clip150)\" d=\"M 0 0 M2232.76 254.976 L2232.76 257.06 L2213.17 257.06 Q2213.45 261.458 2215.81 263.773 Q2218.2 266.064 2222.43 266.064 Q2224.89 266.064 2227.18 265.462 Q2229.49 264.861 2231.76 263.657 L2231.76 267.685 Q2229.47 268.657 2227.06 269.166 Q2224.65 269.675 2222.18 269.675 Q2215.97 269.675 2212.34 266.064 Q2208.73 262.453 2208.73 256.296 Q2208.73 249.93 2212.15 246.203 Q2215.6 242.453 2221.44 242.453 Q2226.67 242.453 2229.7 245.833 Q2232.76 249.189 2232.76 254.976 M2228.5 253.726 Q2228.45 250.231 2226.53 248.148 Q2224.63 246.064 2221.48 246.064 Q2217.92 246.064 2215.77 248.078 Q2213.64 250.092 2213.31 253.75 L2228.5 253.726 Z\" fill=\"#000000\" fill-rule=\"evenodd\" fill-opacity=\"1\" /></svg>\n"
      ]
     },
     "execution_count": 19,
     "metadata": {},
     "output_type": "execute_result"
    }
   ],
   "source": [
    "using Plots\n",
    "pl = plot(K_grid, values[end][1],label=\"Bad State\")\n",
    "plot!(pl, K_grid, values[end][2], label=\"Good State\")\n",
    "xlabel!(pl, \"\\$K_t\\$\")\n",
    "ylabel!(pl, \"\\$V_t\\$\")\n"
   ]
  },
  {
   "cell_type": "markdown",
   "metadata": {},
   "source": [
    "Now it would be nice, if we had kept the policy function too (investment as a function of capital). \n",
    "Let's rewrite the `Bellman_step` function to add the policy. We'll also redefine it as an inplace function\n",
    "for performance reasons. By convention first arguments are the ones being modified, hence we reorder the function arguments."
   ]
  },
  {
   "cell_type": "code",
   "execution_count": 20,
   "metadata": {},
   "outputs": [
    {
     "data": {
      "text/plain": [
       "Bellman_step!"
      ]
     },
     "execution_count": 20,
     "metadata": {},
     "output_type": "execute_result"
    }
   ],
   "source": [
    "\"\"\"\n",
    "Bellman_step!(V, P, V0)\n",
    "\n",
    "# Arguments\n",
    "- `V::Array{Vector{Flaot64}}`: Updated value function (\\$V_{t}\\$)\n",
    "- `P::Array{Vector{Flaot64}}`: Updated policy (\\$P_{t}\\$)\n",
    "- `V0::Array{Vector{Flaot64}}`: Initial guess for value function (\\$V_{t+1}\\$)\n",
    "...\n",
    "\"\"\"\n",
    "function Bellman_step!(V, P, V0)\n",
    "    \n",
    "    for i=1:2\n",
    "        for (n,k) in enumerate(K_grid)\n",
    "            nn0 = -1\n",
    "            gv = -100000.0\n",
    "            kopt = -1.0\n",
    "            for (nn,kk) in enumerate(K_grid)\n",
    "                y = A[i]*k^α\n",
    "                c = y - kk\n",
    "                eV = Π[i,1] * V0[1][nn] +  Π[i, 2]*V0[2][nn]\n",
    "                v = log(c) + β * eV\n",
    "                if v > gv\n",
    "                    gv = v\n",
    "                    nn0 = nn\n",
    "                    kopt = kk\n",
    "                end\n",
    "            end\n",
    "            P[i][n] = kopt\n",
    "            V[i][n] = gv\n",
    "        end\n",
    "    end\n",
    "    return V\n",
    "end"
   ]
  },
  {
   "cell_type": "code",
   "execution_count": 21,
   "metadata": {},
   "outputs": [
    {
     "data": {
      "text/plain": [
       "distance (generic function with 2 methods)"
      ]
     },
     "execution_count": 21,
     "metadata": {},
     "output_type": "execute_result"
    }
   ],
   "source": [
    "distance(A::Vector{Float64}, B::Vector{Float64}) = maximum( (u)->abs(u[1]-u[2]), zip(A[1],B[1]))\n",
    "distance(A::Vector{Vector{Float64}}, B::Vector{Vector{Float64}}) = maximum(u->distance(u[1],u[2]),zip(A,B))"
   ]
  },
  {
   "cell_type": "code",
   "execution_count": 22,
   "metadata": {},
   "outputs": [
    {
     "data": {
      "text/plain": [
       "FixedPoint (generic function with 1 method)"
      ]
     },
     "execution_count": 22,
     "metadata": {},
     "output_type": "execute_result"
    }
   ],
   "source": [
    "function FixedPoint(V0; T=1000, tol_η=1e-6, verbose=true, keep_history=false)\n",
    "     # let's allocate the memory once for all\n",
    "    V0 = deepcopy(V0)\n",
    "    V = deepcopy(V0)\n",
    "    P = deepcopy(V0)\n",
    "    D = \n",
    "    η_0 = 1.0::Float64\n",
    "    for t=1:T\n",
    "        Bellman_step!(V, P, V0)\n",
    "        η = distance(V,V0)\n",
    "        if verbose\n",
    "            println(\"SA: \\t\", η, \"\\tSA/SA(-1): \", η/η_0)\n",
    "        end\n",
    "        η_0 = η\n",
    "        V0[1][:] .= V[1]\n",
    "        V0[2][:] .= V[2]\n",
    "        if η<tol_η\n",
    "            break\n",
    "        end\n",
    "    end\n",
    "    return V0, P\n",
    "end"
   ]
  },
  {
   "cell_type": "code",
   "execution_count": 23,
   "metadata": {},
   "outputs": [
    {
     "name": "stdout",
     "output_type": "stream",
     "text": [
      "  3.630278 seconds (122.34 M allocations: 2.256 GiB, 9.25% gc time)\n"
     ]
    },
    {
     "data": {
      "text/plain": [
       "([[-22.368343931569044, -22.36343254814532, -22.358577534115966, -22.353784458187512, -22.349037813997086, -22.34434746074303, -22.339714105347113, -22.3351218532696, -22.330585041467486, -22.326091215608233  …  -22.064912914993343, -22.062518719927755, -22.060133464200014, -22.05776254627267, -22.055406491718117, -22.05306512151847, -22.050736163073477, -22.048416951826354, -22.04611196288671, -22.04382102867364], [-21.762450039516036, -21.757544785636306, -21.752687499061683, -21.74789168838552, -21.743147265406108, -21.738455847257033, -21.733822298417124, -21.729230676214936, -21.724694371340085, -21.720200105783945  …  -21.459022731278097, -21.456625762669347, -21.4542439884461, -21.451875140276993, -21.44951702053721, -21.447173602842668, -21.444844711087583, -21.44252951432235, -21.440223151998698, -21.437930855910878]], [[0.13959279793286314, 0.1408466384783215, 0.1408466384783215, 0.1408466384783215, 0.14210047902377987, 0.14210047902377987, 0.14335431956923822, 0.14335431956923822, 0.14335431956923822, 0.1446081601146966  …  0.173446492660239, 0.173446492660239, 0.17470033320569736, 0.17470033320569736, 0.17470033320569736, 0.17470033320569736, 0.17595417375115574, 0.17595417375115574, 0.17595417375115574, 0.17595417375115574], [0.15463888447836352, 0.15463888447836352, 0.15589272502382187, 0.15589272502382187, 0.15714656556928025, 0.15714656556928025, 0.15714656556928025, 0.1584004061147386, 0.1584004061147386, 0.15965424666019698  …  0.19225410084211447, 0.19225410084211447, 0.19225410084211447, 0.19350794138757285, 0.19350794138757285, 0.19350794138757285, 0.19350794138757285, 0.1947617819330312, 0.1947617819330312, 0.1947617819330312]])"
      ]
     },
     "execution_count": 23,
     "metadata": {},
     "output_type": "execute_result"
    }
   ],
   "source": [
    "@time V, P= FixedPoint(V0, verbose=false)"
   ]
  },
  {
   "cell_type": "code",
   "execution_count": 30,
   "metadata": {},
   "outputs": [
    {
     "data": {
      "image/svg+xml": [
       "<?xml version=\"1.0\" encoding=\"utf-8\"?>\n",
       "<svg xmlns=\"http://www.w3.org/2000/svg\" xmlns:xlink=\"http://www.w3.org/1999/xlink\" width=\"600\" height=\"400\" viewBox=\"0 0 2400 1600\">\n",
       "<defs>\n",
       "  <clipPath id=\"clip390\">\n",
       "    <rect x=\"0\" y=\"0\" width=\"2400\" height=\"1600\"/>\n",
       "  </clipPath>\n",
       "</defs>\n",
       "<path clip-path=\"url(#clip390)\" d=\"\n",
       "M0 1600 L2400 1600 L2400 0 L0 0  Z\n",
       "  \" fill=\"#ffffff\" fill-rule=\"evenodd\" fill-opacity=\"1\"/>\n",
       "<defs>\n",
       "  <clipPath id=\"clip391\">\n",
       "    <rect x=\"480\" y=\"0\" width=\"1681\" height=\"1600\"/>\n",
       "  </clipPath>\n",
       "</defs>\n",
       "<path clip-path=\"url(#clip390)\" d=\"\n",
       "M255.36 1434.03 L1160.33 1434.03 L1160.33 47.2441 L255.36 47.2441  Z\n",
       "  \" fill=\"#ffffff\" fill-rule=\"evenodd\" fill-opacity=\"1\"/>\n",
       "<defs>\n",
       "  <clipPath id=\"clip392\">\n",
       "    <rect x=\"255\" y=\"47\" width=\"906\" height=\"1388\"/>\n",
       "  </clipPath>\n",
       "</defs>\n",
       "<polyline clip-path=\"url(#clip392)\" style=\"stroke:#000000; stroke-width:2; stroke-opacity:0.1; fill:none\" points=\"\n",
       "  404.821,1434.03 404.821,47.2441 \n",
       "  \"/>\n",
       "<polyline clip-path=\"url(#clip392)\" style=\"stroke:#000000; stroke-width:2; stroke-opacity:0.1; fill:none\" points=\"\n",
       "  576.766,1434.03 576.766,47.2441 \n",
       "  \"/>\n",
       "<polyline clip-path=\"url(#clip392)\" style=\"stroke:#000000; stroke-width:2; stroke-opacity:0.1; fill:none\" points=\"\n",
       "  748.711,1434.03 748.711,47.2441 \n",
       "  \"/>\n",
       "<polyline clip-path=\"url(#clip392)\" style=\"stroke:#000000; stroke-width:2; stroke-opacity:0.1; fill:none\" points=\"\n",
       "  920.656,1434.03 920.656,47.2441 \n",
       "  \"/>\n",
       "<polyline clip-path=\"url(#clip392)\" style=\"stroke:#000000; stroke-width:2; stroke-opacity:0.1; fill:none\" points=\"\n",
       "  1092.6,1434.03 1092.6,47.2441 \n",
       "  \"/>\n",
       "<polyline clip-path=\"url(#clip392)\" style=\"stroke:#000000; stroke-width:2; stroke-opacity:0.1; fill:none\" points=\"\n",
       "  255.36,1205 1160.33,1205 \n",
       "  \"/>\n",
       "<polyline clip-path=\"url(#clip392)\" style=\"stroke:#000000; stroke-width:2; stroke-opacity:0.1; fill:none\" points=\"\n",
       "  255.36,941.504 1160.33,941.504 \n",
       "  \"/>\n",
       "<polyline clip-path=\"url(#clip392)\" style=\"stroke:#000000; stroke-width:2; stroke-opacity:0.1; fill:none\" points=\"\n",
       "  255.36,678.012 1160.33,678.012 \n",
       "  \"/>\n",
       "<polyline clip-path=\"url(#clip392)\" style=\"stroke:#000000; stroke-width:2; stroke-opacity:0.1; fill:none\" points=\"\n",
       "  255.36,414.521 1160.33,414.521 \n",
       "  \"/>\n",
       "<polyline clip-path=\"url(#clip392)\" style=\"stroke:#000000; stroke-width:2; stroke-opacity:0.1; fill:none\" points=\"\n",
       "  255.36,151.029 1160.33,151.029 \n",
       "  \"/>\n",
       "<polyline clip-path=\"url(#clip390)\" style=\"stroke:#000000; stroke-width:4; stroke-opacity:1; fill:none\" points=\"\n",
       "  255.36,1434.03 1160.33,1434.03 \n",
       "  \"/>\n",
       "<polyline clip-path=\"url(#clip390)\" style=\"stroke:#000000; stroke-width:4; stroke-opacity:1; fill:none\" points=\"\n",
       "  255.36,1434.03 255.36,47.2441 \n",
       "  \"/>\n",
       "<polyline clip-path=\"url(#clip390)\" style=\"stroke:#000000; stroke-width:4; stroke-opacity:1; fill:none\" points=\"\n",
       "  404.821,1434.03 404.821,1417.39 \n",
       "  \"/>\n",
       "<polyline clip-path=\"url(#clip390)\" style=\"stroke:#000000; stroke-width:4; stroke-opacity:1; fill:none\" points=\"\n",
       "  576.766,1434.03 576.766,1417.39 \n",
       "  \"/>\n",
       "<polyline clip-path=\"url(#clip390)\" style=\"stroke:#000000; stroke-width:4; stroke-opacity:1; fill:none\" points=\"\n",
       "  748.711,1434.03 748.711,1417.39 \n",
       "  \"/>\n",
       "<polyline clip-path=\"url(#clip390)\" style=\"stroke:#000000; stroke-width:4; stroke-opacity:1; fill:none\" points=\"\n",
       "  920.656,1434.03 920.656,1417.39 \n",
       "  \"/>\n",
       "<polyline clip-path=\"url(#clip390)\" style=\"stroke:#000000; stroke-width:4; stroke-opacity:1; fill:none\" points=\"\n",
       "  1092.6,1434.03 1092.6,1417.39 \n",
       "  \"/>\n",
       "<polyline clip-path=\"url(#clip390)\" style=\"stroke:#000000; stroke-width:4; stroke-opacity:1; fill:none\" points=\"\n",
       "  255.36,1205 266.22,1205 \n",
       "  \"/>\n",
       "<polyline clip-path=\"url(#clip390)\" style=\"stroke:#000000; stroke-width:4; stroke-opacity:1; fill:none\" points=\"\n",
       "  255.36,941.504 266.22,941.504 \n",
       "  \"/>\n",
       "<polyline clip-path=\"url(#clip390)\" style=\"stroke:#000000; stroke-width:4; stroke-opacity:1; fill:none\" points=\"\n",
       "  255.36,678.012 266.22,678.012 \n",
       "  \"/>\n",
       "<polyline clip-path=\"url(#clip390)\" style=\"stroke:#000000; stroke-width:4; stroke-opacity:1; fill:none\" points=\"\n",
       "  255.36,414.521 266.22,414.521 \n",
       "  \"/>\n",
       "<polyline clip-path=\"url(#clip390)\" style=\"stroke:#000000; stroke-width:4; stroke-opacity:1; fill:none\" points=\"\n",
       "  255.36,151.029 266.22,151.029 \n",
       "  \"/>\n",
       "<path clip-path=\"url(#clip390)\" d=\"M 0 0 M361.233 1456.02 Q357.622 1456.02 355.794 1459.59 Q353.988 1463.13 353.988 1470.26 Q353.988 1477.37 355.794 1480.93 Q357.622 1484.47 361.233 1484.47 Q364.868 1484.47 366.673 1480.93 Q368.502 1477.37 368.502 1470.26 Q368.502 1463.13 366.673 1459.59 Q364.868 1456.02 361.233 1456.02 M361.233 1452.32 Q367.044 1452.32 370.099 1456.93 Q373.178 1461.51 373.178 1470.26 Q373.178 1478.99 370.099 1483.59 Q367.044 1488.18 361.233 1488.18 Q355.423 1488.18 352.345 1483.59 Q349.289 1478.99 349.289 1470.26 Q349.289 1461.51 352.345 1456.93 Q355.423 1452.32 361.233 1452.32 Z\" fill=\"#000000\" fill-rule=\"evenodd\" fill-opacity=\"1\" /><path clip-path=\"url(#clip390)\" d=\"M 0 0 M378.247 1481.63 L383.131 1481.63 L383.131 1487.51 L378.247 1487.51 L378.247 1481.63 Z\" fill=\"#000000\" fill-rule=\"evenodd\" fill-opacity=\"1\" /><path clip-path=\"url(#clip390)\" d=\"M 0 0 M389.011 1483.57 L396.65 1483.57 L396.65 1457.2 L388.34 1458.87 L388.34 1454.61 L396.604 1452.95 L401.28 1452.95 L401.28 1483.57 L408.918 1483.57 L408.918 1487.51 L389.011 1487.51 L389.011 1483.57 Z\" fill=\"#000000\" fill-rule=\"evenodd\" fill-opacity=\"1\" /><path clip-path=\"url(#clip390)\" d=\"M 0 0 M418.016 1483.57 L434.335 1483.57 L434.335 1487.51 L412.391 1487.51 L412.391 1483.57 Q415.053 1480.82 419.636 1476.19 Q424.242 1471.53 425.423 1470.19 Q427.668 1467.67 428.548 1465.93 Q429.451 1464.17 429.451 1462.48 Q429.451 1459.73 427.506 1457.99 Q425.585 1456.26 422.483 1456.26 Q420.284 1456.26 417.83 1457.02 Q415.4 1457.78 412.622 1459.33 L412.622 1454.61 Q415.446 1453.48 417.9 1452.9 Q420.354 1452.32 422.391 1452.32 Q427.761 1452.32 430.955 1455.01 Q434.15 1457.69 434.15 1462.18 Q434.15 1464.31 433.34 1466.23 Q432.553 1468.13 430.446 1470.72 Q429.867 1471.39 426.766 1474.61 Q423.664 1477.81 418.016 1483.57 Z\" fill=\"#000000\" fill-rule=\"evenodd\" fill-opacity=\"1\" /><path clip-path=\"url(#clip390)\" d=\"M 0 0 M439.451 1452.95 L457.807 1452.95 L457.807 1456.88 L443.733 1456.88 L443.733 1465.35 Q444.752 1465.01 445.77 1464.84 Q446.789 1464.66 447.807 1464.66 Q453.594 1464.66 456.974 1467.83 Q460.353 1471 460.353 1476.42 Q460.353 1482 456.881 1485.1 Q453.409 1488.18 447.089 1488.18 Q444.914 1488.18 442.645 1487.81 Q440.4 1487.44 437.992 1486.69 L437.992 1482 Q440.076 1483.13 442.298 1483.69 Q444.52 1484.24 446.997 1484.24 Q451.002 1484.24 453.339 1482.13 Q455.677 1480.03 455.677 1476.42 Q455.677 1472.81 453.339 1470.7 Q451.002 1468.59 446.997 1468.59 Q445.122 1468.59 443.247 1469.01 Q441.395 1469.43 439.451 1470.31 L439.451 1452.95 Z\" fill=\"#000000\" fill-rule=\"evenodd\" fill-opacity=\"1\" /><path clip-path=\"url(#clip390)\" d=\"M 0 0 M532.38 1456.02 Q528.769 1456.02 526.94 1459.59 Q525.135 1463.13 525.135 1470.26 Q525.135 1477.37 526.94 1480.93 Q528.769 1484.47 532.38 1484.47 Q536.014 1484.47 537.82 1480.93 Q539.648 1477.37 539.648 1470.26 Q539.648 1463.13 537.82 1459.59 Q536.014 1456.02 532.38 1456.02 M532.38 1452.32 Q538.19 1452.32 541.246 1456.93 Q544.324 1461.51 544.324 1470.26 Q544.324 1478.99 541.246 1483.59 Q538.19 1488.18 532.38 1488.18 Q526.57 1488.18 523.491 1483.59 Q520.436 1478.99 520.436 1470.26 Q520.436 1461.51 523.491 1456.93 Q526.57 1452.32 532.38 1452.32 Z\" fill=\"#000000\" fill-rule=\"evenodd\" fill-opacity=\"1\" /><path clip-path=\"url(#clip390)\" d=\"M 0 0 M549.394 1481.63 L554.278 1481.63 L554.278 1487.51 L549.394 1487.51 L549.394 1481.63 Z\" fill=\"#000000\" fill-rule=\"evenodd\" fill-opacity=\"1\" /><path clip-path=\"url(#clip390)\" d=\"M 0 0 M560.158 1483.57 L567.796 1483.57 L567.796 1457.2 L559.486 1458.87 L559.486 1454.61 L567.75 1452.95 L572.426 1452.95 L572.426 1483.57 L580.065 1483.57 L580.065 1487.51 L560.158 1487.51 L560.158 1483.57 Z\" fill=\"#000000\" fill-rule=\"evenodd\" fill-opacity=\"1\" /><path clip-path=\"url(#clip390)\" d=\"M 0 0 M585.181 1452.95 L603.537 1452.95 L603.537 1456.88 L589.463 1456.88 L589.463 1465.35 Q590.481 1465.01 591.5 1464.84 Q592.518 1464.66 593.537 1464.66 Q599.324 1464.66 602.704 1467.83 Q606.083 1471 606.083 1476.42 Q606.083 1482 602.611 1485.1 Q599.139 1488.18 592.819 1488.18 Q590.644 1488.18 588.375 1487.81 Q586.13 1487.44 583.722 1486.69 L583.722 1482 Q585.806 1483.13 588.028 1483.69 Q590.25 1484.24 592.727 1484.24 Q596.731 1484.24 599.069 1482.13 Q601.407 1480.03 601.407 1476.42 Q601.407 1472.81 599.069 1470.7 Q596.731 1468.59 592.727 1468.59 Q590.852 1468.59 588.977 1469.01 Q587.125 1469.43 585.181 1470.31 L585.181 1452.95 Z\" fill=\"#000000\" fill-rule=\"evenodd\" fill-opacity=\"1\" /><path clip-path=\"url(#clip390)\" d=\"M 0 0 M621.153 1456.02 Q617.542 1456.02 615.713 1459.59 Q613.907 1463.13 613.907 1470.26 Q613.907 1477.37 615.713 1480.93 Q617.542 1484.47 621.153 1484.47 Q624.787 1484.47 626.592 1480.93 Q628.421 1477.37 628.421 1470.26 Q628.421 1463.13 626.592 1459.59 Q624.787 1456.02 621.153 1456.02 M621.153 1452.32 Q626.963 1452.32 630.018 1456.93 Q633.097 1461.51 633.097 1470.26 Q633.097 1478.99 630.018 1483.59 Q626.963 1488.18 621.153 1488.18 Q615.342 1488.18 612.264 1483.59 Q609.208 1478.99 609.208 1470.26 Q609.208 1461.51 612.264 1456.93 Q615.342 1452.32 621.153 1452.32 Z\" fill=\"#000000\" fill-rule=\"evenodd\" fill-opacity=\"1\" /><path clip-path=\"url(#clip390)\" d=\"M 0 0 M704.776 1456.02 Q701.165 1456.02 699.337 1459.59 Q697.531 1463.13 697.531 1470.26 Q697.531 1477.37 699.337 1480.93 Q701.165 1484.47 704.776 1484.47 Q708.411 1484.47 710.216 1480.93 Q712.045 1477.37 712.045 1470.26 Q712.045 1463.13 710.216 1459.59 Q708.411 1456.02 704.776 1456.02 M704.776 1452.32 Q710.587 1452.32 713.642 1456.93 Q716.721 1461.51 716.721 1470.26 Q716.721 1478.99 713.642 1483.59 Q710.587 1488.18 704.776 1488.18 Q698.966 1488.18 695.888 1483.59 Q692.832 1478.99 692.832 1470.26 Q692.832 1461.51 695.888 1456.93 Q698.966 1452.32 704.776 1452.32 Z\" fill=\"#000000\" fill-rule=\"evenodd\" fill-opacity=\"1\" /><path clip-path=\"url(#clip390)\" d=\"M 0 0 M721.79 1481.63 L726.674 1481.63 L726.674 1487.51 L721.79 1487.51 L721.79 1481.63 Z\" fill=\"#000000\" fill-rule=\"evenodd\" fill-opacity=\"1\" /><path clip-path=\"url(#clip390)\" d=\"M 0 0 M732.554 1483.57 L740.193 1483.57 L740.193 1457.2 L731.883 1458.87 L731.883 1454.61 L740.147 1452.95 L744.822 1452.95 L744.822 1483.57 L752.461 1483.57 L752.461 1487.51 L732.554 1487.51 L732.554 1483.57 Z\" fill=\"#000000\" fill-rule=\"evenodd\" fill-opacity=\"1\" /><path clip-path=\"url(#clip390)\" d=\"M 0 0 M756.35 1452.95 L778.572 1452.95 L778.572 1454.94 L766.026 1487.51 L761.142 1487.51 L772.947 1456.88 L756.35 1456.88 L756.35 1452.95 Z\" fill=\"#000000\" fill-rule=\"evenodd\" fill-opacity=\"1\" /><path clip-path=\"url(#clip390)\" d=\"M 0 0 M783.688 1452.95 L802.044 1452.95 L802.044 1456.88 L787.97 1456.88 L787.97 1465.35 Q788.989 1465.01 790.007 1464.84 Q791.026 1464.66 792.044 1464.66 Q797.831 1464.66 801.211 1467.83 Q804.591 1471 804.591 1476.42 Q804.591 1482 801.118 1485.1 Q797.646 1488.18 791.327 1488.18 Q789.151 1488.18 786.882 1487.81 Q784.637 1487.44 782.23 1486.69 L782.23 1482 Q784.313 1483.13 786.535 1483.69 Q788.757 1484.24 791.234 1484.24 Q795.239 1484.24 797.577 1482.13 Q799.915 1480.03 799.915 1476.42 Q799.915 1472.81 797.577 1470.7 Q795.239 1468.59 791.234 1468.59 Q789.359 1468.59 787.484 1469.01 Q785.632 1469.43 783.688 1470.31 L783.688 1452.95 Z\" fill=\"#000000\" fill-rule=\"evenodd\" fill-opacity=\"1\" /><path clip-path=\"url(#clip390)\" d=\"M 0 0 M875.958 1456.02 Q872.346 1456.02 870.518 1459.59 Q868.712 1463.13 868.712 1470.26 Q868.712 1477.37 870.518 1480.93 Q872.346 1484.47 875.958 1484.47 Q879.592 1484.47 881.397 1480.93 Q883.226 1477.37 883.226 1470.26 Q883.226 1463.13 881.397 1459.59 Q879.592 1456.02 875.958 1456.02 M875.958 1452.32 Q881.768 1452.32 884.823 1456.93 Q887.902 1461.51 887.902 1470.26 Q887.902 1478.99 884.823 1483.59 Q881.768 1488.18 875.958 1488.18 Q870.147 1488.18 867.069 1483.59 Q864.013 1478.99 864.013 1470.26 Q864.013 1461.51 867.069 1456.93 Q870.147 1452.32 875.958 1452.32 Z\" fill=\"#000000\" fill-rule=\"evenodd\" fill-opacity=\"1\" /><path clip-path=\"url(#clip390)\" d=\"M 0 0 M892.971 1481.63 L897.856 1481.63 L897.856 1487.51 L892.971 1487.51 L892.971 1481.63 Z\" fill=\"#000000\" fill-rule=\"evenodd\" fill-opacity=\"1\" /><path clip-path=\"url(#clip390)\" d=\"M 0 0 M906.953 1483.57 L923.272 1483.57 L923.272 1487.51 L901.328 1487.51 L901.328 1483.57 Q903.99 1480.82 908.573 1476.19 Q913.18 1471.53 914.36 1470.19 Q916.605 1467.67 917.485 1465.93 Q918.388 1464.17 918.388 1462.48 Q918.388 1459.73 916.443 1457.99 Q914.522 1456.26 911.42 1456.26 Q909.221 1456.26 906.768 1457.02 Q904.337 1457.78 901.559 1459.33 L901.559 1454.61 Q904.383 1453.48 906.837 1452.9 Q909.291 1452.32 911.328 1452.32 Q916.698 1452.32 919.893 1455.01 Q923.087 1457.69 923.087 1462.18 Q923.087 1464.31 922.277 1466.23 Q921.49 1468.13 919.383 1470.72 Q918.805 1471.39 915.703 1474.61 Q912.601 1477.81 906.953 1483.57 Z\" fill=\"#000000\" fill-rule=\"evenodd\" fill-opacity=\"1\" /><path clip-path=\"url(#clip390)\" d=\"M 0 0 M938.341 1456.02 Q934.73 1456.02 932.902 1459.59 Q931.096 1463.13 931.096 1470.26 Q931.096 1477.37 932.902 1480.93 Q934.73 1484.47 938.341 1484.47 Q941.976 1484.47 943.781 1480.93 Q945.61 1477.37 945.61 1470.26 Q945.61 1463.13 943.781 1459.59 Q941.976 1456.02 938.341 1456.02 M938.341 1452.32 Q944.152 1452.32 947.207 1456.93 Q950.286 1461.51 950.286 1470.26 Q950.286 1478.99 947.207 1483.59 Q944.152 1488.18 938.341 1488.18 Q932.531 1488.18 929.453 1483.59 Q926.397 1478.99 926.397 1470.26 Q926.397 1461.51 929.453 1456.93 Q932.531 1452.32 938.341 1452.32 Z\" fill=\"#000000\" fill-rule=\"evenodd\" fill-opacity=\"1\" /><path clip-path=\"url(#clip390)\" d=\"M 0 0 M965.355 1456.02 Q961.744 1456.02 959.915 1459.59 Q958.11 1463.13 958.11 1470.26 Q958.11 1477.37 959.915 1480.93 Q961.744 1484.47 965.355 1484.47 Q968.989 1484.47 970.795 1480.93 Q972.624 1477.37 972.624 1470.26 Q972.624 1463.13 970.795 1459.59 Q968.989 1456.02 965.355 1456.02 M965.355 1452.32 Q971.165 1452.32 974.221 1456.93 Q977.3 1461.51 977.3 1470.26 Q977.3 1478.99 974.221 1483.59 Q971.165 1488.18 965.355 1488.18 Q959.545 1488.18 956.466 1483.59 Q953.411 1478.99 953.411 1470.26 Q953.411 1461.51 956.466 1456.93 Q959.545 1452.32 965.355 1452.32 Z\" fill=\"#000000\" fill-rule=\"evenodd\" fill-opacity=\"1\" /><path clip-path=\"url(#clip390)\" d=\"M 0 0 M1049.2 1456.02 Q1045.59 1456.02 1043.76 1459.59 Q1041.95 1463.13 1041.95 1470.26 Q1041.95 1477.37 1043.76 1480.93 Q1045.59 1484.47 1049.2 1484.47 Q1052.83 1484.47 1054.64 1480.93 Q1056.47 1477.37 1056.47 1470.26 Q1056.47 1463.13 1054.64 1459.59 Q1052.83 1456.02 1049.2 1456.02 M1049.2 1452.32 Q1055.01 1452.32 1058.06 1456.93 Q1061.14 1461.51 1061.14 1470.26 Q1061.14 1478.99 1058.06 1483.59 Q1055.01 1488.18 1049.2 1488.18 Q1043.39 1488.18 1040.31 1483.59 Q1037.25 1478.99 1037.25 1470.26 Q1037.25 1461.51 1040.31 1456.93 Q1043.39 1452.32 1049.2 1452.32 Z\" fill=\"#000000\" fill-rule=\"evenodd\" fill-opacity=\"1\" /><path clip-path=\"url(#clip390)\" d=\"M 0 0 M1066.21 1481.63 L1071.1 1481.63 L1071.1 1487.51 L1066.21 1487.51 L1066.21 1481.63 Z\" fill=\"#000000\" fill-rule=\"evenodd\" fill-opacity=\"1\" /><path clip-path=\"url(#clip390)\" d=\"M 0 0 M1080.19 1483.57 L1096.51 1483.57 L1096.51 1487.51 L1074.57 1487.51 L1074.57 1483.57 Q1077.23 1480.82 1081.81 1476.19 Q1086.42 1471.53 1087.6 1470.19 Q1089.85 1467.67 1090.73 1465.93 Q1091.63 1464.17 1091.63 1462.48 Q1091.63 1459.73 1089.68 1457.99 Q1087.76 1456.26 1084.66 1456.26 Q1082.46 1456.26 1080.01 1457.02 Q1077.58 1457.78 1074.8 1459.33 L1074.8 1454.61 Q1077.62 1453.48 1080.08 1452.9 Q1082.53 1452.32 1084.57 1452.32 Q1089.94 1452.32 1093.13 1455.01 Q1096.33 1457.69 1096.33 1462.18 Q1096.33 1464.31 1095.52 1466.23 Q1094.73 1468.13 1092.62 1470.72 Q1092.05 1471.39 1088.94 1474.61 Q1085.84 1477.81 1080.19 1483.57 Z\" fill=\"#000000\" fill-rule=\"evenodd\" fill-opacity=\"1\" /><path clip-path=\"url(#clip390)\" d=\"M 0 0 M1105.61 1483.57 L1121.93 1483.57 L1121.93 1487.51 L1099.99 1487.51 L1099.99 1483.57 Q1102.65 1480.82 1107.23 1476.19 Q1111.84 1471.53 1113.02 1470.19 Q1115.26 1467.67 1116.14 1465.93 Q1117.05 1464.17 1117.05 1462.48 Q1117.05 1459.73 1115.1 1457.99 Q1113.18 1456.26 1110.08 1456.26 Q1107.88 1456.26 1105.43 1457.02 Q1102.99 1457.78 1100.22 1459.33 L1100.22 1454.61 Q1103.04 1453.48 1105.49 1452.9 Q1107.95 1452.32 1109.99 1452.32 Q1115.36 1452.32 1118.55 1455.01 Q1121.74 1457.69 1121.74 1462.18 Q1121.74 1464.31 1120.93 1466.23 Q1120.15 1468.13 1118.04 1470.72 Q1117.46 1471.39 1114.36 1474.61 Q1111.26 1477.81 1105.61 1483.57 Z\" fill=\"#000000\" fill-rule=\"evenodd\" fill-opacity=\"1\" /><path clip-path=\"url(#clip390)\" d=\"M 0 0 M1127.05 1452.95 L1145.4 1452.95 L1145.4 1456.88 L1131.33 1456.88 L1131.33 1465.35 Q1132.35 1465.01 1133.37 1464.84 Q1134.38 1464.66 1135.4 1464.66 Q1141.19 1464.66 1144.57 1467.83 Q1147.95 1471 1147.95 1476.42 Q1147.95 1482 1144.48 1485.1 Q1141 1488.18 1134.68 1488.18 Q1132.51 1488.18 1130.24 1487.81 Q1127.99 1487.44 1125.59 1486.69 L1125.59 1482 Q1127.67 1483.13 1129.89 1483.69 Q1132.12 1484.24 1134.59 1484.24 Q1138.6 1484.24 1140.93 1482.13 Q1143.27 1480.03 1143.27 1476.42 Q1143.27 1472.81 1140.93 1470.7 Q1138.6 1468.59 1134.59 1468.59 Q1132.72 1468.59 1130.84 1469.01 Q1128.99 1469.43 1127.05 1470.31 L1127.05 1452.95 Z\" fill=\"#000000\" fill-rule=\"evenodd\" fill-opacity=\"1\" /><path clip-path=\"url(#clip390)\" d=\"M 0 0 M132.24 1190.79 Q128.629 1190.79 126.8 1194.36 Q124.995 1197.9 124.995 1205.03 Q124.995 1212.14 126.8 1215.7 Q128.629 1219.24 132.24 1219.24 Q135.874 1219.24 137.68 1215.7 Q139.509 1212.14 139.509 1205.03 Q139.509 1197.9 137.68 1194.36 Q135.874 1190.79 132.24 1190.79 M132.24 1187.09 Q138.05 1187.09 141.106 1191.7 Q144.184 1196.28 144.184 1205.03 Q144.184 1213.76 141.106 1218.36 Q138.05 1222.95 132.24 1222.95 Q126.43 1222.95 123.351 1218.36 Q120.296 1213.76 120.296 1205.03 Q120.296 1196.28 123.351 1191.7 Q126.43 1187.09 132.24 1187.09 Z\" fill=\"#000000\" fill-rule=\"evenodd\" fill-opacity=\"1\" /><path clip-path=\"url(#clip390)\" d=\"M 0 0 M149.254 1216.4 L154.138 1216.4 L154.138 1222.28 L149.254 1222.28 L149.254 1216.4 Z\" fill=\"#000000\" fill-rule=\"evenodd\" fill-opacity=\"1\" /><path clip-path=\"url(#clip390)\" d=\"M 0 0 M160.018 1218.34 L167.657 1218.34 L167.657 1191.98 L159.346 1193.64 L159.346 1189.38 L167.61 1187.72 L172.286 1187.72 L172.286 1218.34 L179.925 1218.34 L179.925 1222.28 L160.018 1222.28 L160.018 1218.34 Z\" fill=\"#000000\" fill-rule=\"evenodd\" fill-opacity=\"1\" /><path clip-path=\"url(#clip390)\" d=\"M 0 0 M189.022 1218.34 L205.342 1218.34 L205.342 1222.28 L183.397 1222.28 L183.397 1218.34 Q186.059 1215.59 190.643 1210.96 Q195.249 1206.3 196.43 1204.96 Q198.675 1202.44 199.555 1200.7 Q200.457 1198.94 200.457 1197.25 Q200.457 1194.5 198.513 1192.76 Q196.592 1191.03 193.49 1191.03 Q191.291 1191.03 188.837 1191.79 Q186.406 1192.55 183.629 1194.1 L183.629 1189.38 Q186.453 1188.25 188.906 1187.67 Q191.36 1187.09 193.397 1187.09 Q198.768 1187.09 201.962 1189.78 Q205.156 1192.46 205.156 1196.95 Q205.156 1199.08 204.346 1201 Q203.559 1202.9 201.453 1205.49 Q200.874 1206.16 197.772 1209.38 Q194.67 1212.58 189.022 1218.34 Z\" fill=\"#000000\" fill-rule=\"evenodd\" fill-opacity=\"1\" /><path clip-path=\"url(#clip390)\" d=\"M 0 0 M210.457 1187.72 L228.814 1187.72 L228.814 1191.65 L214.74 1191.65 L214.74 1200.12 Q215.758 1199.78 216.777 1199.61 Q217.795 1199.43 218.814 1199.43 Q224.601 1199.43 227.98 1202.6 Q231.36 1205.77 231.36 1211.19 Q231.36 1216.77 227.888 1219.87 Q224.416 1222.95 218.096 1222.95 Q215.92 1222.95 213.652 1222.58 Q211.406 1222.21 208.999 1221.47 L208.999 1216.77 Q211.082 1217.9 213.304 1218.46 Q215.527 1219.01 218.004 1219.01 Q222.008 1219.01 224.346 1216.91 Q226.684 1214.8 226.684 1211.19 Q226.684 1207.58 224.346 1205.47 Q222.008 1203.36 218.004 1203.36 Q216.129 1203.36 214.254 1203.78 Q212.402 1204.2 210.457 1205.08 L210.457 1187.72 Z\" fill=\"#000000\" fill-rule=\"evenodd\" fill-opacity=\"1\" /><path clip-path=\"url(#clip390)\" d=\"M 0 0 M130.643 927.303 Q127.032 927.303 125.203 930.868 Q123.398 934.409 123.398 941.539 Q123.398 948.645 125.203 952.21 Q127.032 955.752 130.643 955.752 Q134.277 955.752 136.083 952.21 Q137.911 948.645 137.911 941.539 Q137.911 934.409 136.083 930.868 Q134.277 927.303 130.643 927.303 M130.643 923.599 Q136.453 923.599 139.509 928.206 Q142.587 932.789 142.587 941.539 Q142.587 950.266 139.509 954.872 Q136.453 959.456 130.643 959.456 Q124.833 959.456 121.754 954.872 Q118.698 950.266 118.698 941.539 Q118.698 932.789 121.754 928.206 Q124.833 923.599 130.643 923.599 Z\" fill=\"#000000\" fill-rule=\"evenodd\" fill-opacity=\"1\" /><path clip-path=\"url(#clip390)\" d=\"M 0 0 M147.657 952.905 L152.541 952.905 L152.541 958.784 L147.657 958.784 L147.657 952.905 Z\" fill=\"#000000\" fill-rule=\"evenodd\" fill-opacity=\"1\" /><path clip-path=\"url(#clip390)\" d=\"M 0 0 M158.42 954.849 L166.059 954.849 L166.059 928.483 L157.749 930.15 L157.749 925.891 L166.013 924.224 L170.689 924.224 L170.689 954.849 L178.328 954.849 L178.328 958.784 L158.42 958.784 L158.42 954.849 Z\" fill=\"#000000\" fill-rule=\"evenodd\" fill-opacity=\"1\" /><path clip-path=\"url(#clip390)\" d=\"M 0 0 M183.444 924.224 L201.8 924.224 L201.8 928.159 L187.726 928.159 L187.726 936.632 Q188.744 936.284 189.763 936.122 Q190.781 935.937 191.8 935.937 Q197.587 935.937 200.967 939.108 Q204.346 942.28 204.346 947.696 Q204.346 953.275 200.874 956.377 Q197.402 959.456 191.082 959.456 Q188.906 959.456 186.638 959.085 Q184.393 958.715 181.985 957.974 L181.985 953.275 Q184.069 954.409 186.291 954.965 Q188.513 955.52 190.99 955.52 Q194.994 955.52 197.332 953.414 Q199.67 951.307 199.67 947.696 Q199.67 944.085 197.332 941.979 Q194.994 939.872 190.99 939.872 Q189.115 939.872 187.24 940.289 Q185.388 940.706 183.444 941.585 L183.444 924.224 Z\" fill=\"#000000\" fill-rule=\"evenodd\" fill-opacity=\"1\" /><path clip-path=\"url(#clip390)\" d=\"M 0 0 M219.416 927.303 Q215.804 927.303 213.976 930.868 Q212.17 934.409 212.17 941.539 Q212.17 948.645 213.976 952.21 Q215.804 955.752 219.416 955.752 Q223.05 955.752 224.855 952.21 Q226.684 948.645 226.684 941.539 Q226.684 934.409 224.855 930.868 Q223.05 927.303 219.416 927.303 M219.416 923.599 Q225.226 923.599 228.281 928.206 Q231.36 932.789 231.36 941.539 Q231.36 950.266 228.281 954.872 Q225.226 959.456 219.416 959.456 Q213.605 959.456 210.527 954.872 Q207.471 950.266 207.471 941.539 Q207.471 932.789 210.527 928.206 Q213.605 923.599 219.416 923.599 Z\" fill=\"#000000\" fill-rule=\"evenodd\" fill-opacity=\"1\" /><path clip-path=\"url(#clip390)\" d=\"M 0 0 M131.546 663.811 Q127.935 663.811 126.106 667.376 Q124.3 670.918 124.3 678.047 Q124.3 685.154 126.106 688.718 Q127.935 692.26 131.546 692.26 Q135.18 692.26 136.985 688.718 Q138.814 685.154 138.814 678.047 Q138.814 670.918 136.985 667.376 Q135.18 663.811 131.546 663.811 M131.546 660.107 Q137.356 660.107 140.411 664.714 Q143.49 669.297 143.49 678.047 Q143.49 686.774 140.411 691.38 Q137.356 695.964 131.546 695.964 Q125.735 695.964 122.657 691.38 Q119.601 686.774 119.601 678.047 Q119.601 669.297 122.657 664.714 Q125.735 660.107 131.546 660.107 Z\" fill=\"#000000\" fill-rule=\"evenodd\" fill-opacity=\"1\" /><path clip-path=\"url(#clip390)\" d=\"M 0 0 M148.559 689.413 L153.444 689.413 L153.444 695.292 L148.559 695.292 L148.559 689.413 Z\" fill=\"#000000\" fill-rule=\"evenodd\" fill-opacity=\"1\" /><path clip-path=\"url(#clip390)\" d=\"M 0 0 M159.323 691.357 L166.962 691.357 L166.962 664.992 L158.652 666.658 L158.652 662.399 L166.916 660.732 L171.592 660.732 L171.592 691.357 L179.231 691.357 L179.231 695.292 L159.323 695.292 L159.323 691.357 Z\" fill=\"#000000\" fill-rule=\"evenodd\" fill-opacity=\"1\" /><path clip-path=\"url(#clip390)\" d=\"M 0 0 M183.119 660.732 L205.342 660.732 L205.342 662.723 L192.795 695.292 L187.911 695.292 L199.717 664.668 L183.119 664.668 L183.119 660.732 Z\" fill=\"#000000\" fill-rule=\"evenodd\" fill-opacity=\"1\" /><path clip-path=\"url(#clip390)\" d=\"M 0 0 M210.457 660.732 L228.814 660.732 L228.814 664.668 L214.74 664.668 L214.74 673.14 Q215.758 672.793 216.777 672.631 Q217.795 672.445 218.814 672.445 Q224.601 672.445 227.98 675.617 Q231.36 678.788 231.36 684.205 Q231.36 689.783 227.888 692.885 Q224.416 695.964 218.096 695.964 Q215.92 695.964 213.652 695.593 Q211.406 695.223 208.999 694.482 L208.999 689.783 Q211.082 690.917 213.304 691.473 Q215.527 692.029 218.004 692.029 Q222.008 692.029 224.346 689.922 Q226.684 687.816 226.684 684.205 Q226.684 680.593 224.346 678.487 Q222.008 676.381 218.004 676.381 Q216.129 676.381 214.254 676.797 Q212.402 677.214 210.457 678.093 L210.457 660.732 Z\" fill=\"#000000\" fill-rule=\"evenodd\" fill-opacity=\"1\" /><path clip-path=\"url(#clip390)\" d=\"M 0 0 M130.018 400.319 Q126.407 400.319 124.578 403.884 Q122.773 407.426 122.773 414.555 Q122.773 421.662 124.578 425.227 Q126.407 428.768 130.018 428.768 Q133.652 428.768 135.458 425.227 Q137.286 421.662 137.286 414.555 Q137.286 407.426 135.458 403.884 Q133.652 400.319 130.018 400.319 M130.018 396.616 Q135.828 396.616 138.884 401.222 Q141.962 405.805 141.962 414.555 Q141.962 423.282 138.884 427.889 Q135.828 432.472 130.018 432.472 Q124.208 432.472 121.129 427.889 Q118.073 423.282 118.073 414.555 Q118.073 405.805 121.129 401.222 Q124.208 396.616 130.018 396.616 Z\" fill=\"#000000\" fill-rule=\"evenodd\" fill-opacity=\"1\" /><path clip-path=\"url(#clip390)\" d=\"M 0 0 M147.032 425.921 L151.916 425.921 L151.916 431.801 L147.032 431.801 L147.032 425.921 Z\" fill=\"#000000\" fill-rule=\"evenodd\" fill-opacity=\"1\" /><path clip-path=\"url(#clip390)\" d=\"M 0 0 M161.013 427.866 L177.332 427.866 L177.332 431.801 L155.388 431.801 L155.388 427.866 Q158.05 425.111 162.633 420.481 Q167.24 415.829 168.42 414.486 Q170.666 411.963 171.545 410.227 Q172.448 408.467 172.448 406.778 Q172.448 404.023 170.504 402.287 Q168.582 400.551 165.481 400.551 Q163.282 400.551 160.828 401.315 Q158.397 402.079 155.62 403.63 L155.62 398.907 Q158.444 397.773 160.897 397.194 Q163.351 396.616 165.388 396.616 Q170.758 396.616 173.953 399.301 Q177.147 401.986 177.147 406.477 Q177.147 408.606 176.337 410.528 Q175.55 412.426 173.444 415.018 Q172.865 415.69 169.763 418.907 Q166.661 422.102 161.013 427.866 Z\" fill=\"#000000\" fill-rule=\"evenodd\" fill-opacity=\"1\" /><path clip-path=\"url(#clip390)\" d=\"M 0 0 M192.402 400.319 Q188.791 400.319 186.962 403.884 Q185.156 407.426 185.156 414.555 Q185.156 421.662 186.962 425.227 Q188.791 428.768 192.402 428.768 Q196.036 428.768 197.842 425.227 Q199.67 421.662 199.67 414.555 Q199.67 407.426 197.842 403.884 Q196.036 400.319 192.402 400.319 M192.402 396.616 Q198.212 396.616 201.267 401.222 Q204.346 405.805 204.346 414.555 Q204.346 423.282 201.267 427.889 Q198.212 432.472 192.402 432.472 Q186.592 432.472 183.513 427.889 Q180.457 423.282 180.457 414.555 Q180.457 405.805 183.513 401.222 Q186.592 396.616 192.402 396.616 Z\" fill=\"#000000\" fill-rule=\"evenodd\" fill-opacity=\"1\" /><path clip-path=\"url(#clip390)\" d=\"M 0 0 M219.416 400.319 Q215.804 400.319 213.976 403.884 Q212.17 407.426 212.17 414.555 Q212.17 421.662 213.976 425.227 Q215.804 428.768 219.416 428.768 Q223.05 428.768 224.855 425.227 Q226.684 421.662 226.684 414.555 Q226.684 407.426 224.855 403.884 Q223.05 400.319 219.416 400.319 M219.416 396.616 Q225.226 396.616 228.281 401.222 Q231.36 405.805 231.36 414.555 Q231.36 423.282 228.281 427.889 Q225.226 432.472 219.416 432.472 Q213.605 432.472 210.527 427.889 Q207.471 423.282 207.471 414.555 Q207.471 405.805 210.527 401.222 Q213.605 396.616 219.416 396.616 Z\" fill=\"#000000\" fill-rule=\"evenodd\" fill-opacity=\"1\" /><path clip-path=\"url(#clip390)\" d=\"M 0 0 M132.61 136.828 Q128.999 136.828 127.171 140.392 Q125.365 143.934 125.365 151.064 Q125.365 158.17 127.171 161.735 Q128.999 165.277 132.61 165.277 Q136.245 165.277 138.05 161.735 Q139.879 158.17 139.879 151.064 Q139.879 143.934 138.05 140.392 Q136.245 136.828 132.61 136.828 M132.61 133.124 Q138.421 133.124 141.476 137.73 Q144.555 142.314 144.555 151.064 Q144.555 159.79 141.476 164.397 Q138.421 168.98 132.61 168.98 Q126.8 168.98 123.722 164.397 Q120.666 159.79 120.666 151.064 Q120.666 142.314 123.722 137.73 Q126.8 133.124 132.61 133.124 Z\" fill=\"#000000\" fill-rule=\"evenodd\" fill-opacity=\"1\" /><path clip-path=\"url(#clip390)\" d=\"M 0 0 M149.624 162.429 L154.508 162.429 L154.508 168.309 L149.624 168.309 L149.624 162.429 Z\" fill=\"#000000\" fill-rule=\"evenodd\" fill-opacity=\"1\" /><path clip-path=\"url(#clip390)\" d=\"M 0 0 M163.606 164.374 L179.925 164.374 L179.925 168.309 L157.981 168.309 L157.981 164.374 Q160.643 161.619 165.226 156.99 Q169.832 152.337 171.013 150.994 Q173.258 148.471 174.138 146.735 Q175.041 144.976 175.041 143.286 Q175.041 140.531 173.096 138.795 Q171.175 137.059 168.073 137.059 Q165.874 137.059 163.42 137.823 Q160.99 138.587 158.212 140.138 L158.212 135.416 Q161.036 134.281 163.49 133.703 Q165.944 133.124 167.981 133.124 Q173.351 133.124 176.545 135.809 Q179.74 138.494 179.74 142.985 Q179.74 145.115 178.93 147.036 Q178.143 148.934 176.036 151.527 Q175.457 152.198 172.356 155.415 Q169.254 158.61 163.606 164.374 Z\" fill=\"#000000\" fill-rule=\"evenodd\" fill-opacity=\"1\" /><path clip-path=\"url(#clip390)\" d=\"M 0 0 M189.022 164.374 L205.342 164.374 L205.342 168.309 L183.397 168.309 L183.397 164.374 Q186.059 161.619 190.643 156.99 Q195.249 152.337 196.43 150.994 Q198.675 148.471 199.555 146.735 Q200.457 144.976 200.457 143.286 Q200.457 140.531 198.513 138.795 Q196.592 137.059 193.49 137.059 Q191.291 137.059 188.837 137.823 Q186.406 138.587 183.629 140.138 L183.629 135.416 Q186.453 134.281 188.906 133.703 Q191.36 133.124 193.397 133.124 Q198.768 133.124 201.962 135.809 Q205.156 138.494 205.156 142.985 Q205.156 145.115 204.346 147.036 Q203.559 148.934 201.453 151.527 Q200.874 152.198 197.772 155.415 Q194.67 158.61 189.022 164.374 Z\" fill=\"#000000\" fill-rule=\"evenodd\" fill-opacity=\"1\" /><path clip-path=\"url(#clip390)\" d=\"M 0 0 M210.457 133.749 L228.814 133.749 L228.814 137.684 L214.74 137.684 L214.74 146.156 Q215.758 145.809 216.777 145.647 Q217.795 145.462 218.814 145.462 Q224.601 145.462 227.98 148.633 Q231.36 151.804 231.36 157.221 Q231.36 162.8 227.888 165.902 Q224.416 168.98 218.096 168.98 Q215.92 168.98 213.652 168.61 Q211.406 168.239 208.999 167.499 L208.999 162.8 Q211.082 163.934 213.304 164.489 Q215.527 165.045 218.004 165.045 Q222.008 165.045 224.346 162.939 Q226.684 160.832 226.684 157.221 Q226.684 153.61 224.346 151.503 Q222.008 149.397 218.004 149.397 Q216.129 149.397 214.254 149.814 Q212.402 150.23 210.457 151.11 L210.457 133.749 Z\" fill=\"#000000\" fill-rule=\"evenodd\" fill-opacity=\"1\" /><path clip-path=\"url(#clip390)\" d=\"M 0 0 M722.099 1502.96 Q722.099 1503.37 722.002 1503.66 Q721.906 1503.92 721.68 1504.05 Q721.455 1504.18 721.326 1504.21 Q721.197 1504.24 720.907 1504.28 Q719.522 1504.4 718.556 1504.63 Q717.622 1504.86 715.303 1506.01 Q713.017 1507.17 710.15 1509.27 L698.621 1518.19 L696.688 1519.7 Q696.688 1519.8 696.753 1519.99 Q696.817 1520.15 696.882 1520.38 Q696.978 1520.57 697.01 1520.64 L706.382 1542.25 Q707.123 1543.99 708.025 1544.6 Q708.927 1545.21 710.956 1545.24 Q711.278 1545.24 711.406 1545.27 Q711.567 1545.27 711.793 1545.34 Q712.051 1545.37 712.147 1545.53 Q712.276 1545.69 712.276 1545.95 Q712.276 1547.27 711.084 1547.27 Q710.344 1547.27 707.832 1547.17 Q705.319 1547.08 704.611 1547.08 Q703.291 1547.08 700.585 1547.17 Q697.88 1547.27 696.56 1547.27 Q695.626 1547.27 695.626 1546.53 Q695.626 1545.92 695.851 1545.63 Q696.109 1545.31 696.334 1545.27 Q696.56 1545.24 697.075 1545.24 Q697.461 1545.24 697.88 1545.21 Q698.331 1545.14 698.975 1544.98 Q699.651 1544.79 700.07 1544.34 Q700.521 1543.86 700.521 1543.18 Q700.521 1542.63 699.716 1540.86 L692.083 1523.12 L682.26 1530.78 L679.619 1541.15 Q679.555 1541.54 679.394 1542.21 Q679.233 1542.89 679.104 1543.37 Q679.007 1543.86 679.007 1544.05 Q679.007 1544.47 679.265 1544.73 Q679.555 1544.98 680.263 1545.11 Q680.972 1545.21 681.519 1545.24 Q682.099 1545.24 683.291 1545.24 Q684.772 1545.24 685.03 1545.5 Q685.159 1545.66 685.159 1545.95 Q685.159 1546.4 685.03 1546.72 Q684.901 1547.01 684.643 1547.11 Q684.418 1547.21 684.257 1547.24 Q684.096 1547.27 683.838 1547.27 Q683.162 1547.27 681.713 1547.21 Q680.296 1547.14 679.555 1547.14 L675.336 1547.08 L666.962 1547.27 Q665.964 1547.27 665.964 1546.47 Q665.964 1545.85 666.222 1545.6 Q666.479 1545.31 666.769 1545.27 Q667.059 1545.24 667.8 1545.24 Q669.41 1545.24 670.376 1545.14 Q671.342 1545.05 671.954 1544.92 Q672.598 1544.76 672.92 1544.31 Q673.275 1543.86 673.436 1543.47 Q673.597 1543.05 673.822 1542.12 L682.647 1506.69 Q682.904 1505.63 682.904 1505.47 Q682.904 1504.92 682.582 1504.73 Q682.292 1504.5 681.455 1504.4 Q679.845 1504.28 678.621 1504.28 Q677.816 1504.28 677.494 1504.24 Q677.204 1504.21 676.946 1504.05 Q676.721 1503.86 676.721 1503.47 Q676.721 1502.21 678.041 1502.21 L686.543 1502.41 L694.981 1502.21 Q695.915 1502.21 695.915 1502.96 Q695.915 1503.89 695.465 1504.08 Q695.046 1504.28 693.661 1504.28 Q691.246 1504.28 690.151 1504.6 Q689.088 1504.89 688.766 1505.4 Q688.476 1505.89 688.122 1507.3 L682.84 1528.46 L708.572 1508.69 Q710.956 1506.69 710.956 1505.66 Q710.956 1504.98 710.472 1504.69 Q710.022 1504.37 708.894 1504.28 Q708.089 1504.15 708.089 1503.53 Q708.089 1502.92 708.315 1502.63 Q708.572 1502.31 708.766 1502.28 Q708.991 1502.21 709.345 1502.21 Q710.537 1502.21 713.017 1502.31 Q715.497 1502.41 716.688 1502.41 Q717.493 1502.41 719.071 1502.31 Q720.649 1502.21 721.358 1502.21 Q721.712 1502.21 721.906 1502.47 Q722.099 1502.7 722.099 1502.96 Z\" fill=\"#000000\" fill-rule=\"evenodd\" fill-opacity=\"1\" /><path clip-path=\"url(#clip390)\" d=\"M 0 0 M742.809 1544.97 Q742.809 1545.6 742.516 1545.76 Q742.223 1545.9 741.411 1545.9 L737.083 1545.9 L733.656 1559.51 Q733.386 1560.71 733.386 1561.72 Q733.386 1562.85 733.724 1563.34 Q734.085 1563.84 734.829 1563.84 Q736.294 1563.84 737.872 1562.51 Q739.473 1561.18 740.825 1557.93 Q741.006 1557.51 741.096 1557.42 Q741.209 1557.3 741.502 1557.3 Q742.065 1557.3 742.065 1557.75 Q742.065 1557.91 741.75 1558.63 Q741.457 1559.35 740.803 1560.41 Q740.172 1561.47 739.337 1562.47 Q738.526 1563.46 737.286 1564.18 Q736.046 1564.88 734.716 1564.88 Q732.845 1564.88 731.65 1563.68 Q730.478 1562.49 730.478 1560.62 Q730.478 1560.01 730.951 1558.07 Q731.424 1556.11 733.994 1545.9 L729.914 1545.9 Q729.35 1545.9 729.125 1545.87 Q728.922 1545.85 728.764 1545.74 Q728.629 1545.6 728.629 1545.33 Q728.629 1544.9 728.809 1544.72 Q728.99 1544.52 729.215 1544.5 Q729.463 1544.45 730.027 1544.45 L734.355 1544.45 L736.159 1537.13 Q736.339 1536.4 736.79 1536 Q737.263 1535.57 737.534 1535.53 Q737.804 1535.46 738.007 1535.46 Q738.616 1535.46 738.977 1535.8 Q739.337 1536.11 739.337 1536.7 Q739.337 1537.01 737.444 1544.45 L741.502 1544.45 Q742.02 1544.45 742.223 1544.48 Q742.448 1544.5 742.629 1544.61 Q742.809 1544.72 742.809 1544.97 Z\" fill=\"#000000\" fill-rule=\"evenodd\" fill-opacity=\"1\" /><path clip-path=\"url(#clip390)\" d=\"M 0 0 M35.1645 764.178 Q35.5832 764.178 35.873 764.274 Q36.1307 764.371 36.2595 764.596 Q36.3883 764.822 36.4205 764.951 Q36.4527 765.079 36.4849 765.369 Q36.6137 766.754 36.8392 767.72 Q37.0646 768.654 38.224 770.973 Q39.3834 773.26 41.4768 776.126 L50.3978 787.656 L51.9115 789.588 Q52.0081 789.588 52.2014 789.524 Q52.3624 789.459 52.5878 789.395 Q52.7811 789.298 52.8455 789.266 L74.4556 779.894 Q76.1947 779.153 76.8067 778.252 Q77.4186 777.35 77.4508 775.321 Q77.4508 774.999 77.483 774.87 Q77.483 774.709 77.5474 774.484 Q77.5796 774.226 77.7406 774.129 Q77.9017 774 78.1593 774 Q79.4797 774 79.4797 775.192 Q79.4797 775.933 79.3831 778.445 Q79.2865 780.957 79.2865 781.665 Q79.2865 782.986 79.3831 785.691 Q79.4797 788.396 79.4797 789.717 Q79.4797 790.651 78.739 790.651 Q78.1271 790.651 77.8372 790.425 Q77.5152 790.168 77.483 789.942 Q77.4508 789.717 77.4508 789.202 Q77.4508 788.815 77.4186 788.396 Q77.3542 787.946 77.1931 787.301 Q76.9999 786.625 76.549 786.206 Q76.0659 785.756 75.3896 785.756 Q74.8421 785.756 73.0708 786.561 L55.3253 794.194 L62.9903 804.016 L73.3606 806.657 Q73.7471 806.722 74.4234 806.883 Q75.0997 807.044 75.5828 807.173 Q76.0659 807.269 76.2592 807.269 Q76.6778 807.269 76.9355 807.011 Q77.1931 806.722 77.3219 806.013 Q77.4186 805.305 77.4508 804.757 Q77.4508 804.177 77.4508 802.986 Q77.4508 801.504 77.7084 801.247 Q77.8694 801.118 78.1593 801.118 Q78.6102 801.118 78.9322 801.247 Q79.2221 801.375 79.3187 801.633 Q79.4153 801.859 79.4475 802.02 Q79.4797 802.181 79.4797 802.438 Q79.4797 803.115 79.4153 804.564 Q79.3509 805.981 79.3509 806.722 L79.2865 810.941 L79.4797 819.314 Q79.4797 820.313 78.6746 820.313 Q78.0627 820.313 77.805 820.055 Q77.5152 819.797 77.483 819.507 Q77.4508 819.218 77.4508 818.477 Q77.4508 816.866 77.3542 815.9 Q77.2575 814.934 77.1287 814.322 Q76.9677 813.678 76.5168 813.356 Q76.0659 813.002 75.6794 812.841 Q75.2608 812.68 74.3268 812.454 L38.9004 803.63 Q37.8376 803.372 37.6765 803.372 Q37.129 803.372 36.9358 803.694 Q36.7104 803.984 36.6137 804.821 Q36.4849 806.432 36.4849 807.656 Q36.4849 808.461 36.4527 808.783 Q36.4205 809.073 36.2595 809.33 Q36.0662 809.556 35.6798 809.556 Q34.4237 809.556 34.4237 808.235 L34.617 799.733 L34.4237 791.295 Q34.4237 790.361 35.1645 790.361 Q36.0984 790.361 36.2917 790.812 Q36.4849 791.231 36.4849 792.615 Q36.4849 795.031 36.807 796.126 Q37.0968 797.189 37.6121 797.511 Q38.0952 797.801 39.5123 798.155 L60.6715 803.437 L40.8971 777.704 Q38.9004 775.321 37.8698 775.321 Q37.1934 775.321 36.9036 775.804 Q36.5815 776.255 36.4849 777.382 Q36.3561 778.187 35.7442 778.187 Q35.1323 778.187 34.8424 777.962 Q34.5204 777.704 34.4882 777.511 Q34.4237 777.285 34.4237 776.931 Q34.4237 775.74 34.5204 773.26 Q34.617 770.78 34.617 769.588 Q34.617 768.783 34.5204 767.205 Q34.4237 765.627 34.4237 764.918 Q34.4237 764.564 34.6814 764.371 Q34.9068 764.178 35.1645 764.178 Z\" fill=\"#000000\" fill-rule=\"evenodd\" fill-opacity=\"1\" /><path clip-path=\"url(#clip390)\" d=\"M 0 0 M78.2765 743.467 Q78.9077 743.467 79.0655 743.76 Q79.2008 744.053 79.2008 744.865 L79.2008 749.193 L92.8174 752.62 Q94.0123 752.891 95.0268 752.891 Q96.154 752.891 96.6499 752.553 Q97.1459 752.192 97.1459 751.448 Q97.1459 749.983 95.8158 748.404 Q94.4857 746.804 91.2394 745.451 Q90.811 745.271 90.7208 745.181 Q90.6081 745.068 90.6081 744.775 Q90.6081 744.211 91.059 744.211 Q91.2168 744.211 91.9382 744.527 Q92.6596 744.82 93.7192 745.474 Q94.7788 746.105 95.7707 746.939 Q96.7627 747.751 97.4841 748.991 Q98.1829 750.23 98.1829 751.561 Q98.1829 753.432 96.9881 754.627 Q95.7933 755.799 93.9221 755.799 Q93.3134 755.799 91.3746 755.325 Q89.4133 754.852 79.2008 752.282 L79.2008 756.362 Q79.2008 756.926 79.1783 757.152 Q79.1557 757.354 79.043 757.512 Q78.9077 757.648 78.6372 757.648 Q78.2089 757.648 78.0285 757.467 Q77.8256 757.287 77.8031 757.061 Q77.758 756.813 77.758 756.25 L77.758 751.921 L70.4312 750.118 Q69.7097 749.937 69.3039 749.487 Q68.8756 749.013 68.8305 748.743 Q68.7629 748.472 68.7629 748.269 Q68.7629 747.66 69.101 747.3 Q69.4167 746.939 70.0028 746.939 Q70.3184 746.939 77.758 748.833 L77.758 744.775 Q77.758 744.256 77.7805 744.053 Q77.8031 743.828 77.9158 743.648 Q78.0285 743.467 78.2765 743.467 Z\" fill=\"#000000\" fill-rule=\"evenodd\" fill-opacity=\"1\" /><path clip-path=\"url(#clip390)\" d=\"M 0 0 M86.6855 732.748 Q86.6855 733.808 86.1218 733.808 Q85.5582 733.808 85.5582 732.703 Q85.5582 732.568 85.5808 732.343 Q85.6033 732.095 85.6033 732.05 L85.6033 719.042 L72.5503 719.042 Q72.5052 719.042 72.3023 719.064 Q72.0769 719.087 71.9416 719.087 Q70.8369 719.087 70.8369 718.546 Q70.8369 717.982 71.9416 717.982 L85.6033 717.982 L85.6033 704.952 Q85.6033 704.907 85.5808 704.681 Q85.5582 704.456 85.5582 704.32 Q85.5582 703.261 86.1218 703.261 Q86.6855 703.238 86.6855 704.365 Q86.6855 704.501 86.6629 704.704 Q86.6404 704.907 86.6404 704.952 L86.6404 717.982 L100.347 717.982 Q101.407 717.982 101.407 718.546 Q101.407 719.087 100.302 719.087 Q100.167 719.087 99.9414 719.064 Q99.7385 719.042 99.6934 719.042 L86.6404 719.042 L86.6404 732.05 Q86.6404 732.095 86.6629 732.365 Q86.6855 732.613 86.6855 732.748 Z\" fill=\"#000000\" fill-rule=\"evenodd\" fill-opacity=\"1\" /><path clip-path=\"url(#clip390)\" d=\"M 0 0 M71.3104 690.886 L69.8675 690.886 Q69.8675 685.34 66.9143 682.477 Q66.9143 681.688 67.0946 681.553 Q67.275 681.417 68.1091 681.417 L94.0123 681.417 Q95.3875 681.417 95.8158 680.741 Q96.2441 680.065 96.2441 677.112 L96.2441 675.646 L97.6644 675.646 Q97.5292 677.269 97.5292 683.131 Q97.5292 688.992 97.6644 690.593 L96.2441 690.593 L96.2441 689.128 Q96.2441 686.219 95.8384 685.521 Q95.41 684.822 94.0123 684.822 L70.093 684.822 Q71.3104 687.234 71.3104 690.886 Z\" fill=\"#000000\" fill-rule=\"evenodd\" fill-opacity=\"1\" /><polyline clip-path=\"url(#clip392)\" style=\"stroke:#009af9; stroke-width:4; stroke-opacity:1; fill:none\" points=\"\n",
       "  280.972,1051.19 289.596,1037.98 298.22,1037.98 306.843,1037.98 315.467,1024.76 324.091,1024.76 332.714,1011.55 341.338,1011.55 349.962,1011.55 358.585,998.332 \n",
       "  367.209,998.332 375.833,998.332 384.456,985.117 393.08,985.117 401.704,985.117 410.327,971.902 418.951,971.902 427.575,958.687 436.198,958.687 444.822,958.687 \n",
       "  453.446,945.472 462.069,945.472 470.693,945.472 479.317,945.472 487.94,932.257 496.564,932.257 505.188,919.042 513.811,919.042 522.435,919.042 531.059,905.827 \n",
       "  539.682,905.827 548.306,905.827 556.93,905.827 565.553,892.612 574.177,892.612 582.801,892.612 591.424,879.397 600.048,879.397 608.672,879.397 617.295,866.182 \n",
       "  625.919,866.182 634.543,866.182 643.166,866.182 651.79,852.967 660.414,852.967 669.037,852.967 677.661,839.752 686.285,839.752 694.908,839.752 703.532,826.537 \n",
       "  712.156,826.537 720.779,826.537 729.403,826.537 738.027,813.322 746.65,813.322 755.274,813.322 763.898,813.322 772.521,800.106 781.145,800.106 789.769,800.106 \n",
       "  798.392,786.891 807.016,786.891 815.64,786.891 824.263,786.891 832.887,773.676 841.511,773.676 850.134,773.676 858.758,773.676 867.382,760.461 876.005,760.461 \n",
       "  884.629,760.461 893.253,747.246 901.876,747.246 910.5,747.246 919.124,747.246 927.747,734.031 936.371,734.031 944.995,734.031 953.618,734.031 962.242,720.816 \n",
       "  970.866,720.816 979.489,720.816 988.113,720.816 996.737,720.816 1005.36,707.601 1013.98,707.601 1022.61,707.601 1031.23,694.386 1039.85,694.386 1048.48,694.386 \n",
       "  1057.1,694.386 1065.73,694.386 1074.35,681.171 1082.97,681.171 1091.6,681.171 1100.22,681.171 1108.84,667.956 1117.47,667.956 1126.09,667.956 1134.72,667.956 \n",
       "  \n",
       "  \"/>\n",
       "<polyline clip-path=\"url(#clip392)\" style=\"stroke:#e26f46; stroke-width:4; stroke-opacity:1; fill:none\" points=\"\n",
       "  280.972,892.612 289.596,892.612 298.22,879.397 306.843,879.397 315.467,866.182 324.091,866.182 332.714,866.182 341.338,852.967 349.962,852.967 358.585,839.752 \n",
       "  367.209,839.752 375.833,826.537 384.456,826.537 393.08,826.537 401.704,813.322 410.327,813.322 418.951,800.106 427.575,800.106 436.198,800.106 444.822,786.891 \n",
       "  453.446,786.891 462.069,786.891 470.693,773.676 479.317,773.676 487.94,760.461 496.564,760.461 505.188,760.461 513.811,747.246 522.435,747.246 531.059,747.246 \n",
       "  539.682,734.031 548.306,734.031 556.93,734.031 565.553,720.816 574.177,720.816 582.801,720.816 591.424,707.601 600.048,707.601 608.672,707.601 617.295,694.386 \n",
       "  625.919,694.386 634.543,694.386 643.166,681.171 651.79,681.171 660.414,681.171 669.037,667.956 677.661,667.956 686.285,667.956 694.908,654.741 703.532,654.741 \n",
       "  712.156,654.741 720.779,641.526 729.403,641.526 738.027,641.526 746.65,628.311 755.274,628.311 763.898,628.311 772.521,628.311 781.145,615.096 789.769,615.096 \n",
       "  798.392,615.096 807.016,601.88 815.64,601.88 824.263,601.88 832.887,588.665 841.511,588.665 850.134,588.665 858.758,588.665 867.382,575.45 876.005,575.45 \n",
       "  884.629,575.45 893.253,562.235 901.876,562.235 910.5,562.235 919.124,562.235 927.747,549.02 936.371,549.02 944.995,549.02 953.618,535.805 962.242,535.805 \n",
       "  970.866,535.805 979.489,535.805 988.113,522.59 996.737,522.59 1005.36,522.59 1013.98,522.59 1022.61,509.375 1031.23,509.375 1039.85,509.375 1048.48,496.16 \n",
       "  1057.1,496.16 1065.73,496.16 1074.35,496.16 1082.97,482.945 1091.6,482.945 1100.22,482.945 1108.84,482.945 1117.47,469.73 1126.09,469.73 1134.72,469.73 \n",
       "  \n",
       "  \"/>\n",
       "<polyline clip-path=\"url(#clip392)\" style=\"stroke:#000000; stroke-width:4; stroke-opacity:1; fill:none\" points=\"\n",
       "  280.972,1394.78 289.596,1381.57 298.22,1368.35 306.843,1355.14 315.467,1341.92 324.091,1328.71 332.714,1315.49 341.338,1302.28 349.962,1289.06 358.585,1275.85 \n",
       "  367.209,1262.63 375.833,1249.42 384.456,1236.2 393.08,1222.99 401.704,1209.77 410.327,1196.56 418.951,1183.34 427.575,1170.13 436.198,1156.91 444.822,1143.7 \n",
       "  453.446,1130.48 462.069,1117.27 470.693,1104.05 479.317,1090.84 487.94,1077.62 496.564,1064.41 505.188,1051.19 513.811,1037.98 522.435,1024.76 531.059,1011.55 \n",
       "  539.682,998.332 548.306,985.117 556.93,971.902 565.553,958.687 574.177,945.472 582.801,932.257 591.424,919.042 600.048,905.827 608.672,892.612 617.295,879.397 \n",
       "  625.919,866.182 634.543,852.967 643.166,839.752 651.79,826.537 660.414,813.322 669.037,800.106 677.661,786.891 686.285,773.676 694.908,760.461 703.532,747.246 \n",
       "  712.156,734.031 720.779,720.816 729.403,707.601 738.027,694.386 746.65,681.171 755.274,667.956 763.898,654.741 772.521,641.526 781.145,628.311 789.769,615.096 \n",
       "  798.392,601.88 807.016,588.665 815.64,575.45 824.263,562.235 832.887,549.02 841.511,535.805 850.134,522.59 858.758,509.375 867.382,496.16 876.005,482.945 \n",
       "  884.629,469.73 893.253,456.515 901.876,443.3 910.5,430.085 919.124,416.87 927.747,403.654 936.371,390.439 944.995,377.224 953.618,364.009 962.242,350.794 \n",
       "  970.866,337.579 979.489,324.364 988.113,311.149 996.737,297.934 1005.36,284.719 1013.98,271.504 1022.61,258.289 1031.23,245.074 1039.85,231.859 1048.48,218.644 \n",
       "  1057.1,205.428 1065.73,192.213 1074.35,178.998 1082.97,165.783 1091.6,152.568 1100.22,139.353 1108.84,126.138 1117.47,112.923 1126.09,99.7079 1134.72,86.4928 \n",
       "  \n",
       "  \"/>\n",
       "<path clip-path=\"url(#clip390)\" d=\"\n",
       "M1447.79 1434.03 L2352.76 1434.03 L2352.76 47.2441 L1447.79 47.2441  Z\n",
       "  \" fill=\"#ffffff\" fill-rule=\"evenodd\" fill-opacity=\"1\"/>\n",
       "<defs>\n",
       "  <clipPath id=\"clip393\">\n",
       "    <rect x=\"1447\" y=\"47\" width=\"906\" height=\"1388\"/>\n",
       "  </clipPath>\n",
       "</defs>\n",
       "<polyline clip-path=\"url(#clip393)\" style=\"stroke:#000000; stroke-width:2; stroke-opacity:0.1; fill:none\" points=\"\n",
       "  1597.25,1434.03 1597.25,47.2441 \n",
       "  \"/>\n",
       "<polyline clip-path=\"url(#clip393)\" style=\"stroke:#000000; stroke-width:2; stroke-opacity:0.1; fill:none\" points=\"\n",
       "  1769.19,1434.03 1769.19,47.2441 \n",
       "  \"/>\n",
       "<polyline clip-path=\"url(#clip393)\" style=\"stroke:#000000; stroke-width:2; stroke-opacity:0.1; fill:none\" points=\"\n",
       "  1941.14,1434.03 1941.14,47.2441 \n",
       "  \"/>\n",
       "<polyline clip-path=\"url(#clip393)\" style=\"stroke:#000000; stroke-width:2; stroke-opacity:0.1; fill:none\" points=\"\n",
       "  2113.08,1434.03 2113.08,47.2441 \n",
       "  \"/>\n",
       "<polyline clip-path=\"url(#clip393)\" style=\"stroke:#000000; stroke-width:2; stroke-opacity:0.1; fill:none\" points=\"\n",
       "  2285.03,1434.03 2285.03,47.2441 \n",
       "  \"/>\n",
       "<polyline clip-path=\"url(#clip393)\" style=\"stroke:#000000; stroke-width:2; stroke-opacity:0.1; fill:none\" points=\"\n",
       "  1447.79,1158.07 2352.76,1158.07 \n",
       "  \"/>\n",
       "<polyline clip-path=\"url(#clip393)\" style=\"stroke:#000000; stroke-width:2; stroke-opacity:0.1; fill:none\" points=\"\n",
       "  1447.79,876.841 2352.76,876.841 \n",
       "  \"/>\n",
       "<polyline clip-path=\"url(#clip393)\" style=\"stroke:#000000; stroke-width:2; stroke-opacity:0.1; fill:none\" points=\"\n",
       "  1447.79,595.613 2352.76,595.613 \n",
       "  \"/>\n",
       "<polyline clip-path=\"url(#clip393)\" style=\"stroke:#000000; stroke-width:2; stroke-opacity:0.1; fill:none\" points=\"\n",
       "  1447.79,314.385 2352.76,314.385 \n",
       "  \"/>\n",
       "<polyline clip-path=\"url(#clip390)\" style=\"stroke:#000000; stroke-width:4; stroke-opacity:1; fill:none\" points=\"\n",
       "  1447.79,1434.03 2352.76,1434.03 \n",
       "  \"/>\n",
       "<polyline clip-path=\"url(#clip390)\" style=\"stroke:#000000; stroke-width:4; stroke-opacity:1; fill:none\" points=\"\n",
       "  1447.79,1434.03 1447.79,47.2441 \n",
       "  \"/>\n",
       "<polyline clip-path=\"url(#clip390)\" style=\"stroke:#000000; stroke-width:4; stroke-opacity:1; fill:none\" points=\"\n",
       "  1597.25,1434.03 1597.25,1417.39 \n",
       "  \"/>\n",
       "<polyline clip-path=\"url(#clip390)\" style=\"stroke:#000000; stroke-width:4; stroke-opacity:1; fill:none\" points=\"\n",
       "  1769.19,1434.03 1769.19,1417.39 \n",
       "  \"/>\n",
       "<polyline clip-path=\"url(#clip390)\" style=\"stroke:#000000; stroke-width:4; stroke-opacity:1; fill:none\" points=\"\n",
       "  1941.14,1434.03 1941.14,1417.39 \n",
       "  \"/>\n",
       "<polyline clip-path=\"url(#clip390)\" style=\"stroke:#000000; stroke-width:4; stroke-opacity:1; fill:none\" points=\"\n",
       "  2113.08,1434.03 2113.08,1417.39 \n",
       "  \"/>\n",
       "<polyline clip-path=\"url(#clip390)\" style=\"stroke:#000000; stroke-width:4; stroke-opacity:1; fill:none\" points=\"\n",
       "  2285.03,1434.03 2285.03,1417.39 \n",
       "  \"/>\n",
       "<polyline clip-path=\"url(#clip390)\" style=\"stroke:#000000; stroke-width:4; stroke-opacity:1; fill:none\" points=\"\n",
       "  1447.79,1158.07 1458.65,1158.07 \n",
       "  \"/>\n",
       "<polyline clip-path=\"url(#clip390)\" style=\"stroke:#000000; stroke-width:4; stroke-opacity:1; fill:none\" points=\"\n",
       "  1447.79,876.841 1458.65,876.841 \n",
       "  \"/>\n",
       "<polyline clip-path=\"url(#clip390)\" style=\"stroke:#000000; stroke-width:4; stroke-opacity:1; fill:none\" points=\"\n",
       "  1447.79,595.613 1458.65,595.613 \n",
       "  \"/>\n",
       "<polyline clip-path=\"url(#clip390)\" style=\"stroke:#000000; stroke-width:4; stroke-opacity:1; fill:none\" points=\"\n",
       "  1447.79,314.385 1458.65,314.385 \n",
       "  \"/>\n",
       "<path clip-path=\"url(#clip390)\" d=\"M 0 0 M1553.66 1456.02 Q1550.05 1456.02 1548.22 1459.59 Q1546.42 1463.13 1546.42 1470.26 Q1546.42 1477.37 1548.22 1480.93 Q1550.05 1484.47 1553.66 1484.47 Q1557.3 1484.47 1559.1 1480.93 Q1560.93 1477.37 1560.93 1470.26 Q1560.93 1463.13 1559.1 1459.59 Q1557.3 1456.02 1553.66 1456.02 M1553.66 1452.32 Q1559.47 1452.32 1562.53 1456.93 Q1565.61 1461.51 1565.61 1470.26 Q1565.61 1478.99 1562.53 1483.59 Q1559.47 1488.18 1553.66 1488.18 Q1547.85 1488.18 1544.77 1483.59 Q1541.72 1478.99 1541.72 1470.26 Q1541.72 1461.51 1544.77 1456.93 Q1547.85 1452.32 1553.66 1452.32 Z\" fill=\"#000000\" fill-rule=\"evenodd\" fill-opacity=\"1\" /><path clip-path=\"url(#clip390)\" d=\"M 0 0 M1570.68 1481.63 L1575.56 1481.63 L1575.56 1487.51 L1570.68 1487.51 L1570.68 1481.63 Z\" fill=\"#000000\" fill-rule=\"evenodd\" fill-opacity=\"1\" /><path clip-path=\"url(#clip390)\" d=\"M 0 0 M1581.44 1483.57 L1589.08 1483.57 L1589.08 1457.2 L1580.77 1458.87 L1580.77 1454.61 L1589.03 1452.95 L1593.71 1452.95 L1593.71 1483.57 L1601.35 1483.57 L1601.35 1487.51 L1581.44 1487.51 L1581.44 1483.57 Z\" fill=\"#000000\" fill-rule=\"evenodd\" fill-opacity=\"1\" /><path clip-path=\"url(#clip390)\" d=\"M 0 0 M1610.44 1483.57 L1626.76 1483.57 L1626.76 1487.51 L1604.82 1487.51 L1604.82 1483.57 Q1607.48 1480.82 1612.06 1476.19 Q1616.67 1471.53 1617.85 1470.19 Q1620.1 1467.67 1620.98 1465.93 Q1621.88 1464.17 1621.88 1462.48 Q1621.88 1459.73 1619.93 1457.99 Q1618.01 1456.26 1614.91 1456.26 Q1612.71 1456.26 1610.26 1457.02 Q1607.83 1457.78 1605.05 1459.33 L1605.05 1454.61 Q1607.87 1453.48 1610.33 1452.9 Q1612.78 1452.32 1614.82 1452.32 Q1620.19 1452.32 1623.38 1455.01 Q1626.58 1457.69 1626.58 1462.18 Q1626.58 1464.31 1625.77 1466.23 Q1624.98 1468.13 1622.87 1470.72 Q1622.3 1471.39 1619.19 1474.61 Q1616.09 1477.81 1610.44 1483.57 Z\" fill=\"#000000\" fill-rule=\"evenodd\" fill-opacity=\"1\" /><path clip-path=\"url(#clip390)\" d=\"M 0 0 M1631.88 1452.95 L1650.24 1452.95 L1650.24 1456.88 L1636.16 1456.88 L1636.16 1465.35 Q1637.18 1465.01 1638.2 1464.84 Q1639.22 1464.66 1640.24 1464.66 Q1646.02 1464.66 1649.4 1467.83 Q1652.78 1471 1652.78 1476.42 Q1652.78 1482 1649.31 1485.1 Q1645.84 1488.18 1639.52 1488.18 Q1637.34 1488.18 1635.07 1487.81 Q1632.83 1487.44 1630.42 1486.69 L1630.42 1482 Q1632.5 1483.13 1634.73 1483.69 Q1636.95 1484.24 1639.43 1484.24 Q1643.43 1484.24 1645.77 1482.13 Q1648.11 1480.03 1648.11 1476.42 Q1648.11 1472.81 1645.77 1470.7 Q1643.43 1468.59 1639.43 1468.59 Q1637.55 1468.59 1635.68 1469.01 Q1633.82 1469.43 1631.88 1470.31 L1631.88 1452.95 Z\" fill=\"#000000\" fill-rule=\"evenodd\" fill-opacity=\"1\" /><path clip-path=\"url(#clip390)\" d=\"M 0 0 M1724.81 1456.02 Q1721.2 1456.02 1719.37 1459.59 Q1717.56 1463.13 1717.56 1470.26 Q1717.56 1477.37 1719.37 1480.93 Q1721.2 1484.47 1724.81 1484.47 Q1728.44 1484.47 1730.25 1480.93 Q1732.08 1477.37 1732.08 1470.26 Q1732.08 1463.13 1730.25 1459.59 Q1728.44 1456.02 1724.81 1456.02 M1724.81 1452.32 Q1730.62 1452.32 1733.67 1456.93 Q1736.75 1461.51 1736.75 1470.26 Q1736.75 1478.99 1733.67 1483.59 Q1730.62 1488.18 1724.81 1488.18 Q1719 1488.18 1715.92 1483.59 Q1712.86 1478.99 1712.86 1470.26 Q1712.86 1461.51 1715.92 1456.93 Q1719 1452.32 1724.81 1452.32 Z\" fill=\"#000000\" fill-rule=\"evenodd\" fill-opacity=\"1\" /><path clip-path=\"url(#clip390)\" d=\"M 0 0 M1741.82 1481.63 L1746.71 1481.63 L1746.71 1487.51 L1741.82 1487.51 L1741.82 1481.63 Z\" fill=\"#000000\" fill-rule=\"evenodd\" fill-opacity=\"1\" /><path clip-path=\"url(#clip390)\" d=\"M 0 0 M1752.59 1483.57 L1760.22 1483.57 L1760.22 1457.2 L1751.91 1458.87 L1751.91 1454.61 L1760.18 1452.95 L1764.85 1452.95 L1764.85 1483.57 L1772.49 1483.57 L1772.49 1487.51 L1752.59 1487.51 L1752.59 1483.57 Z\" fill=\"#000000\" fill-rule=\"evenodd\" fill-opacity=\"1\" /><path clip-path=\"url(#clip390)\" d=\"M 0 0 M1777.61 1452.95 L1795.97 1452.95 L1795.97 1456.88 L1781.89 1456.88 L1781.89 1465.35 Q1782.91 1465.01 1783.93 1464.84 Q1784.95 1464.66 1785.97 1464.66 Q1791.75 1464.66 1795.13 1467.83 Q1798.51 1471 1798.51 1476.42 Q1798.51 1482 1795.04 1485.1 Q1791.57 1488.18 1785.25 1488.18 Q1783.07 1488.18 1780.8 1487.81 Q1778.56 1487.44 1776.15 1486.69 L1776.15 1482 Q1778.23 1483.13 1780.46 1483.69 Q1782.68 1484.24 1785.16 1484.24 Q1789.16 1484.24 1791.5 1482.13 Q1793.84 1480.03 1793.84 1476.42 Q1793.84 1472.81 1791.5 1470.7 Q1789.16 1468.59 1785.16 1468.59 Q1783.28 1468.59 1781.41 1469.01 Q1779.55 1469.43 1777.61 1470.31 L1777.61 1452.95 Z\" fill=\"#000000\" fill-rule=\"evenodd\" fill-opacity=\"1\" /><path clip-path=\"url(#clip390)\" d=\"M 0 0 M1813.58 1456.02 Q1809.97 1456.02 1808.14 1459.59 Q1806.34 1463.13 1806.34 1470.26 Q1806.34 1477.37 1808.14 1480.93 Q1809.97 1484.47 1813.58 1484.47 Q1817.22 1484.47 1819.02 1480.93 Q1820.85 1477.37 1820.85 1470.26 Q1820.85 1463.13 1819.02 1459.59 Q1817.22 1456.02 1813.58 1456.02 M1813.58 1452.32 Q1819.39 1452.32 1822.45 1456.93 Q1825.53 1461.51 1825.53 1470.26 Q1825.53 1478.99 1822.45 1483.59 Q1819.39 1488.18 1813.58 1488.18 Q1807.77 1488.18 1804.69 1483.59 Q1801.64 1478.99 1801.64 1470.26 Q1801.64 1461.51 1804.69 1456.93 Q1807.77 1452.32 1813.58 1452.32 Z\" fill=\"#000000\" fill-rule=\"evenodd\" fill-opacity=\"1\" /><path clip-path=\"url(#clip390)\" d=\"M 0 0 M1897.2 1456.02 Q1893.59 1456.02 1891.76 1459.59 Q1889.96 1463.13 1889.96 1470.26 Q1889.96 1477.37 1891.76 1480.93 Q1893.59 1484.47 1897.2 1484.47 Q1900.84 1484.47 1902.64 1480.93 Q1904.47 1477.37 1904.47 1470.26 Q1904.47 1463.13 1902.64 1459.59 Q1900.84 1456.02 1897.2 1456.02 M1897.2 1452.32 Q1903.01 1452.32 1906.07 1456.93 Q1909.15 1461.51 1909.15 1470.26 Q1909.15 1478.99 1906.07 1483.59 Q1903.01 1488.18 1897.2 1488.18 Q1891.39 1488.18 1888.32 1483.59 Q1885.26 1478.99 1885.26 1470.26 Q1885.26 1461.51 1888.32 1456.93 Q1891.39 1452.32 1897.2 1452.32 Z\" fill=\"#000000\" fill-rule=\"evenodd\" fill-opacity=\"1\" /><path clip-path=\"url(#clip390)\" d=\"M 0 0 M1914.22 1481.63 L1919.1 1481.63 L1919.1 1487.51 L1914.22 1487.51 L1914.22 1481.63 Z\" fill=\"#000000\" fill-rule=\"evenodd\" fill-opacity=\"1\" /><path clip-path=\"url(#clip390)\" d=\"M 0 0 M1924.98 1483.57 L1932.62 1483.57 L1932.62 1457.2 L1924.31 1458.87 L1924.31 1454.61 L1932.57 1452.95 L1937.25 1452.95 L1937.25 1483.57 L1944.89 1483.57 L1944.89 1487.51 L1924.98 1487.51 L1924.98 1483.57 Z\" fill=\"#000000\" fill-rule=\"evenodd\" fill-opacity=\"1\" /><path clip-path=\"url(#clip390)\" d=\"M 0 0 M1948.78 1452.95 L1971 1452.95 L1971 1454.94 L1958.45 1487.51 L1953.57 1487.51 L1965.38 1456.88 L1948.78 1456.88 L1948.78 1452.95 Z\" fill=\"#000000\" fill-rule=\"evenodd\" fill-opacity=\"1\" /><path clip-path=\"url(#clip390)\" d=\"M 0 0 M1976.12 1452.95 L1994.47 1452.95 L1994.47 1456.88 L1980.4 1456.88 L1980.4 1465.35 Q1981.42 1465.01 1982.44 1464.84 Q1983.45 1464.66 1984.47 1464.66 Q1990.26 1464.66 1993.64 1467.83 Q1997.02 1471 1997.02 1476.42 Q1997.02 1482 1993.55 1485.1 Q1990.07 1488.18 1983.76 1488.18 Q1981.58 1488.18 1979.31 1487.81 Q1977.07 1487.44 1974.66 1486.69 L1974.66 1482 Q1976.74 1483.13 1978.96 1483.69 Q1981.19 1484.24 1983.66 1484.24 Q1987.67 1484.24 1990.01 1482.13 Q1992.34 1480.03 1992.34 1476.42 Q1992.34 1472.81 1990.01 1470.7 Q1987.67 1468.59 1983.66 1468.59 Q1981.79 1468.59 1979.91 1469.01 Q1978.06 1469.43 1976.12 1470.31 L1976.12 1452.95 Z\" fill=\"#000000\" fill-rule=\"evenodd\" fill-opacity=\"1\" /><path clip-path=\"url(#clip390)\" d=\"M 0 0 M2068.39 1456.02 Q2064.77 1456.02 2062.95 1459.59 Q2061.14 1463.13 2061.14 1470.26 Q2061.14 1477.37 2062.95 1480.93 Q2064.77 1484.47 2068.39 1484.47 Q2072.02 1484.47 2073.83 1480.93 Q2075.65 1477.37 2075.65 1470.26 Q2075.65 1463.13 2073.83 1459.59 Q2072.02 1456.02 2068.39 1456.02 M2068.39 1452.32 Q2074.2 1452.32 2077.25 1456.93 Q2080.33 1461.51 2080.33 1470.26 Q2080.33 1478.99 2077.25 1483.59 Q2074.2 1488.18 2068.39 1488.18 Q2062.58 1488.18 2059.5 1483.59 Q2056.44 1478.99 2056.44 1470.26 Q2056.44 1461.51 2059.5 1456.93 Q2062.58 1452.32 2068.39 1452.32 Z\" fill=\"#000000\" fill-rule=\"evenodd\" fill-opacity=\"1\" /><path clip-path=\"url(#clip390)\" d=\"M 0 0 M2085.4 1481.63 L2090.28 1481.63 L2090.28 1487.51 L2085.4 1487.51 L2085.4 1481.63 Z\" fill=\"#000000\" fill-rule=\"evenodd\" fill-opacity=\"1\" /><path clip-path=\"url(#clip390)\" d=\"M 0 0 M2099.38 1483.57 L2115.7 1483.57 L2115.7 1487.51 L2093.76 1487.51 L2093.76 1483.57 Q2096.42 1480.82 2101 1476.19 Q2105.61 1471.53 2106.79 1470.19 Q2109.03 1467.67 2109.91 1465.93 Q2110.82 1464.17 2110.82 1462.48 Q2110.82 1459.73 2108.87 1457.99 Q2106.95 1456.26 2103.85 1456.26 Q2101.65 1456.26 2099.2 1457.02 Q2096.77 1457.78 2093.99 1459.33 L2093.99 1454.61 Q2096.81 1453.48 2099.27 1452.9 Q2101.72 1452.32 2103.76 1452.32 Q2109.13 1452.32 2112.32 1455.01 Q2115.52 1457.69 2115.52 1462.18 Q2115.52 1464.31 2114.71 1466.23 Q2113.92 1468.13 2111.81 1470.72 Q2111.23 1471.39 2108.13 1474.61 Q2105.03 1477.81 2099.38 1483.57 Z\" fill=\"#000000\" fill-rule=\"evenodd\" fill-opacity=\"1\" /><path clip-path=\"url(#clip390)\" d=\"M 0 0 M2130.77 1456.02 Q2127.16 1456.02 2125.33 1459.59 Q2123.52 1463.13 2123.52 1470.26 Q2123.52 1477.37 2125.33 1480.93 Q2127.16 1484.47 2130.77 1484.47 Q2134.4 1484.47 2136.21 1480.93 Q2138.04 1477.37 2138.04 1470.26 Q2138.04 1463.13 2136.21 1459.59 Q2134.4 1456.02 2130.77 1456.02 M2130.77 1452.32 Q2136.58 1452.32 2139.64 1456.93 Q2142.71 1461.51 2142.71 1470.26 Q2142.71 1478.99 2139.64 1483.59 Q2136.58 1488.18 2130.77 1488.18 Q2124.96 1488.18 2121.88 1483.59 Q2118.83 1478.99 2118.83 1470.26 Q2118.83 1461.51 2121.88 1456.93 Q2124.96 1452.32 2130.77 1452.32 Z\" fill=\"#000000\" fill-rule=\"evenodd\" fill-opacity=\"1\" /><path clip-path=\"url(#clip390)\" d=\"M 0 0 M2157.78 1456.02 Q2154.17 1456.02 2152.34 1459.59 Q2150.54 1463.13 2150.54 1470.26 Q2150.54 1477.37 2152.34 1480.93 Q2154.17 1484.47 2157.78 1484.47 Q2161.42 1484.47 2163.22 1480.93 Q2165.05 1477.37 2165.05 1470.26 Q2165.05 1463.13 2163.22 1459.59 Q2161.42 1456.02 2157.78 1456.02 M2157.78 1452.32 Q2163.59 1452.32 2166.65 1456.93 Q2169.73 1461.51 2169.73 1470.26 Q2169.73 1478.99 2166.65 1483.59 Q2163.59 1488.18 2157.78 1488.18 Q2151.97 1488.18 2148.89 1483.59 Q2145.84 1478.99 2145.84 1470.26 Q2145.84 1461.51 2148.89 1456.93 Q2151.97 1452.32 2157.78 1452.32 Z\" fill=\"#000000\" fill-rule=\"evenodd\" fill-opacity=\"1\" /><path clip-path=\"url(#clip390)\" d=\"M 0 0 M2241.63 1456.02 Q2238.02 1456.02 2236.19 1459.59 Q2234.38 1463.13 2234.38 1470.26 Q2234.38 1477.37 2236.19 1480.93 Q2238.02 1484.47 2241.63 1484.47 Q2245.26 1484.47 2247.07 1480.93 Q2248.9 1477.37 2248.9 1470.26 Q2248.9 1463.13 2247.07 1459.59 Q2245.26 1456.02 2241.63 1456.02 M2241.63 1452.32 Q2247.44 1452.32 2250.49 1456.93 Q2253.57 1461.51 2253.57 1470.26 Q2253.57 1478.99 2250.49 1483.59 Q2247.44 1488.18 2241.63 1488.18 Q2235.82 1488.18 2232.74 1483.59 Q2229.68 1478.99 2229.68 1470.26 Q2229.68 1461.51 2232.74 1456.93 Q2235.82 1452.32 2241.63 1452.32 Z\" fill=\"#000000\" fill-rule=\"evenodd\" fill-opacity=\"1\" /><path clip-path=\"url(#clip390)\" d=\"M 0 0 M2258.64 1481.63 L2263.53 1481.63 L2263.53 1487.51 L2258.64 1487.51 L2258.64 1481.63 Z\" fill=\"#000000\" fill-rule=\"evenodd\" fill-opacity=\"1\" /><path clip-path=\"url(#clip390)\" d=\"M 0 0 M2272.62 1483.57 L2288.94 1483.57 L2288.94 1487.51 L2267 1487.51 L2267 1483.57 Q2269.66 1480.82 2274.24 1476.19 Q2278.85 1471.53 2280.03 1470.19 Q2282.28 1467.67 2283.15 1465.93 Q2284.06 1464.17 2284.06 1462.48 Q2284.06 1459.73 2282.11 1457.99 Q2280.19 1456.26 2277.09 1456.26 Q2274.89 1456.26 2272.44 1457.02 Q2270.01 1457.78 2267.23 1459.33 L2267.23 1454.61 Q2270.05 1453.48 2272.51 1452.9 Q2274.96 1452.32 2277 1452.32 Q2282.37 1452.32 2285.56 1455.01 Q2288.76 1457.69 2288.76 1462.18 Q2288.76 1464.31 2287.95 1466.23 Q2287.16 1468.13 2285.05 1470.72 Q2284.47 1471.39 2281.37 1474.61 Q2278.27 1477.81 2272.62 1483.57 Z\" fill=\"#000000\" fill-rule=\"evenodd\" fill-opacity=\"1\" /><path clip-path=\"url(#clip390)\" d=\"M 0 0 M2298.04 1483.57 L2314.36 1483.57 L2314.36 1487.51 L2292.41 1487.51 L2292.41 1483.57 Q2295.08 1480.82 2299.66 1476.19 Q2304.27 1471.53 2305.45 1470.19 Q2307.69 1467.67 2308.57 1465.93 Q2309.47 1464.17 2309.47 1462.48 Q2309.47 1459.73 2307.53 1457.99 Q2305.61 1456.26 2302.51 1456.26 Q2300.31 1456.26 2297.85 1457.02 Q2295.42 1457.78 2292.65 1459.33 L2292.65 1454.61 Q2295.47 1453.48 2297.92 1452.9 Q2300.38 1452.32 2302.41 1452.32 Q2307.78 1452.32 2310.98 1455.01 Q2314.17 1457.69 2314.17 1462.18 Q2314.17 1464.31 2313.36 1466.23 Q2312.58 1468.13 2310.47 1470.72 Q2309.89 1471.39 2306.79 1474.61 Q2303.69 1477.81 2298.04 1483.57 Z\" fill=\"#000000\" fill-rule=\"evenodd\" fill-opacity=\"1\" /><path clip-path=\"url(#clip390)\" d=\"M 0 0 M2319.47 1452.95 L2337.83 1452.95 L2337.83 1456.88 L2323.76 1456.88 L2323.76 1465.35 Q2324.77 1465.01 2325.79 1464.84 Q2326.81 1464.66 2327.83 1464.66 Q2333.62 1464.66 2337 1467.83 Q2340.38 1471 2340.38 1476.42 Q2340.38 1482 2336.9 1485.1 Q2333.43 1488.18 2327.11 1488.18 Q2324.94 1488.18 2322.67 1487.81 Q2320.42 1487.44 2318.02 1486.69 L2318.02 1482 Q2320.1 1483.13 2322.32 1483.69 Q2324.54 1484.24 2327.02 1484.24 Q2331.02 1484.24 2333.36 1482.13 Q2335.7 1480.03 2335.7 1476.42 Q2335.7 1472.81 2333.36 1470.7 Q2331.02 1468.59 2327.02 1468.59 Q2325.15 1468.59 2323.27 1469.01 Q2321.42 1469.43 2319.47 1470.31 L2319.47 1452.95 Z\" fill=\"#000000\" fill-rule=\"evenodd\" fill-opacity=\"1\" /><path clip-path=\"url(#clip390)\" d=\"M 0 0 M1325.11 1160.47 L1337.58 1160.47 L1337.58 1164.26 L1325.11 1164.26 L1325.11 1160.47 Z\" fill=\"#000000\" fill-rule=\"evenodd\" fill-opacity=\"1\" /><path clip-path=\"url(#clip390)\" d=\"M 0 0 M1346.68 1171.41 L1363 1171.41 L1363 1175.35 L1341.06 1175.35 L1341.06 1171.41 Q1343.72 1168.66 1348.3 1164.03 Q1352.91 1159.38 1354.09 1158.03 Q1356.33 1155.51 1357.21 1153.78 Q1358.12 1152.02 1358.12 1150.33 Q1358.12 1147.57 1356.17 1145.84 Q1354.25 1144.1 1351.15 1144.1 Q1348.95 1144.1 1346.5 1144.86 Q1344.07 1145.63 1341.29 1147.18 L1341.29 1142.46 Q1344.11 1141.32 1346.57 1140.74 Q1349.02 1140.16 1351.06 1140.16 Q1356.43 1140.16 1359.62 1142.85 Q1362.82 1145.53 1362.82 1150.03 Q1362.82 1152.15 1362.01 1154.08 Q1361.22 1155.97 1359.11 1158.57 Q1358.53 1159.24 1355.43 1162.46 Q1352.33 1165.65 1346.68 1171.41 Z\" fill=\"#000000\" fill-rule=\"evenodd\" fill-opacity=\"1\" /><path clip-path=\"url(#clip390)\" d=\"M 0 0 M1372.1 1171.41 L1388.42 1171.41 L1388.42 1175.35 L1366.47 1175.35 L1366.47 1171.41 Q1369.14 1168.66 1373.72 1164.03 Q1378.33 1159.38 1379.51 1158.03 Q1381.75 1155.51 1382.63 1153.78 Q1383.53 1152.02 1383.53 1150.33 Q1383.53 1147.57 1381.59 1145.84 Q1379.67 1144.1 1376.57 1144.1 Q1374.37 1144.1 1371.91 1144.86 Q1369.48 1145.63 1366.71 1147.18 L1366.71 1142.46 Q1369.53 1141.32 1371.98 1140.74 Q1374.44 1140.16 1376.47 1140.16 Q1381.84 1140.16 1385.04 1142.85 Q1388.23 1145.53 1388.23 1150.03 Q1388.23 1152.15 1387.42 1154.08 Q1386.64 1155.97 1384.53 1158.57 Q1383.95 1159.24 1380.85 1162.46 Q1377.75 1165.65 1372.1 1171.41 Z\" fill=\"#000000\" fill-rule=\"evenodd\" fill-opacity=\"1\" /><path clip-path=\"url(#clip390)\" d=\"M 0 0 M1393.49 1169.47 L1398.37 1169.47 L1398.37 1175.35 L1393.49 1175.35 L1393.49 1169.47 Z\" fill=\"#000000\" fill-rule=\"evenodd\" fill-opacity=\"1\" /><path clip-path=\"url(#clip390)\" d=\"M 0 0 M1407.47 1171.41 L1423.79 1171.41 L1423.79 1175.35 L1401.84 1175.35 L1401.84 1171.41 Q1404.51 1168.66 1409.09 1164.03 Q1413.7 1159.38 1414.88 1158.03 Q1417.12 1155.51 1418 1153.78 Q1418.9 1152.02 1418.9 1150.33 Q1418.9 1147.57 1416.96 1145.84 Q1415.04 1144.1 1411.94 1144.1 Q1409.74 1144.1 1407.28 1144.86 Q1404.85 1145.63 1402.08 1147.18 L1402.08 1142.46 Q1404.9 1141.32 1407.35 1140.74 Q1409.81 1140.16 1411.84 1140.16 Q1417.21 1140.16 1420.41 1142.85 Q1423.6 1145.53 1423.6 1150.03 Q1423.6 1152.15 1422.79 1154.08 Q1422.01 1155.97 1419.9 1158.57 Q1419.32 1159.24 1416.22 1162.46 Q1413.12 1165.65 1407.47 1171.41 Z\" fill=\"#000000\" fill-rule=\"evenodd\" fill-opacity=\"1\" /><path clip-path=\"url(#clip390)\" d=\"M 0 0 M1323.51 879.237 L1335.99 879.237 L1335.99 883.033 L1323.51 883.033 L1323.51 879.237 Z\" fill=\"#000000\" fill-rule=\"evenodd\" fill-opacity=\"1\" /><path clip-path=\"url(#clip390)\" d=\"M 0 0 M1345.08 890.186 L1361.4 890.186 L1361.4 894.121 L1339.46 894.121 L1339.46 890.186 Q1342.12 887.431 1346.71 882.802 Q1351.31 878.149 1352.49 876.806 Q1354.74 874.283 1355.62 872.547 Q1356.52 870.788 1356.52 869.098 Q1356.52 866.343 1354.58 864.607 Q1352.65 862.871 1349.55 862.871 Q1347.35 862.871 1344.9 863.635 Q1342.47 864.399 1339.69 865.95 L1339.69 861.228 Q1342.52 860.093 1344.97 859.515 Q1347.42 858.936 1349.46 858.936 Q1354.83 858.936 1358.02 861.621 Q1361.22 864.306 1361.22 868.797 Q1361.22 870.927 1360.41 872.848 Q1359.62 874.746 1357.52 877.339 Q1356.94 878.01 1353.83 881.228 Q1350.73 884.422 1345.08 890.186 Z\" fill=\"#000000\" fill-rule=\"evenodd\" fill-opacity=\"1\" /><path clip-path=\"url(#clip390)\" d=\"M 0 0 M1370.5 890.186 L1386.82 890.186 L1386.82 894.121 L1364.88 894.121 L1364.88 890.186 Q1367.54 887.431 1372.12 882.802 Q1376.73 878.149 1377.91 876.806 Q1380.15 874.283 1381.03 872.547 Q1381.94 870.788 1381.94 869.098 Q1381.94 866.343 1379.99 864.607 Q1378.07 862.871 1374.97 862.871 Q1372.77 862.871 1370.32 863.635 Q1367.89 864.399 1365.11 865.95 L1365.11 861.228 Q1367.93 860.093 1370.39 859.515 Q1372.84 858.936 1374.88 858.936 Q1380.25 858.936 1383.44 861.621 Q1386.64 864.306 1386.64 868.797 Q1386.64 870.927 1385.83 872.848 Q1385.04 874.746 1382.93 877.339 Q1382.35 878.01 1379.25 881.228 Q1376.15 884.422 1370.5 890.186 Z\" fill=\"#000000\" fill-rule=\"evenodd\" fill-opacity=\"1\" /><path clip-path=\"url(#clip390)\" d=\"M 0 0 M1391.89 888.241 L1396.77 888.241 L1396.77 894.121 L1391.89 894.121 L1391.89 888.241 Z\" fill=\"#000000\" fill-rule=\"evenodd\" fill-opacity=\"1\" /><path clip-path=\"url(#clip390)\" d=\"M 0 0 M1411.84 862.64 Q1408.23 862.64 1406.4 866.205 Q1404.6 869.746 1404.6 876.876 Q1404.6 883.982 1406.4 887.547 Q1408.23 891.089 1411.84 891.089 Q1415.48 891.089 1417.28 887.547 Q1419.11 883.982 1419.11 876.876 Q1419.11 869.746 1417.28 866.205 Q1415.48 862.64 1411.84 862.64 M1411.84 858.936 Q1417.65 858.936 1420.71 863.543 Q1423.79 868.126 1423.79 876.876 Q1423.79 885.603 1420.71 890.209 Q1417.65 894.792 1411.84 894.792 Q1406.03 894.792 1402.95 890.209 Q1399.9 885.603 1399.9 876.876 Q1399.9 868.126 1402.95 863.543 Q1406.03 858.936 1411.84 858.936 Z\" fill=\"#000000\" fill-rule=\"evenodd\" fill-opacity=\"1\" /><path clip-path=\"url(#clip390)\" d=\"M 0 0 M1323.23 598.009 L1335.71 598.009 L1335.71 601.805 L1323.23 601.805 L1323.23 598.009 Z\" fill=\"#000000\" fill-rule=\"evenodd\" fill-opacity=\"1\" /><path clip-path=\"url(#clip390)\" d=\"M 0 0 M1344.81 608.958 L1361.13 608.958 L1361.13 612.893 L1339.18 612.893 L1339.18 608.958 Q1341.84 606.203 1346.43 601.574 Q1351.03 596.921 1352.21 595.578 Q1354.46 593.055 1355.34 591.319 Q1356.24 589.56 1356.24 587.87 Q1356.24 585.115 1354.3 583.379 Q1352.38 581.643 1349.27 581.643 Q1347.08 581.643 1344.62 582.407 Q1342.19 583.171 1339.41 584.722 L1339.41 580 Q1342.24 578.865 1344.69 578.287 Q1347.15 577.708 1349.18 577.708 Q1354.55 577.708 1357.75 580.393 Q1360.94 583.078 1360.94 587.569 Q1360.94 589.699 1360.13 591.62 Q1359.34 593.518 1357.24 596.111 Q1356.66 596.782 1353.56 600 Q1350.46 603.194 1344.81 608.958 Z\" fill=\"#000000\" fill-rule=\"evenodd\" fill-opacity=\"1\" /><path clip-path=\"url(#clip390)\" d=\"M 0 0 M1367.01 608.958 L1374.64 608.958 L1374.64 582.592 L1366.33 584.259 L1366.33 580 L1374.6 578.333 L1379.27 578.333 L1379.27 608.958 L1386.91 608.958 L1386.91 612.893 L1367.01 612.893 L1367.01 608.958 Z\" fill=\"#000000\" fill-rule=\"evenodd\" fill-opacity=\"1\" /><path clip-path=\"url(#clip390)\" d=\"M 0 0 M1391.98 607.013 L1396.87 607.013 L1396.87 612.893 L1391.98 612.893 L1391.98 607.013 Z\" fill=\"#000000\" fill-rule=\"evenodd\" fill-opacity=\"1\" /><path clip-path=\"url(#clip390)\" d=\"M 0 0 M1411.94 596.481 Q1408.6 596.481 1406.68 598.263 Q1404.78 600.046 1404.78 603.171 Q1404.78 606.296 1406.68 608.078 Q1408.6 609.861 1411.94 609.861 Q1415.27 609.861 1417.19 608.078 Q1419.11 606.273 1419.11 603.171 Q1419.11 600.046 1417.19 598.263 Q1415.29 596.481 1411.94 596.481 M1407.26 594.49 Q1404.25 593.75 1402.56 591.689 Q1400.89 589.629 1400.89 586.666 Q1400.89 582.523 1403.83 580.115 Q1406.8 577.708 1411.94 577.708 Q1417.1 577.708 1420.04 580.115 Q1422.98 582.523 1422.98 586.666 Q1422.98 589.629 1421.29 591.689 Q1419.62 593.75 1416.64 594.49 Q1420.02 595.277 1421.89 597.569 Q1423.79 599.861 1423.79 603.171 Q1423.79 608.194 1420.71 610.879 Q1417.65 613.564 1411.94 613.564 Q1406.22 613.564 1403.14 610.879 Q1400.08 608.194 1400.08 603.171 Q1400.08 599.861 1401.98 597.569 Q1403.88 595.277 1407.26 594.49 M1405.55 587.106 Q1405.55 589.791 1407.21 591.296 Q1408.9 592.8 1411.94 592.8 Q1414.95 592.8 1416.64 591.296 Q1418.35 589.791 1418.35 587.106 Q1418.35 584.421 1416.64 582.916 Q1414.95 581.412 1411.94 581.412 Q1408.9 581.412 1407.21 582.916 Q1405.55 584.421 1405.55 587.106 Z\" fill=\"#000000\" fill-rule=\"evenodd\" fill-opacity=\"1\" /><path clip-path=\"url(#clip390)\" d=\"M 0 0 M1322.98 316.781 L1335.46 316.781 L1335.46 320.577 L1322.98 320.577 L1322.98 316.781 Z\" fill=\"#000000\" fill-rule=\"evenodd\" fill-opacity=\"1\" /><path clip-path=\"url(#clip390)\" d=\"M 0 0 M1344.55 327.73 L1360.87 327.73 L1360.87 331.665 L1338.93 331.665 L1338.93 327.73 Q1341.59 324.975 1346.17 320.345 Q1350.78 315.693 1351.96 314.35 Q1354.21 311.827 1355.08 310.091 Q1355.99 308.332 1355.99 306.642 Q1355.99 303.887 1354.04 302.151 Q1352.12 300.415 1349.02 300.415 Q1346.82 300.415 1344.37 301.179 Q1341.94 301.943 1339.16 303.494 L1339.16 298.772 Q1341.98 297.637 1344.44 297.059 Q1346.89 296.48 1348.93 296.48 Q1354.3 296.48 1357.49 299.165 Q1360.69 301.85 1360.69 306.341 Q1360.69 308.471 1359.88 310.392 Q1359.09 312.29 1356.98 314.883 Q1356.4 315.554 1353.3 318.771 Q1350.2 321.966 1344.55 327.73 Z\" fill=\"#000000\" fill-rule=\"evenodd\" fill-opacity=\"1\" /><path clip-path=\"url(#clip390)\" d=\"M 0 0 M1366.75 327.73 L1374.39 327.73 L1374.39 301.364 L1366.08 303.031 L1366.08 298.772 L1374.34 297.105 L1379.02 297.105 L1379.02 327.73 L1386.66 327.73 L1386.66 331.665 L1366.75 331.665 L1366.75 327.73 Z\" fill=\"#000000\" fill-rule=\"evenodd\" fill-opacity=\"1\" /><path clip-path=\"url(#clip390)\" d=\"M 0 0 M1391.73 325.785 L1396.61 325.785 L1396.61 331.665 L1391.73 331.665 L1391.73 325.785 Z\" fill=\"#000000\" fill-rule=\"evenodd\" fill-opacity=\"1\" /><path clip-path=\"url(#clip390)\" d=\"M 0 0 M1412.26 312.521 Q1409.11 312.521 1407.26 314.674 Q1405.43 316.827 1405.43 320.577 Q1405.43 324.304 1407.26 326.48 Q1409.11 328.632 1412.26 328.632 Q1415.41 328.632 1417.24 326.48 Q1419.09 324.304 1419.09 320.577 Q1419.09 316.827 1417.24 314.674 Q1415.41 312.521 1412.26 312.521 M1421.54 297.869 L1421.54 302.128 Q1419.78 301.295 1417.98 300.855 Q1416.2 300.415 1414.44 300.415 Q1409.81 300.415 1407.35 303.54 Q1404.92 306.665 1404.58 312.984 Q1405.94 310.971 1408 309.906 Q1410.06 308.818 1412.54 308.818 Q1417.75 308.818 1420.76 311.989 Q1423.79 315.137 1423.79 320.577 Q1423.79 325.901 1420.64 329.119 Q1417.49 332.336 1412.26 332.336 Q1406.27 332.336 1403.09 327.753 Q1399.92 323.146 1399.92 314.42 Q1399.92 306.225 1403.81 301.364 Q1407.7 296.48 1414.25 296.48 Q1416.01 296.48 1417.79 296.827 Q1419.6 297.174 1421.54 297.869 Z\" fill=\"#000000\" fill-rule=\"evenodd\" fill-opacity=\"1\" /><path clip-path=\"url(#clip390)\" d=\"M 0 0 M1914.53 1502.96 Q1914.53 1503.37 1914.43 1503.66 Q1914.33 1503.92 1914.11 1504.05 Q1913.88 1504.18 1913.75 1504.21 Q1913.63 1504.24 1913.34 1504.28 Q1911.95 1504.4 1910.98 1504.63 Q1910.05 1504.86 1907.73 1506.01 Q1905.44 1507.17 1902.58 1509.27 L1891.05 1518.19 L1889.12 1519.7 Q1889.12 1519.8 1889.18 1519.99 Q1889.25 1520.15 1889.31 1520.38 Q1889.41 1520.57 1889.44 1520.64 L1898.81 1542.25 Q1899.55 1543.99 1900.45 1544.6 Q1901.35 1545.21 1903.38 1545.24 Q1903.71 1545.24 1903.83 1545.27 Q1904 1545.27 1904.22 1545.34 Q1904.48 1545.37 1904.58 1545.53 Q1904.7 1545.69 1904.7 1545.95 Q1904.7 1547.27 1903.51 1547.27 Q1902.77 1547.27 1900.26 1547.17 Q1897.75 1547.08 1897.04 1547.08 Q1895.72 1547.08 1893.01 1547.17 Q1890.31 1547.27 1888.99 1547.27 Q1888.05 1547.27 1888.05 1546.53 Q1888.05 1545.92 1888.28 1545.63 Q1888.54 1545.31 1888.76 1545.27 Q1888.99 1545.24 1889.5 1545.24 Q1889.89 1545.24 1890.31 1545.21 Q1890.76 1545.14 1891.4 1544.98 Q1892.08 1544.79 1892.5 1544.34 Q1892.95 1543.86 1892.95 1543.18 Q1892.95 1542.63 1892.14 1540.86 L1884.51 1523.12 L1874.69 1530.78 L1872.05 1541.15 Q1871.98 1541.54 1871.82 1542.21 Q1871.66 1542.89 1871.53 1543.37 Q1871.44 1543.86 1871.44 1544.05 Q1871.44 1544.47 1871.69 1544.73 Q1871.98 1544.98 1872.69 1545.11 Q1873.4 1545.21 1873.95 1545.24 Q1874.53 1545.24 1875.72 1545.24 Q1877.2 1545.24 1877.46 1545.5 Q1877.59 1545.66 1877.59 1545.95 Q1877.59 1546.4 1877.46 1546.72 Q1877.33 1547.01 1877.07 1547.11 Q1876.85 1547.21 1876.69 1547.24 Q1876.52 1547.27 1876.27 1547.27 Q1875.59 1547.27 1874.14 1547.21 Q1872.72 1547.14 1871.98 1547.14 L1867.76 1547.08 L1859.39 1547.27 Q1858.39 1547.27 1858.39 1546.47 Q1858.39 1545.85 1858.65 1545.6 Q1858.91 1545.31 1859.2 1545.27 Q1859.49 1545.24 1860.23 1545.24 Q1861.84 1545.24 1862.8 1545.14 Q1863.77 1545.05 1864.38 1544.92 Q1865.03 1544.76 1865.35 1544.31 Q1865.7 1543.86 1865.86 1543.47 Q1866.02 1543.05 1866.25 1542.12 L1875.07 1506.69 Q1875.33 1505.63 1875.33 1505.47 Q1875.33 1504.92 1875.01 1504.73 Q1874.72 1504.5 1873.88 1504.4 Q1872.27 1504.28 1871.05 1504.28 Q1870.24 1504.28 1869.92 1504.24 Q1869.63 1504.21 1869.37 1504.05 Q1869.15 1503.86 1869.15 1503.47 Q1869.15 1502.21 1870.47 1502.21 L1878.97 1502.41 L1887.41 1502.21 Q1888.34 1502.21 1888.34 1502.96 Q1888.34 1503.89 1887.89 1504.08 Q1887.47 1504.28 1886.09 1504.28 Q1883.67 1504.28 1882.58 1504.6 Q1881.52 1504.89 1881.19 1505.4 Q1880.9 1505.89 1880.55 1507.3 L1875.27 1528.46 L1901 1508.69 Q1903.38 1506.69 1903.38 1505.66 Q1903.38 1504.98 1902.9 1504.69 Q1902.45 1504.37 1901.32 1504.28 Q1900.52 1504.15 1900.52 1503.53 Q1900.52 1502.92 1900.74 1502.63 Q1901 1502.31 1901.19 1502.28 Q1901.42 1502.21 1901.77 1502.21 Q1902.97 1502.21 1905.44 1502.31 Q1907.92 1502.41 1909.12 1502.41 Q1909.92 1502.41 1911.5 1502.31 Q1913.08 1502.21 1913.79 1502.21 Q1914.14 1502.21 1914.33 1502.47 Q1914.53 1502.7 1914.53 1502.96 Z\" fill=\"#000000\" fill-rule=\"evenodd\" fill-opacity=\"1\" /><path clip-path=\"url(#clip390)\" d=\"M 0 0 M1935.24 1544.97 Q1935.24 1545.6 1934.94 1545.76 Q1934.65 1545.9 1933.84 1545.9 L1929.51 1545.9 L1926.08 1559.51 Q1925.81 1560.71 1925.81 1561.72 Q1925.81 1562.85 1926.15 1563.34 Q1926.51 1563.84 1927.26 1563.84 Q1928.72 1563.84 1930.3 1562.51 Q1931.9 1561.18 1933.25 1557.93 Q1933.43 1557.51 1933.52 1557.42 Q1933.64 1557.3 1933.93 1557.3 Q1934.49 1557.3 1934.49 1557.75 Q1934.49 1557.91 1934.18 1558.63 Q1933.88 1559.35 1933.23 1560.41 Q1932.6 1561.47 1931.77 1562.47 Q1930.95 1563.46 1929.71 1564.18 Q1928.47 1564.88 1927.14 1564.88 Q1925.27 1564.88 1924.08 1563.68 Q1922.91 1562.49 1922.91 1560.62 Q1922.91 1560.01 1923.38 1558.07 Q1923.85 1556.11 1926.42 1545.9 L1922.34 1545.9 Q1921.78 1545.9 1921.55 1545.87 Q1921.35 1545.85 1921.19 1545.74 Q1921.06 1545.6 1921.06 1545.33 Q1921.06 1544.9 1921.24 1544.72 Q1921.42 1544.52 1921.64 1544.5 Q1921.89 1544.45 1922.45 1544.45 L1926.78 1544.45 L1928.59 1537.13 Q1928.77 1536.4 1929.22 1536 Q1929.69 1535.57 1929.96 1535.53 Q1930.23 1535.46 1930.44 1535.46 Q1931.04 1535.46 1931.4 1535.8 Q1931.77 1536.11 1931.77 1536.7 Q1931.77 1537.01 1929.87 1544.45 L1933.93 1544.45 Q1934.45 1544.45 1934.65 1544.48 Q1934.88 1544.5 1935.06 1544.61 Q1935.24 1544.72 1935.24 1544.97 Z\" fill=\"#000000\" fill-rule=\"evenodd\" fill-opacity=\"1\" /><path clip-path=\"url(#clip390)\" d=\"M 0 0 M1244.13 730.982 Q1245.33 731.047 1245.39 731.852 Q1245.45 733.076 1245.62 733.816 Q1245.74 734.557 1246.23 735.717 Q1246.71 736.876 1247.87 738.003 Q1249.03 739.13 1250.86 740.29 L1288.64 764.026 Q1289.35 764.444 1289.58 764.798 Q1289.83 765.121 1289.83 765.861 Q1289.83 766.538 1289.54 766.795 Q1289.29 767.053 1288.32 767.182 L1247.61 772.399 Q1246.87 772.496 1246.55 772.592 Q1246.23 772.689 1245.91 773.075 Q1245.58 773.43 1245.49 774.203 Q1245.39 774.976 1245.39 776.36 Q1245.39 777.004 1245.36 777.294 Q1245.33 777.552 1245.16 777.777 Q1244.97 778.003 1244.58 778.003 Q1244.01 778.003 1243.72 777.777 Q1243.39 777.52 1243.36 777.327 Q1243.33 777.101 1243.33 776.747 Q1243.33 776.199 1243.39 775.008 Q1243.46 773.816 1243.46 773.204 Q1243.46 772.624 1243.49 771.401 Q1243.52 770.177 1243.52 769.565 Q1243.52 768.212 1243.43 765.475 Q1243.33 762.705 1243.33 761.385 Q1243.33 760.483 1244.07 760.483 Q1244.97 760.483 1245.2 760.869 Q1245.39 761.256 1245.39 762.125 Q1245.39 764.315 1245.94 765.507 Q1246.48 766.666 1247.35 766.666 L1282.27 762.19 L1250.06 741.932 Q1248.55 740.934 1247.55 740.934 Q1245.62 740.934 1245.39 743.993 Q1245.39 745.024 1244.58 745.024 Q1244.01 745.024 1243.72 744.766 Q1243.39 744.509 1243.36 744.316 Q1243.33 744.09 1243.33 743.768 Q1243.33 742.705 1243.43 740.547 Q1243.52 738.357 1243.52 737.262 Q1243.52 736.361 1243.43 734.525 Q1243.33 732.689 1243.33 731.852 Q1243.33 730.982 1244.13 730.982 Z\" fill=\"#000000\" fill-rule=\"evenodd\" fill-opacity=\"1\" /><path clip-path=\"url(#clip390)\" d=\"M 0 0 M1287.51 710.189 Q1288.14 710.189 1288.3 710.482 Q1288.43 710.775 1288.43 711.587 L1288.43 715.915 L1302.05 719.342 Q1303.24 719.612 1304.26 719.612 Q1305.38 719.612 1305.88 719.274 Q1306.38 718.913 1306.38 718.169 Q1306.38 716.704 1305.05 715.126 Q1303.72 713.525 1300.47 712.173 Q1300.04 711.992 1299.95 711.902 Q1299.84 711.789 1299.84 711.496 Q1299.84 710.933 1300.29 710.933 Q1300.45 710.933 1301.17 711.248 Q1301.89 711.542 1302.95 712.195 Q1304.01 712.827 1305 713.661 Q1305.99 714.472 1306.72 715.712 Q1307.41 716.952 1307.41 718.282 Q1307.41 720.153 1306.22 721.348 Q1305.02 722.52 1303.15 722.52 Q1302.54 722.52 1300.61 722.047 Q1298.64 721.574 1288.43 719.004 L1288.43 723.084 Q1288.43 723.648 1288.41 723.873 Q1288.39 724.076 1288.27 724.234 Q1288.14 724.369 1287.87 724.369 Q1287.44 724.369 1287.26 724.189 Q1287.06 724.008 1287.03 723.783 Q1286.99 723.535 1286.99 722.971 L1286.99 718.643 L1279.66 716.839 Q1278.94 716.659 1278.53 716.208 Q1278.11 715.735 1278.06 715.464 Q1277.99 715.194 1277.99 714.991 Q1277.99 714.382 1278.33 714.021 Q1278.65 713.661 1279.23 713.661 Q1279.55 713.661 1286.99 715.554 L1286.99 711.496 Q1286.99 710.978 1287.01 710.775 Q1287.03 710.55 1287.15 710.369 Q1287.26 710.189 1287.51 710.189 Z\" fill=\"#000000\" fill-rule=\"evenodd\" fill-opacity=\"1\" /><polyline clip-path=\"url(#clip393)\" style=\"stroke:#009af9; stroke-width:4; stroke-opacity:1; fill:none\" points=\"\n",
       "  1473.4,1394.78 1482.02,1387.88 1490.65,1381.05 1499.27,1374.31 1507.9,1367.64 1516.52,1361.04 1525.14,1354.53 1533.77,1348.07 1542.39,1341.69 1551.01,1335.37 \n",
       "  1559.64,1329.12 1568.26,1322.94 1576.88,1316.82 1585.51,1310.76 1594.13,1304.77 1602.76,1298.84 1611.38,1292.96 1620,1287.15 1628.63,1281.38 1637.25,1275.68 \n",
       "  1645.87,1270.03 1654.5,1264.42 1663.12,1258.88 1671.74,1253.39 1680.37,1247.94 1688.99,1242.55 1697.62,1237.21 1706.24,1231.9 1714.86,1226.65 1723.49,1221.45 \n",
       "  1732.11,1216.28 1740.73,1211.17 1749.36,1206.1 1757.98,1201.07 1766.61,1196.09 1775.23,1191.15 1783.85,1186.24 1792.48,1181.37 1801.1,1176.55 1809.72,1171.77 \n",
       "  1818.35,1167.02 1826.97,1162.31 1835.59,1157.64 1844.22,1153 1852.84,1148.4 1861.47,1143.84 1870.09,1139.32 1878.71,1134.82 1887.34,1130.36 1895.96,1125.94 \n",
       "  1904.58,1121.54 1913.21,1117.18 1921.83,1112.85 1930.45,1108.55 1939.08,1104.28 1947.7,1100.04 1956.33,1095.84 1964.95,1091.66 1973.57,1087.51 1982.2,1083.4 \n",
       "  1990.82,1079.31 1999.44,1075.24 2008.07,1071.21 2016.69,1067.2 2025.32,1063.22 2033.94,1059.26 2042.56,1055.33 2051.19,1051.44 2059.81,1047.56 2068.43,1043.7 \n",
       "  2077.06,1039.88 2085.68,1036.08 2094.3,1032.3 2102.93,1028.54 2111.55,1024.82 2120.18,1021.11 2128.8,1017.42 2137.42,1013.76 2146.05,1010.12 2154.67,1006.51 \n",
       "  2163.29,1002.91 2171.92,999.336 2180.54,995.786 2189.16,992.26 2197.79,988.75 2206.41,985.26 2215.04,981.793 2223.66,978.348 2232.28,974.916 2240.91,971.506 \n",
       "  2249.53,968.118 2258.15,964.751 2266.78,961.397 2275.4,958.063 2284.03,954.75 2292.65,951.458 2301.27,948.183 2309.9,944.922 2318.52,941.681 2327.14,938.46 \n",
       "  \n",
       "  \"/>\n",
       "<polyline clip-path=\"url(#clip393)\" style=\"stroke:#e26f46; stroke-width:4; stroke-opacity:1; fill:none\" points=\"\n",
       "  1473.4,542.812 1482.02,535.915 1490.65,529.085 1499.27,522.341 1507.9,515.67 1516.52,509.073 1525.14,502.558 1533.77,496.101 1542.39,489.723 1551.01,483.403 \n",
       "  1559.64,477.155 1568.26,470.975 1576.88,464.852 1585.51,458.799 1594.13,452.805 1602.76,446.87 1611.38,440.994 1620,435.171 1628.63,429.412 1637.25,423.705 \n",
       "  1645.87,418.051 1654.5,412.457 1663.12,406.91 1671.74,401.415 1680.37,395.975 1688.99,390.576 1697.62,385.232 1706.24,379.934 1714.86,374.68 1723.49,369.477 \n",
       "  1732.11,364.319 1740.73,359.202 1749.36,354.134 1757.98,349.107 1766.61,344.12 1775.23,339.179 1783.85,334.271 1792.48,329.407 1801.1,324.587 1809.72,319.801 \n",
       "  1818.35,315.054 1826.97,310.349 1835.59,305.674 1844.22,301.038 1852.84,296.442 1861.47,291.874 1870.09,287.344 1878.71,282.853 1887.34,278.392 1895.96,273.963 \n",
       "  1904.58,269.571 1913.21,265.213 1921.83,260.881 1930.45,256.583 1939.08,252.315 1947.7,248.074 1956.33,243.867 1964.95,239.694 1973.57,235.542 1982.2,231.422 \n",
       "  1990.82,227.334 1999.44,223.273 2008.07,219.236 2016.69,215.23 2025.32,211.252 2033.94,207.295 2042.56,203.367 2051.19,199.468 2059.81,195.587 2068.43,191.734 \n",
       "  2077.06,187.909 2085.68,184.11 2094.3,180.33 2102.93,176.576 2111.55,172.849 2120.18,169.142 2128.8,165.457 2137.42,161.797 2146.05,158.158 2154.67,154.539 \n",
       "  2163.29,150.944 2171.92,147.373 2180.54,143.822 2189.16,140.29 2197.79,136.781 2206.41,133.295 2215.04,129.828 2223.66,126.379 2232.28,122.952 2240.91,119.543 \n",
       "  2249.53,116.151 2258.15,112.781 2266.78,109.431 2275.4,106.1 2284.03,102.785 2292.65,99.4894 2301.27,96.2147 2309.9,92.9592 2318.52,89.7161 2327.14,86.4928 \n",
       "  \n",
       "  \"/>\n",
       "<path clip-path=\"url(#clip390)\" d=\"\n",
       "M1938.97 312.204 L2280.76 312.204 L2280.76 130.764 L1938.97 130.764  Z\n",
       "  \" fill=\"#ffffff\" fill-rule=\"evenodd\" fill-opacity=\"1\"/>\n",
       "<polyline clip-path=\"url(#clip390)\" style=\"stroke:#000000; stroke-width:4; stroke-opacity:1; fill:none\" points=\"\n",
       "  1938.97,312.204 2280.76,312.204 2280.76,130.764 1938.97,130.764 1938.97,312.204 \n",
       "  \"/>\n",
       "<polyline clip-path=\"url(#clip390)\" style=\"stroke:#009af9; stroke-width:4; stroke-opacity:1; fill:none\" points=\"\n",
       "  1962.97,191.244 2106.97,191.244 \n",
       "  \"/>\n",
       "<path clip-path=\"url(#clip390)\" d=\"M 0 0 M2149.75 195.584 Q2149.75 190.885 2147.8 188.223 Q2145.88 185.538 2142.5 185.538 Q2139.12 185.538 2137.18 188.223 Q2135.26 190.885 2135.26 195.584 Q2135.26 200.283 2137.18 202.969 Q2139.12 205.631 2142.5 205.631 Q2145.88 205.631 2147.8 202.969 Q2149.75 200.283 2149.75 195.584 M2135.26 186.533 Q2136.6 184.219 2138.64 183.108 Q2140.7 181.973 2143.54 181.973 Q2148.27 181.973 2151.21 185.723 Q2154.17 189.473 2154.17 195.584 Q2154.17 201.695 2151.21 205.445 Q2148.27 209.195 2143.54 209.195 Q2140.7 209.195 2138.64 208.084 Q2136.6 206.95 2135.26 204.635 L2135.26 208.524 L2130.97 208.524 L2130.97 172.506 L2135.26 172.506 L2135.26 186.533 Z\" fill=\"#000000\" fill-rule=\"evenodd\" fill-opacity=\"1\" /><path clip-path=\"url(#clip390)\" d=\"M 0 0 M2170.42 195.492 Q2165.26 195.492 2163.27 196.672 Q2161.27 197.853 2161.27 200.7 Q2161.27 202.969 2162.76 204.311 Q2164.26 205.631 2166.83 205.631 Q2170.37 205.631 2172.5 203.131 Q2174.65 200.607 2174.65 196.441 L2174.65 195.492 L2170.42 195.492 M2178.91 193.733 L2178.91 208.524 L2174.65 208.524 L2174.65 204.589 Q2173.2 206.95 2171.02 208.084 Q2168.84 209.195 2165.7 209.195 Q2161.71 209.195 2159.35 206.973 Q2157.02 204.728 2157.02 200.978 Q2157.02 196.603 2159.93 194.381 Q2162.87 192.158 2168.68 192.158 L2174.65 192.158 L2174.65 191.742 Q2174.65 188.802 2172.71 187.205 Q2170.79 185.584 2167.29 185.584 Q2165.07 185.584 2162.96 186.117 Q2160.86 186.649 2158.91 187.714 L2158.91 183.779 Q2161.25 182.876 2163.45 182.436 Q2165.65 181.973 2167.73 181.973 Q2173.36 181.973 2176.14 184.89 Q2178.91 187.807 2178.91 193.733 Z\" fill=\"#000000\" fill-rule=\"evenodd\" fill-opacity=\"1\" /><path clip-path=\"url(#clip390)\" d=\"M 0 0 M2200.44 186.533 L2200.44 172.506 L2204.7 172.506 L2204.7 208.524 L2200.44 208.524 L2200.44 204.635 Q2199.1 206.95 2197.04 208.084 Q2195 209.195 2192.13 209.195 Q2187.43 209.195 2184.47 205.445 Q2181.53 201.695 2181.53 195.584 Q2181.53 189.473 2184.47 185.723 Q2187.43 181.973 2192.13 181.973 Q2195 181.973 2197.04 183.108 Q2199.1 184.219 2200.44 186.533 M2185.93 195.584 Q2185.93 200.283 2187.85 202.969 Q2189.79 205.631 2193.17 205.631 Q2196.55 205.631 2198.5 202.969 Q2200.44 200.283 2200.44 195.584 Q2200.44 190.885 2198.5 188.223 Q2196.55 185.538 2193.17 185.538 Q2189.79 185.538 2187.85 188.223 Q2185.93 190.885 2185.93 195.584 Z\" fill=\"#000000\" fill-rule=\"evenodd\" fill-opacity=\"1\" /><polyline clip-path=\"url(#clip390)\" style=\"stroke:#e26f46; stroke-width:4; stroke-opacity:1; fill:none\" points=\"\n",
       "  1962.97,251.724 2106.97,251.724 \n",
       "  \"/>\n",
       "<path clip-path=\"url(#clip390)\" d=\"M 0 0 M2149.89 255.74 Q2149.89 251.111 2147.96 248.564 Q2146.07 246.018 2142.62 246.018 Q2139.19 246.018 2137.27 248.564 Q2135.37 251.111 2135.37 255.74 Q2135.37 260.347 2137.27 262.893 Q2139.19 265.439 2142.62 265.439 Q2146.07 265.439 2147.96 262.893 Q2149.89 260.347 2149.89 255.74 M2154.15 265.787 Q2154.15 272.407 2151.21 275.624 Q2148.27 278.865 2142.2 278.865 Q2139.96 278.865 2137.96 278.518 Q2135.97 278.194 2134.1 277.499 L2134.1 273.356 Q2135.97 274.374 2137.8 274.861 Q2139.63 275.347 2141.53 275.347 Q2145.72 275.347 2147.8 273.148 Q2149.89 270.972 2149.89 266.55 L2149.89 264.444 Q2148.57 266.736 2146.51 267.87 Q2144.45 269.004 2141.58 269.004 Q2136.81 269.004 2133.89 265.37 Q2130.97 261.736 2130.97 255.74 Q2130.97 249.722 2133.89 246.088 Q2136.81 242.453 2141.58 242.453 Q2144.45 242.453 2146.51 243.588 Q2148.57 244.722 2149.89 247.013 L2149.89 243.078 L2154.15 243.078 L2154.15 265.787 Z\" fill=\"#000000\" fill-rule=\"evenodd\" fill-opacity=\"1\" /><path clip-path=\"url(#clip390)\" d=\"M 0 0 M2168.66 246.064 Q2165.23 246.064 2163.24 248.75 Q2161.25 251.412 2161.25 256.064 Q2161.25 260.717 2163.22 263.402 Q2165.21 266.064 2168.66 266.064 Q2172.06 266.064 2174.05 263.379 Q2176.04 260.694 2176.04 256.064 Q2176.04 251.458 2174.05 248.773 Q2172.06 246.064 2168.66 246.064 M2168.66 242.453 Q2174.21 242.453 2177.39 246.064 Q2180.56 249.675 2180.56 256.064 Q2180.56 262.43 2177.39 266.064 Q2174.21 269.675 2168.66 269.675 Q2163.08 269.675 2159.91 266.064 Q2156.76 262.43 2156.76 256.064 Q2156.76 249.675 2159.91 246.064 Q2163.08 242.453 2168.66 242.453 Z\" fill=\"#000000\" fill-rule=\"evenodd\" fill-opacity=\"1\" /><path clip-path=\"url(#clip390)\" d=\"M 0 0 M2195.07 246.064 Q2191.65 246.064 2189.65 248.75 Q2187.66 251.412 2187.66 256.064 Q2187.66 260.717 2189.63 263.402 Q2191.62 266.064 2195.07 266.064 Q2198.47 266.064 2200.46 263.379 Q2202.46 260.694 2202.46 256.064 Q2202.46 251.458 2200.46 248.773 Q2198.47 246.064 2195.07 246.064 M2195.07 242.453 Q2200.63 242.453 2203.8 246.064 Q2206.97 249.675 2206.97 256.064 Q2206.97 262.43 2203.8 266.064 Q2200.63 269.675 2195.07 269.675 Q2189.49 269.675 2186.32 266.064 Q2183.17 262.43 2183.17 256.064 Q2183.17 249.675 2186.32 246.064 Q2189.49 242.453 2195.07 242.453 Z\" fill=\"#000000\" fill-rule=\"evenodd\" fill-opacity=\"1\" /><path clip-path=\"url(#clip390)\" d=\"M 0 0 M2228.5 247.013 L2228.5 232.986 L2232.76 232.986 L2232.76 269.004 L2228.5 269.004 L2228.5 265.115 Q2227.15 267.43 2225.09 268.564 Q2223.06 269.675 2220.19 269.675 Q2215.49 269.675 2212.52 265.925 Q2209.58 262.175 2209.58 256.064 Q2209.58 249.953 2212.52 246.203 Q2215.49 242.453 2220.19 242.453 Q2223.06 242.453 2225.09 243.588 Q2227.15 244.699 2228.5 247.013 M2213.98 256.064 Q2213.98 260.763 2215.9 263.449 Q2217.85 266.111 2221.23 266.111 Q2224.61 266.111 2226.55 263.449 Q2228.5 260.763 2228.5 256.064 Q2228.5 251.365 2226.55 248.703 Q2224.61 246.018 2221.23 246.018 Q2217.85 246.018 2215.9 248.703 Q2213.98 251.365 2213.98 256.064 Z\" fill=\"#000000\" fill-rule=\"evenodd\" fill-opacity=\"1\" /></svg>\n"
      ]
     },
     "execution_count": 30,
     "metadata": {},
     "output_type": "execute_result"
    }
   ],
   "source": [
    "pl_v = plot(K_grid, V[1], label=\"bad\")\n",
    "plot!(pl_v, K_grid, V[2], label=\"good\")\n",
    "xlabel!(pl_v,\"\\$K_t\\$\")\n",
    "ylabel!(pl_v,\"\\$V_t\\$\")\n",
    "\n",
    "pl = plot(K_grid, P[1], label=\"\")\n",
    "plot!(pl, K_grid, P[2], label=\"\")\n",
    "plot!(pl, K_grid, K_grid, color=\"black\", label=\"\")\n",
    "xlabel!(pl,\"\\$K_t\\$\")\n",
    "ylabel!(pl,\"\\$K_{t+1}\\$\")\n",
    "\n",
    "plot(pl, pl_v)"
   ]
  },
  {
   "cell_type": "markdown",
   "metadata": {},
   "source": [
    "The right hand side shows the value of holding a given amount of capital. This value reflects its value for production today, as well as for being reinvested tomorrow, assuming this is done in the optimal way.\n",
    "\n",
    "Obviously, having more capital increases value. Also higher productivity (\"good\" state) also increases the value of capital since it is able to produce more, both today and in the future.\n",
    "\n",
    "The left hand side graph shows the amount of capital invested for next period.\n",
    "When productivity of capital is high, more capital is invested (logical!) than when productivity is low. We can see that it capital converges towards two different states, in bad times and in good times. If we were to simulate the model (which we don't do here), we would observe that the economy would eventually fluctuate between these two states."
   ]
  },
  {
   "cell_type": "markdown",
   "metadata": {},
   "source": [
    "__Propose some ideas to improve performances.__"
   ]
  },
  {
   "cell_type": "markdown",
   "metadata": {},
   "source": [
    "The code above was written in a naive way but might be very suboptimal. \n",
    "\n",
    "Let's try to improve its performance. \n",
    "First, execution time: we call the function twice, once alone, once with a @time macro, to be sure, it is already compiled when we set the timer\n",
    "            "
   ]
  },
  {
   "cell_type": "code",
   "execution_count": 31,
   "metadata": {},
   "outputs": [
    {
     "name": "stdout",
     "output_type": "stream",
     "text": [
      "  3.120111 seconds (121.66 M allocations: 2.222 GiB, 10.75% gc time)\n"
     ]
    },
    {
     "data": {
      "text/plain": [
       "([[-22.368343931569044, -22.36343254814532, -22.358577534115966, -22.353784458187512, -22.349037813997086, -22.34434746074303, -22.339714105347113, -22.3351218532696, -22.330585041467486, -22.326091215608233  …  -22.064912914993343, -22.062518719927755, -22.060133464200014, -22.05776254627267, -22.055406491718117, -22.05306512151847, -22.050736163073477, -22.048416951826354, -22.04611196288671, -22.04382102867364], [-21.762450039516036, -21.757544785636306, -21.752687499061683, -21.74789168838552, -21.743147265406108, -21.738455847257033, -21.733822298417124, -21.729230676214936, -21.724694371340085, -21.720200105783945  …  -21.459022731278097, -21.456625762669347, -21.4542439884461, -21.451875140276993, -21.44951702053721, -21.447173602842668, -21.444844711087583, -21.44252951432235, -21.440223151998698, -21.437930855910878]], [[0.13959279793286314, 0.1408466384783215, 0.1408466384783215, 0.1408466384783215, 0.14210047902377987, 0.14210047902377987, 0.14335431956923822, 0.14335431956923822, 0.14335431956923822, 0.1446081601146966  …  0.173446492660239, 0.173446492660239, 0.17470033320569736, 0.17470033320569736, 0.17470033320569736, 0.17470033320569736, 0.17595417375115574, 0.17595417375115574, 0.17595417375115574, 0.17595417375115574], [0.15463888447836352, 0.15463888447836352, 0.15589272502382187, 0.15589272502382187, 0.15714656556928025, 0.15714656556928025, 0.15714656556928025, 0.1584004061147386, 0.1584004061147386, 0.15965424666019698  …  0.19225410084211447, 0.19225410084211447, 0.19225410084211447, 0.19350794138757285, 0.19350794138757285, 0.19350794138757285, 0.19350794138757285, 0.1947617819330312, 0.1947617819330312, 0.1947617819330312]])"
      ]
     },
     "execution_count": 31,
     "metadata": {},
     "output_type": "execute_result"
    }
   ],
   "source": [
    "V, P= FixedPoint(V0, verbose=false)\n",
    "@time V, P= FixedPoint(V0, verbose=false)"
   ]
  },
  {
   "cell_type": "markdown",
   "metadata": {},
   "source": [
    "If we have some experience with this kind of models, we know 3 seconds is very slow.\n",
    "Also the amount of memory allocated for the program (all the intermediary variables and arrays) is\n",
    "very big: 2 Gb is gigantic compared to our state space that has just 100 points, especially since we are doing inplace operations and shouldn't be allocating anything.\n"
   ]
  },
  {
   "cell_type": "markdown",
   "metadata": {},
   "source": [
    "Here checking the Julia performance trick would be a good idea. But suppose we don't know where to start. Let's try to use libary Traceur to get some suggestions. (it takes a lot of time though so you might want to skip that part if you are running it on your laptop)."
   ]
  },
  {
   "cell_type": "code",
   "execution_count": 32,
   "metadata": {},
   "outputs": [],
   "source": [
    "using Traceur"
   ]
  },
  {
   "cell_type": "code",
   "execution_count": 33,
   "metadata": {},
   "outputs": [
    {
     "name": "stderr",
     "output_type": "stream",
     "text": [
      "┌ Warning: getindex returns Union{Float64, Int64}\n",
      "└ @ tuple.jl:24\n",
      "┌ Warning: n is assigned as Union{Nothing, Tuple{Float64,Int64}}\n",
      "└ @ iterators.jl:139\n",
      "┌ Warning:  is assigned as Tuple{Int64,Int64}\n",
      "└ @ math.jl:124\n",
      "┌ Warning:  is assigned as Nothing\n",
      "└ @ math.jl:125\n",
      "┌ Warning: n is assigned as Union{Nothing, Tuple{Float64,Int64}}\n",
      "└ @ iterators.jl:139\n"
     ]
    },
    {
     "ename": "InterruptException",
     "evalue": "InterruptException:",
     "output_type": "error",
     "traceback": [
      "InterruptException:",
      "",
      "Stacktrace:",
      " [1] call at /home/pablo/.julia/packages/Cassette/158rp/src/context.jl:456 [inlined]",
      " [2] fallback at /home/pablo/.julia/packages/Cassette/158rp/src/context.jl:454 [inlined]",
      " [3] overdub(::Cassette.Context{nametype(TraceurCtx),Traceur.Trace,Nothing,Cassette.var\"##PassType#255\",Nothing,Nothing}, ::Core.IntrinsicFunction, ::UInt64, ::UInt64) at /home/pablo/.julia/packages/Cassette/158rp/src/overdub.jl:536",
      " [4] overdub(::Cassette.Context{nametype(TraceurCtx),Traceur.Trace,Nothing,Cassette.var\"##PassType#255\",Nothing,Nothing}, ::Function, ::UInt64, ::UInt64) at /home/pablo/.julia/packages/Traceur/ajxdS/src/trace.jl:47",
      " [5] & at ./int.jl:277 [inlined]",
      " [6] overdub(::Cassette.Context{nametype(TraceurCtx),Traceur.Trace,Nothing,Cassette.var\"##PassType#255\",Nothing,Nothing}, ::typeof(&), ::UInt64, ::UInt64) at /home/pablo/.julia/packages/Cassette/158rp/src/overdub.jl:0",
      " [7] overdub(::Cassette.Context{nametype(TraceurCtx),Traceur.Trace,Nothing,Cassette.var\"##PassType#255\",Nothing,Nothing}, ::Function, ::UInt64, ::UInt64) at /home/pablo/.julia/packages/Traceur/ajxdS/src/trace.jl:47",
      " [8] log at ./special/log.jl:272 [inlined]",
      " [9] overdub(::Cassette.Context{nametype(TraceurCtx),Traceur.Trace,Nothing,Cassette.var\"##PassType#255\",Nothing,Nothing}, ::typeof(log), ::Float64) at /home/pablo/.julia/packages/Cassette/158rp/src/overdub.jl:0",
      " [10] overdub(::Cassette.Context{nametype(TraceurCtx),Traceur.Trace,Nothing,Cassette.var\"##PassType#255\",Nothing,Nothing}, ::Function, ::Float64) at /home/pablo/.julia/packages/Traceur/ajxdS/src/trace.jl:47",
      " [11] Bellman_step! at ./In[20]:21 [inlined]",
      " [12] overdub(::Cassette.Context{nametype(TraceurCtx),Traceur.Trace,Nothing,Cassette.var\"##PassType#255\",Nothing,Nothing}, ::typeof(Bellman_step!), ::Array{Array{Float64,1},1}, ::Array{Array{Float64,1},1}, ::Array{Array{Float64,1},1}) at /home/pablo/.julia/packages/Cassette/158rp/src/overdub.jl:0",
      " [13] overdub(::Cassette.Context{nametype(TraceurCtx),Traceur.Trace,Nothing,Cassette.var\"##PassType#255\",Nothing,Nothing}, ::Function, ::Array{Array{Float64,1},1}, ::Array{Array{Float64,1},1}, ::Array{Array{Float64,1},1}) at /home/pablo/.julia/packages/Traceur/ajxdS/src/trace.jl:47",
      " [14] #19 at /home/pablo/.julia/packages/Traceur/ajxdS/src/trace.jl:88 [inlined]",
      " [15] recurse(::Cassette.Context{nametype(TraceurCtx),Traceur.Trace,Nothing,Cassette.var\"##PassType#255\",Nothing,Nothing}, ::var\"#19#20\") at /home/pablo/.julia/packages/Cassette/158rp/src/overdub.jl:0",
      " [16] trace(::Function, ::Function; kwargs::Base.Iterators.Pairs{Union{},Union{},Tuple{},NamedTuple{(),Tuple{}}}) at /home/pablo/.julia/packages/Traceur/ajxdS/src/trace.jl:51",
      " [17] trace at /home/pablo/.julia/packages/Traceur/ajxdS/src/trace.jl:51 [inlined]",
      " [18] #warntrace#21 at /home/pablo/.julia/packages/Traceur/ajxdS/src/trace.jl:54 [inlined]",
      " [19] warntrace(::Function) at /home/pablo/.julia/packages/Traceur/ajxdS/src/trace.jl:54",
      " [20] top-level scope at /home/pablo/.julia/packages/Traceur/ajxdS/src/trace.jl:88",
      " [21] top-level scope at In[33]:2"
     ]
    }
   ],
   "source": [
    "V0_, V1_, P_ = [deepcopy(V0) for i=1:3]\n",
    "@trace Bellman_step!(V1_, P_, V0_)"
   ]
  },
  {
   "cell_type": "markdown",
   "metadata": {},
   "source": [
    "The output of traceur provides a lot of information. Here it supports the hypotheses that performance issues stem from the use of global variables, that were defined directly in the notebook. When they are used in a function the the compiler is not sure the type of these variables hasn't changed. These where all the `Union` types come from (when the compiler doesn't know if it's type `A` or `B` the resulting type is `Union{A,B}`. It also explaine the `dynamic dispatch` warnings: julia needs to wait until it actually calls the function to know which version to call, based on the types of the arguments."
   ]
  },
  {
   "cell_type": "markdown",
   "metadata": {},
   "source": [
    "The solution is very simple: suppress dependencey on global variables by passing them as arguments to the functions.\n",
    "There are many options for doing so:\n",
    "- one argument per parameter\n",
    "- a dictionary with all parameters\n",
    "- define a special structure with all that defines a model\n",
    "The latter option, provides the best performance, but involves the definition of a new type. Instead, we opt for a dictionary of parameters."
   ]
  },
  {
   "cell_type": "code",
   "execution_count": 47,
   "metadata": {},
   "outputs": [
    {
     "data": {
      "text/plain": [
       "Bellman_step!"
      ]
     },
     "execution_count": 47,
     "metadata": {},
     "output_type": "execute_result"
    }
   ],
   "source": [
    "\"\"\"\n",
    "Bellman_step!(V, P, V0)\n",
    "\n",
    "# Arguments\n",
    "- `V::Array{Vector{Flaot64}}`: Updated value function (\\$V_{t}\\$)\n",
    "- `P::Array{Vector{Flaot64}}`: Updated policy (\\$P_{t}\\$)\n",
    "- `V0::Array{Vector{Flaot64}}`: Initial guess for value function (\\$V_{t+1}\\$)\n",
    "- `K_grid`: Grid for capital values.\n",
    "- `p::Dict{:Symbol, Float64}`: Dictionary of parameters\n",
    "...\n",
    "\"\"\"\n",
    "function Bellman_step!(V, P, V0, A, Π, K_grid, p::Dict{Symbol, Float64})\n",
    "    \n",
    "    α = p[:α]\n",
    "    β = p[:β]\n",
    "    \n",
    "    \n",
    "    for i=1:2\n",
    "        for (n,k) in enumerate(K_grid)\n",
    "            nn0 = -1\n",
    "            gv = -100000.0\n",
    "            kopt = -1.0\n",
    "            for (nn,kk) in enumerate(K_grid)\n",
    "                y = A[i]*k^α\n",
    "                c = y - kk\n",
    "                eV = Π[i,1] * V0[1][nn] +  Π[i, 2]*V0[2][nn]\n",
    "                v = log(c) + β * eV\n",
    "                if v > gv\n",
    "                    gv = v\n",
    "                    nn0 = nn\n",
    "                    kopt = kk\n",
    "                end\n",
    "            end\n",
    "            P[i][n] = kopt\n",
    "            V[i][n] = gv\n",
    "        end\n",
    "    end\n",
    "end"
   ]
  },
  {
   "cell_type": "code",
   "execution_count": 48,
   "metadata": {},
   "outputs": [
    {
     "data": {
      "text/plain": [
       "2×2 Array{Float64,2}:\n",
       " 0.9  0.1\n",
       " 0.1  0.9"
      ]
     },
     "execution_count": 48,
     "metadata": {},
     "output_type": "execute_result"
    }
   ],
   "source": [
    "p = Dict{Symbol,Float64}()\n",
    "p[:α] = 0.3 # labour share\n",
    "p[:β] = 0.96   ## 1/rf\n",
    "Ah = 1.05\n",
    "Al = 0.95\n",
    "K_max = (1/(β*α*Ah))^(1/(α-1))+0.05\n",
    "K_min = (1/(β*α*Al))^(1/(α-1))-0.05\n",
    "\n",
    "N = 100\n",
    "K_grid = range(K_min, K_max; length=N)     # linspace\n",
    "\n",
    "A = [0.95, 1.05]\n",
    "Π = [0.9 0.1; 0.1 0.9]"
   ]
  },
  {
   "cell_type": "code",
   "execution_count": 49,
   "metadata": {},
   "outputs": [
    {
     "name": "stdout",
     "output_type": "stream",
     "text": [
      "  0.089173 seconds (58.84 k allocations: 2.933 MiB)\n"
     ]
    }
   ],
   "source": [
    "# let's see how our new Bellman_update version compares\n",
    "V0 = [collect(K_grid)*0 for i=1:2]\n",
    "P0 = deepcopy(V0)\n",
    "V1 = deepcopy(V0)\n",
    "@time Bellman_step!(V1, P0, V0, A, Π, K_grid, p::Dict{Symbol, Float64});"
   ]
  },
  {
   "cell_type": "markdown",
   "metadata": {},
   "source": [
    "Nice! Now the function doesn't do any allocation anymore.\n",
    "\n",
    "Let's update the FixedPoint function to reflect the new arguments of `Bellman_update`."
   ]
  },
  {
   "cell_type": "code",
   "execution_count": 50,
   "metadata": {},
   "outputs": [
    {
     "data": {
      "text/plain": [
       "StepRangeLen{Float64,Base.TwicePrecision{Float64},Base.TwicePrecision{Float64}}"
      ]
     },
     "execution_count": 50,
     "metadata": {},
     "output_type": "execute_result"
    }
   ],
   "source": [
    "typeof(K_grid)"
   ]
  },
  {
   "cell_type": "code",
   "execution_count": 55,
   "metadata": {},
   "outputs": [
    {
     "data": {
      "text/plain": [
       "FixedPoint (generic function with 2 methods)"
      ]
     },
     "execution_count": 55,
     "metadata": {},
     "output_type": "execute_result"
    }
   ],
   "source": [
    "function FixedPoint(V0, A, Π, grid_K, p; T=1000, tol_η=1e-6, verbose=true, keep_history=false, out=nothing)\n",
    "     # let's allocate the memory once for all\n",
    "    \n",
    "    if typeof(out) <: Nothing\n",
    "        V0 = deepcopy(V0)\n",
    "        V = deepcopy(V0)\n",
    "        P = deepcopy(V0)\n",
    "    else\n",
    "        V0,V,P = out\n",
    "    end\n",
    "    \n",
    "    η_0 = 1.0::Float64\n",
    "    \n",
    "    for t=1:T\n",
    "        \n",
    "        Bellman_step!(V, P, V0,  A, Π, grid_K, p)\n",
    "        \n",
    "        η = distance(V,V0)\n",
    "        if verbose\n",
    "            println(\"SA: \\t\", η, \"\\tSA/SA(-1): \", η/η_0)\n",
    "        end\n",
    "\n",
    "        V0[1][:] .= V[1]\n",
    "        V0[2][:] .= V[2]\n",
    "\n",
    "        if η<tol_η\n",
    "            break\n",
    "        end\n",
    "        \n",
    "        η_0 = η\n",
    "        \n",
    "    end\n",
    "    \n",
    "    return V0, P\n",
    "end"
   ]
  },
  {
   "cell_type": "code",
   "execution_count": 59,
   "metadata": {},
   "outputs": [
    {
     "name": "stdout",
     "output_type": "stream",
     "text": [
      "  0.110033 seconds (2.04 k allocations: 64.578 KiB)\n"
     ]
    },
    {
     "data": {
      "text/plain": [
       "([[-22.368343775590464, -22.363432392166736, -22.358577378137383, -22.35378430220893, -22.349037658018506, -22.34434730476445, -22.33971394936853, -22.33512169729102, -22.330584885488904, -22.32609105962965  …  -22.06491275901476, -22.062518563949173, -22.060133308221435, -22.05776239029409, -22.055406335739537, -22.05306496553989, -22.0507360070949, -22.04841679584778, -22.046111806908133, -22.043820872695065], [-21.762449883537457, -21.757544629657726, -21.752687343083107, -21.747891532406943, -21.74314710942753, -21.738455691278453, -21.733822142438548, -21.729230520236356, -21.724694215361506, -21.720199949805362  …  -21.459022575299514, -21.456625606690768, -21.45424383246752, -21.451874984298417, -21.449516864558635, -21.44717344686409, -21.444844555109007, -21.442529358343773, -21.440222996020122, -21.437930699932302]], [[0.13959279793286314, 0.1408466384783215, 0.1408466384783215, 0.1408466384783215, 0.14210047902377987, 0.14210047902377987, 0.14335431956923822, 0.14335431956923822, 0.14335431956923822, 0.1446081601146966  …  0.173446492660239, 0.173446492660239, 0.17470033320569736, 0.17470033320569736, 0.17470033320569736, 0.17470033320569736, 0.17595417375115574, 0.17595417375115574, 0.17595417375115574, 0.17595417375115574], [0.15463888447836352, 0.15463888447836352, 0.15589272502382187, 0.15589272502382187, 0.15714656556928025, 0.15714656556928025, 0.15714656556928025, 0.1584004061147386, 0.1584004061147386, 0.15965424666019698  …  0.19225410084211447, 0.19225410084211447, 0.19225410084211447, 0.19350794138757285, 0.19350794138757285, 0.19350794138757285, 0.19350794138757285, 0.1947617819330312, 0.1947617819330312, 0.1947617819330312]])"
      ]
     },
     "execution_count": 59,
     "metadata": {},
     "output_type": "execute_result"
    }
   ],
   "source": [
    "FixedPoint(V0, A, Π, K_grid, p; verbose=false)\n",
    "@time FixedPoint(V0, A, Π, K_grid,  p; verbose=false)"
   ]
  },
  {
   "cell_type": "markdown",
   "metadata": {},
   "source": [
    "0.34 seconds: *That* is much better ! To be more precise, we can check pass the solution arrays as arguments so they won't be allocated."
   ]
  },
  {
   "cell_type": "code",
   "execution_count": 61,
   "metadata": {},
   "outputs": [
    {
     "name": "stdout",
     "output_type": "stream",
     "text": [
      "  0.142634 seconds (2.02 k allocations: 58.016 KiB)\n"
     ]
    },
    {
     "data": {
      "text/plain": [
       "([[-22.368343931569044, -22.36343254814532, -22.358577534115966, -22.353784458187512, -22.349037813997086, -22.34434746074303, -22.339714105347113, -22.3351218532696, -22.330585041467486, -22.326091215608233  …  -22.064912914993343, -22.062518719927755, -22.060133464200014, -22.05776254627267, -22.055406491718117, -22.05306512151847, -22.050736163073477, -22.048416951826354, -22.04611196288671, -22.04382102867364], [-21.762450039516036, -21.757544785636306, -21.752687499061683, -21.74789168838552, -21.743147265406108, -21.738455847257033, -21.733822298417124, -21.729230676214936, -21.724694371340085, -21.720200105783945  …  -21.459022731278097, -21.456625762669347, -21.4542439884461, -21.451875140276993, -21.44951702053721, -21.447173602842668, -21.444844711087583, -21.44252951432235, -21.440223151998698, -21.437930855910878]], [[0.13959279793286314, 0.1408466384783215, 0.1408466384783215, 0.1408466384783215, 0.14210047902377987, 0.14210047902377987, 0.14335431956923822, 0.14335431956923822, 0.14335431956923822, 0.1446081601146966  …  0.173446492660239, 0.173446492660239, 0.17470033320569736, 0.17470033320569736, 0.17470033320569736, 0.17470033320569736, 0.17595417375115574, 0.17595417375115574, 0.17595417375115574, 0.17595417375115574], [0.15463888447836352, 0.15463888447836352, 0.15589272502382187, 0.15589272502382187, 0.15714656556928025, 0.15714656556928025, 0.15714656556928025, 0.1584004061147386, 0.1584004061147386, 0.15965424666019698  …  0.19225410084211447, 0.19225410084211447, 0.19225410084211447, 0.19350794138757285, 0.19350794138757285, 0.19350794138757285, 0.19350794138757285, 0.1947617819330312, 0.1947617819330312, 0.1947617819330312]])"
      ]
     },
     "execution_count": 61,
     "metadata": {},
     "output_type": "execute_result"
    }
   ],
   "source": [
    "# we pass\n",
    "V0 = [collect(K_grid)*0 for i=1:2]\n",
    "P0 = deepcopy(V0)\n",
    "V1 = deepcopy(V0)\n",
    "out = (V1, P0, V0)\n",
    "@time FixedPoint(V0, A, Π, K_grid, p; verbose=false, out=out)"
   ]
  },
  {
   "cell_type": "markdown",
   "metadata": {},
   "source": [
    "Note: the remaining allocations are due to the function `distance`, which allocates a Float64 for its output."
   ]
  },
  {
   "cell_type": "markdown",
   "metadata": {},
   "source": [
    "__Policy iteration__"
   ]
  },
  {
   "cell_type": "markdown",
   "metadata": {},
   "source": [
    "It is possible to get faster convergence by using policy iterations. This generic algorithm is sketched as follows:\n",
    "\n",
    "- choose an initial value function $V_0$\n",
    "- given a value function $V_k$\n",
    "    - perform an improvement step by computing $$\\max_{P_{k+1}} U() + E[ \\beta V_{k} ]$$ and keeping only $P_{k+1}$\n",
    "    - evaluate the policy $P_{k+1}$ by finding $V_{k+1}$ such that: \n",
    "    $$V_{k+1} =  U() + E[ \\beta V_{k+1} ]$$ where the right hand side is evaluated using policy $P_{k+1}$\n",
    "- repeat step 2 until $|V_{k+1} - V_k| < \\epsilon$\n",
    "    "
   ]
  },
  {
   "cell_type": "markdown",
   "metadata": {},
   "source": [
    "We have already computed the improvement function. "
   ]
  }
 ],
 "metadata": {
  "kernelspec": {
   "display_name": "Julia 1.4.2",
   "language": "julia",
   "name": "julia-1.4"
  },
  "language_info": {
   "file_extension": ".jl",
   "mimetype": "application/julia",
   "name": "julia",
   "version": "1.4.2"
  }
 },
 "nbformat": 4,
 "nbformat_minor": 4
}
