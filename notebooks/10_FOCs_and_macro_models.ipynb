{
 "cells": [
  {
   "cell_type": "markdown",
   "metadata": {},
   "source": [
    "# First order conditions and macro models"
   ]
  },
  {
   "cell_type": "markdown",
   "metadata": {},
   "source": [
    "## Perturbation of Neoclassical Growth model and Blanchard-Kahn conditions\n",
    "\n",
    "\n",
    "A representative agent uses capital $k_t$ to produce $y_t$ using the following production function:\n",
    "\n",
    "$$y_t = k_t^{\\alpha}$$\n",
    "\n",
    "He chooses to consume an amount $c_t \\in ]0, y_t]$ and invests what remains:\n",
    "\n",
    "$$i_t = y_t - c_t$$.\n",
    "\n",
    "He accumulates capital $k_t$ according to:\n",
    "\n",
    "$$k_{t+1} = \\left( 1-\\delta \\right) k_{t} + i_{t}$$\n",
    "\n",
    "where $\\delta$ is the depreciation rate and $i_t$ is the amount invested.\n",
    "\n",
    "The goal of the representative agent is to maximize:\n",
    "\n",
    "$$\\sum_{t\\geq 0} \\beta^t U(c_t)$$\n",
    "\n",
    "where $U(x)=\\frac{x^{1-\\gamma}}{1-\\gamma}$ and $\\beta<1$ is the discount factor.\n"
   ]
  },
  {
   "cell_type": "markdown",
   "metadata": {},
   "source": [
    "__Compute the first order conditions and the steady-state__"
   ]
  },
  {
   "cell_type": "code",
   "execution_count": null,
   "metadata": {},
   "outputs": [],
   "source": []
  },
  {
   "cell_type": "markdown",
   "metadata": {},
   "source": [
    "__We'll assume the decision rule is $k_{t+1} = \\varphi(k_t)$ where $\\varphi$ is a function to be determined. What is the functional equation satisfied by $\\varphi$?__"
   ]
  },
  {
   "cell_type": "code",
   "execution_count": null,
   "metadata": {},
   "outputs": [],
   "source": []
  },
  {
   "cell_type": "markdown",
   "metadata": {},
   "source": [
    "__At the steady-state $\\overline{k} = \\varphi(\\overline{k})$. We want to characterize the first order coefficient: $\\varphi_0$ such that $\\varphi(k) = \\overline{k} + \\varphi_0 (k-\\overline{k}) + o(k-\\overline{k})$. Show that $\\varphi_0$ satisfies a second order equation.__"
   ]
  },
  {
   "cell_type": "code",
   "execution_count": null,
   "metadata": {},
   "outputs": [],
   "source": []
  },
  {
   "cell_type": "markdown",
   "metadata": {},
   "source": [
    "__Find the roots of these equations and discuss stability ($|\\varphi_0|<1$) and unicity. By definition, a linear model satisfies the \"Blanchard-Kahn\" condition if there is a unique stable solution.__"
   ]
  },
  {
   "cell_type": "code",
   "execution_count": null,
   "metadata": {},
   "outputs": [],
   "source": []
  },
  {
   "cell_type": "markdown",
   "metadata": {},
   "source": [
    "## RBC and Business Cycles"
   ]
  },
  {
   "cell_type": "markdown",
   "metadata": {},
   "source": [
    "__Using US data until 2007, measure the business cycle covariances between investment, consumption, production. DBNomics.jl can be used to download data. Data should be detrended using the HP filter.__"
   ]
  },
  {
   "cell_type": "code",
   "execution_count": null,
   "metadata": {},
   "outputs": [],
   "source": []
  },
  {
   "cell_type": "markdown",
   "metadata": {},
   "source": [
    "__Use Dolo.jl and the `rbc_iid.yaml` model to solve the RBC model. Use development version of Dolo (`dev Dolo`). Plot decision rule. Simulate the model and compare the moments to the data.__"
   ]
  },
  {
   "cell_type": "code",
   "execution_count": null,
   "metadata": {},
   "outputs": [],
   "source": []
  },
  {
   "cell_type": "markdown",
   "metadata": {},
   "source": [
    "__Starting from the risky steady-state, compute the impulse response function for a tfp shock. Do you expect consumption to rise or diminish?__"
   ]
  },
  {
   "cell_type": "code",
   "execution_count": null,
   "metadata": {},
   "outputs": [],
   "source": []
  },
  {
   "cell_type": "markdown",
   "metadata": {},
   "source": [
    "## New Keynesian Model"
   ]
  },
  {
   "cell_type": "markdown",
   "metadata": {},
   "source": [
    "We consider the following version of the New-Keynesian model.\n",
    "\n",
    "Phillips Curve:\n",
    "\n",
    "$$\\pi_t = \\beta E_t \\left[ \\pi_{t+1} \\right] + \\kappa y_t $$\n",
    "\n",
    "IS Curve:\n",
    "\n",
    "$$y_t = y_{t+1} + \\frac{1}{\\sigma}(i_t - E_t\\left[ \\pi_{t+1}\\right] ) + \\nu_t$$\n",
    "\n",
    "Taylor Rule:\n",
    "\n",
    "$$i_t = \\pi_t + r^{\\star}_t + \\alpha_{\\pi} \\left( \\pi_t - \\pi_t^{\\star} \\right) + \\alpha_y (y_t - y^{\\star}_t)$$\n",
    "\n",
    "\n",
    "Variables:\n",
    "\n",
    "- $\\pi_t$: inflation\n",
    "- $y_t$: production (log-deviation)\n",
    "- $i_t$: inflation\n",
    "\n",
    "Meaning of the parameters:\n",
    "\n",
    "- $\\beta=0.01$: discount rate\n",
    "- targeted values (all 0 here): $r^{\\star}_t$, $\\pi^{\\star}_t$, $y_t^{\\star}$\n",
    "- $\\kappa$: response of inflation to output (depends on price adjustment)\n",
    "    - $\\kappa = \\frac{h(1-(1-h)\\beta)}{1-h}$\n",
    "    - $h$ is probability of price adjustment (flexibility)\n"
   ]
  },
  {
   "cell_type": "markdown",
   "metadata": {},
   "source": [
    "__Suppose $\\nu_t$ is i.i.d. Find matrices $P$ such that $\\begin{bmatrix} \\pi_t \\\\ y_t \\end{bmatrix} = P \\begin{bmatrix} \\pi_{t+1} \\\\ y_{t+1} \\end{bmatrix} + \\begin{bmatrix} 0 \\\\ \\nu_t\\end{bmatrix}$. When is $\\pi_t$ well defined ?__"
   ]
  },
  {
   "cell_type": "code",
   "execution_count": null,
   "metadata": {},
   "outputs": [],
   "source": []
  },
  {
   "cell_type": "markdown",
   "metadata": {},
   "source": [
    "__Now suppose $\\nu_t$ is an autocorrelated process $\\nu_t = \\rho \\nu_{t-1} + \\epsilon_t$. Now inflation and output depend on a state, that is $\\pi_t=\\pi(\\nu_t)$ and $y_t=y(\\nu_t)$ where $\\pi(x)=\\pi_1 x$ and $y(x) = y_1 x$ are both linear functions. Write does the conditions, which $\\pi_1$ and $y_1$ must satisfy. When are these values well determined?__"
   ]
  },
  {
   "cell_type": "code",
   "execution_count": null,
   "metadata": {},
   "outputs": [],
   "source": []
  }
 ],
 "metadata": {
  "kernelspec": {
   "display_name": "Julia 1.4.1",
   "language": "julia",
   "name": "julia-1.4"
  },
  "language_info": {
   "file_extension": ".jl",
   "mimetype": "application/julia",
   "name": "julia",
   "version": "1.4.1"
  }
 },
 "nbformat": 4,
 "nbformat_minor": 4
}
